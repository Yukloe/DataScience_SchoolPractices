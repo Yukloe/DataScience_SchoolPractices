{
 "cells": [
  {
   "cell_type": "code",
   "execution_count": 3,
   "metadata": {
    "collapsed": true,
    "pycharm": {
     "name": "#%%\n"
    }
   },
   "outputs": [],
   "source": [
    "import numpy as np\n",
    "import pandas as pd\n",
    "import csv"
   ]
  },
  {
   "cell_type": "markdown",
   "source": [
    "Exercice 1 : Iris\n",
    "\n",
    "La collection des iris de Fisher est probablement l’une des plus célèbres dans le domaine de la\n",
    "reconnaissance de formes. Bien qu’ancienne, elle continue de faire référence dans le domaine.\n",
    "Le corpus consigne des mesures biométriques relevées sur des échantillons végétaux de type\n",
    "iris :\n",
    "1. longueur du sépale (en centimètres)\n",
    "2. largeur du sépale (en centimètres)\n",
    "3. longueur du pétale (en centimètres)\n",
    "4. largeur du pétale (en centimètres)\n",
    "Les 150 individus de la base sont répartis en trois classes équilibrées (50 individus dans\n",
    "chaque catégorie) correspondant à trois espèces florales : iris setosa, iris versicolor et iris\n",
    "virginica. La classe setosa est linéairement séparable des deux autres, alors que versicolor et\n",
    "virginica ne le sont pas entre elles."
   ],
   "metadata": {
    "collapsed": false,
    "pycharm": {
     "name": "#%% md\n"
    }
   }
  },
  {
   "cell_type": "markdown",
   "source": [
    "1. Télécharger le fichier et importer les lignes du fichier Iris.data"
   ],
   "metadata": {
    "collapsed": false,
    "pycharm": {
     "name": "#%% md\n"
    }
   }
  },
  {
   "cell_type": "code",
   "execution_count": 1,
   "outputs": [],
   "source": [
    "irisData = open(\"iris.data.csv\", \"r\")"
   ],
   "metadata": {
    "collapsed": false,
    "pycharm": {
     "name": "#%%\n"
    }
   }
  },
  {
   "cell_type": "code",
   "execution_count": 2,
   "outputs": [
    {
     "name": "stdout",
     "output_type": "stream",
     "text": [
      "5.1,3.5,1.4,0.2,Iris-setosa\n",
      "4.9,3.0,1.4,0.2,Iris-setosa\n",
      "4.7,3.2,1.3,0.2,Iris-setosa\n",
      "4.6,3.1,1.5,0.2,Iris-setosa\n",
      "5.0,3.6,1.4,0.2,Iris-setosa\n",
      "5.4,3.9,1.7,0.4,Iris-setosa\n",
      "4.6,3.4,1.4,0.3,Iris-setosa\n",
      "5.0,3.4,1.5,0.2,Iris-setosa\n",
      "4.4,2.9,1.4,0.2,Iris-setosa\n",
      "4.9,3.1,1.5,0.1,Iris-setosa\n",
      "5.4,3.7,1.5,0.2,Iris-setosa\n",
      "4.8,3.4,1.6,0.2,Iris-setosa\n",
      "4.8,3.0,1.4,0.1,Iris-setosa\n",
      "4.3,3.0,1.1,0.1,Iris-setosa\n",
      "5.8,4.0,1.2,0.2,Iris-setosa\n",
      "5.7,4.4,1.5,0.4,Iris-setosa\n",
      "5.4,3.9,1.3,0.4,Iris-setosa\n",
      "5.1,3.5,1.4,0.3,Iris-setosa\n",
      "5.7,3.8,1.7,0.3,Iris-setosa\n",
      "5.1,3.8,1.5,0.3,Iris-setosa\n",
      "5.4,3.4,1.7,0.2,Iris-setosa\n",
      "5.1,3.7,1.5,0.4,Iris-setosa\n",
      "4.6,3.6,1.0,0.2,Iris-setosa\n",
      "5.1,3.3,1.7,0.5,Iris-setosa\n",
      "4.8,3.4,1.9,0.2,Iris-setosa\n",
      "5.0,3.0,1.6,0.2,Iris-setosa\n",
      "5.0,3.4,1.6,0.4,Iris-setosa\n",
      "5.2,3.5,1.5,0.2,Iris-setosa\n",
      "5.2,3.4,1.4,0.2,Iris-setosa\n",
      "4.7,3.2,1.6,0.2,Iris-setosa\n",
      "4.8,3.1,1.6,0.2,Iris-setosa\n",
      "5.4,3.4,1.5,0.4,Iris-setosa\n",
      "5.2,4.1,1.5,0.1,Iris-setosa\n",
      "5.5,4.2,1.4,0.2,Iris-setosa\n",
      "4.9,3.1,1.5,0.1,Iris-setosa\n",
      "5.0,3.2,1.2,0.2,Iris-setosa\n",
      "5.5,3.5,1.3,0.2,Iris-setosa\n",
      "4.9,3.1,1.5,0.1,Iris-setosa\n",
      "4.4,3.0,1.3,0.2,Iris-setosa\n",
      "5.1,3.4,1.5,0.2,Iris-setosa\n",
      "5.0,3.5,1.3,0.3,Iris-setosa\n",
      "4.5,2.3,1.3,0.3,Iris-setosa\n",
      "4.4,3.2,1.3,0.2,Iris-setosa\n",
      "5.0,3.5,1.6,0.6,Iris-setosa\n",
      "5.1,3.8,1.9,0.4,Iris-setosa\n",
      "4.8,3.0,1.4,0.3,Iris-setosa\n",
      "5.1,3.8,1.6,0.2,Iris-setosa\n",
      "4.6,3.2,1.4,0.2,Iris-setosa\n",
      "5.3,3.7,1.5,0.2,Iris-setosa\n",
      "5.0,3.3,1.4,0.2,Iris-setosa\n",
      "7.0,3.2,4.7,1.4,Iris-versicolor\n",
      "6.4,3.2,4.5,1.5,Iris-versicolor\n",
      "6.9,3.1,4.9,1.5,Iris-versicolor\n",
      "5.5,2.3,4.0,1.3,Iris-versicolor\n",
      "6.5,2.8,4.6,1.5,Iris-versicolor\n",
      "5.7,2.8,4.5,1.3,Iris-versicolor\n",
      "6.3,3.3,4.7,1.6,Iris-versicolor\n",
      "4.9,2.4,3.3,1.0,Iris-versicolor\n",
      "6.6,2.9,4.6,1.3,Iris-versicolor\n",
      "5.2,2.7,3.9,1.4,Iris-versicolor\n",
      "5.0,2.0,3.5,1.0,Iris-versicolor\n",
      "5.9,3.0,4.2,1.5,Iris-versicolor\n",
      "6.0,2.2,4.0,1.0,Iris-versicolor\n",
      "6.1,2.9,4.7,1.4,Iris-versicolor\n",
      "5.6,2.9,3.6,1.3,Iris-versicolor\n",
      "6.7,3.1,4.4,1.4,Iris-versicolor\n",
      "5.6,3.0,4.5,1.5,Iris-versicolor\n",
      "5.8,2.7,4.1,1.0,Iris-versicolor\n",
      "6.2,2.2,4.5,1.5,Iris-versicolor\n",
      "5.6,2.5,3.9,1.1,Iris-versicolor\n",
      "5.9,3.2,4.8,1.8,Iris-versicolor\n",
      "6.1,2.8,4.0,1.3,Iris-versicolor\n",
      "6.3,2.5,4.9,1.5,Iris-versicolor\n",
      "6.1,2.8,4.7,1.2,Iris-versicolor\n",
      "6.4,2.9,4.3,1.3,Iris-versicolor\n",
      "6.6,3.0,4.4,1.4,Iris-versicolor\n",
      "6.8,2.8,4.8,1.4,Iris-versicolor\n",
      "6.7,3.0,5.0,1.7,Iris-versicolor\n",
      "6.0,2.9,4.5,1.5,Iris-versicolor\n",
      "5.7,2.6,3.5,1.0,Iris-versicolor\n",
      "5.5,2.4,3.8,1.1,Iris-versicolor\n",
      "5.5,2.4,3.7,1.0,Iris-versicolor\n",
      "5.8,2.7,3.9,1.2,Iris-versicolor\n",
      "6.0,2.7,5.1,1.6,Iris-versicolor\n",
      "5.4,3.0,4.5,1.5,Iris-versicolor\n",
      "6.0,3.4,4.5,1.6,Iris-versicolor\n",
      "6.7,3.1,4.7,1.5,Iris-versicolor\n",
      "6.3,2.3,4.4,1.3,Iris-versicolor\n",
      "5.6,3.0,4.1,1.3,Iris-versicolor\n",
      "5.5,2.5,4.0,1.3,Iris-versicolor\n",
      "5.5,2.6,4.4,1.2,Iris-versicolor\n",
      "6.1,3.0,4.6,1.4,Iris-versicolor\n",
      "5.8,2.6,4.0,1.2,Iris-versicolor\n",
      "5.0,2.3,3.3,1.0,Iris-versicolor\n",
      "5.6,2.7,4.2,1.3,Iris-versicolor\n",
      "5.7,3.0,4.2,1.2,Iris-versicolor\n",
      "5.7,2.9,4.2,1.3,Iris-versicolor\n",
      "6.2,2.9,4.3,1.3,Iris-versicolor\n",
      "5.1,2.5,3.0,1.1,Iris-versicolor\n",
      "5.7,2.8,4.1,1.3,Iris-versicolor\n",
      "6.3,3.3,6.0,2.5,Iris-virginica\n",
      "5.8,2.7,5.1,1.9,Iris-virginica\n",
      "7.1,3.0,5.9,2.1,Iris-virginica\n",
      "6.3,2.9,5.6,1.8,Iris-virginica\n",
      "6.5,3.0,5.8,2.2,Iris-virginica\n",
      "7.6,3.0,6.6,2.1,Iris-virginica\n",
      "4.9,2.5,4.5,1.7,Iris-virginica\n",
      "7.3,2.9,6.3,1.8,Iris-virginica\n",
      "6.7,2.5,5.8,1.8,Iris-virginica\n",
      "7.2,3.6,6.1,2.5,Iris-virginica\n",
      "6.5,3.2,5.1,2.0,Iris-virginica\n",
      "6.4,2.7,5.3,1.9,Iris-virginica\n",
      "6.8,3.0,5.5,2.1,Iris-virginica\n",
      "5.7,2.5,5.0,2.0,Iris-virginica\n",
      "5.8,2.8,5.1,2.4,Iris-virginica\n",
      "6.4,3.2,5.3,2.3,Iris-virginica\n",
      "6.5,3.0,5.5,1.8,Iris-virginica\n",
      "7.7,3.8,6.7,2.2,Iris-virginica\n",
      "7.7,2.6,6.9,2.3,Iris-virginica\n",
      "6.0,2.2,5.0,1.5,Iris-virginica\n",
      "6.9,3.2,5.7,2.3,Iris-virginica\n",
      "5.6,2.8,4.9,2.0,Iris-virginica\n",
      "7.7,2.8,6.7,2.0,Iris-virginica\n",
      "6.3,2.7,4.9,1.8,Iris-virginica\n",
      "6.7,3.3,5.7,2.1,Iris-virginica\n",
      "7.2,3.2,6.0,1.8,Iris-virginica\n",
      "6.2,2.8,4.8,1.8,Iris-virginica\n",
      "6.1,3.0,4.9,1.8,Iris-virginica\n",
      "6.4,2.8,5.6,2.1,Iris-virginica\n",
      "7.2,3.0,5.8,1.6,Iris-virginica\n",
      "7.4,2.8,6.1,1.9,Iris-virginica\n",
      "7.9,3.8,6.4,2.0,Iris-virginica\n",
      "6.4,2.8,5.6,2.2,Iris-virginica\n",
      "6.3,2.8,5.1,1.5,Iris-virginica\n",
      "6.1,2.6,5.6,1.4,Iris-virginica\n",
      "7.7,3.0,6.1,2.3,Iris-virginica\n",
      "6.3,3.4,5.6,2.4,Iris-virginica\n",
      "6.4,3.1,5.5,1.8,Iris-virginica\n",
      "6.0,3.0,4.8,1.8,Iris-virginica\n",
      "6.9,3.1,5.4,2.1,Iris-virginica\n",
      "6.7,3.1,5.6,2.4,Iris-virginica\n",
      "6.9,3.1,5.1,2.3,Iris-virginica\n",
      "5.8,2.7,5.1,1.9,Iris-virginica\n",
      "6.8,3.2,5.9,2.3,Iris-virginica\n",
      "6.7,3.3,5.7,2.5,Iris-virginica\n",
      "6.7,3.0,5.2,2.3,Iris-virginica\n",
      "6.3,2.5,5.0,1.9,Iris-virginica\n",
      "6.5,3.0,5.2,2.0,Iris-virginica\n",
      "6.2,3.4,5.4,2.3,Iris-virginica\n",
      "5.9,3.0,5.1,1.8,Iris-virginica\n",
      "\n",
      "\n"
     ]
    }
   ],
   "source": [
    "print(irisData.read())"
   ],
   "metadata": {
    "collapsed": false,
    "pycharm": {
     "name": "#%%\n"
    }
   }
  },
  {
   "cell_type": "markdown",
   "source": [
    "2. A partir de la liste de chaînes obtenue, créer une liste de 151 listes. Chaque sous-liste\n",
    "contiendra les 5 informations présentes sur chaque ligne (séparées par des \";\").\n",
    "Supprimer les quotes (\"'\") et le caractère de fin de ligne (\"\\n\")."
   ],
   "metadata": {
    "collapsed": false,
    "pycharm": {
     "name": "#%% md\n"
    }
   }
  },
  {
   "cell_type": "code",
   "execution_count": 15,
   "outputs": [],
   "source": [
    "irisList = [[\"longueur du sépale\", \"largeur du sépale\", \"longueur du pétale\", \"largeur du pétale\", \"espèce de fleur\"]]\n",
    "\n",
    "with open('iris.data.csv', newline='') as csvfile:\n",
    "    reader = csv.reader(csvfile, delimiter=',')\n",
    "    for ligne in reader:\n",
    "        irisList.append(ligne)"
   ],
   "metadata": {
    "collapsed": false,
    "pycharm": {
     "name": "#%%\n"
    }
   }
  },
  {
   "cell_type": "code",
   "execution_count": 16,
   "outputs": [
    {
     "name": "stdout",
     "output_type": "stream",
     "text": [
      "[['longueur du sépale', 'largeur du sépale', 'longueur du pétale', 'largeur du pétale', 'espèce de fleur'], ['5.1', '3.5', '1.4', '0.2', 'Iris-setosa'], ['4.9', '3.0', '1.4', '0.2', 'Iris-setosa'], ['4.7', '3.2', '1.3', '0.2', 'Iris-setosa'], ['4.6', '3.1', '1.5', '0.2', 'Iris-setosa'], ['5.0', '3.6', '1.4', '0.2', 'Iris-setosa'], ['5.4', '3.9', '1.7', '0.4', 'Iris-setosa'], ['4.6', '3.4', '1.4', '0.3', 'Iris-setosa'], ['5.0', '3.4', '1.5', '0.2', 'Iris-setosa'], ['4.4', '2.9', '1.4', '0.2', 'Iris-setosa'], ['4.9', '3.1', '1.5', '0.1', 'Iris-setosa'], ['5.4', '3.7', '1.5', '0.2', 'Iris-setosa'], ['4.8', '3.4', '1.6', '0.2', 'Iris-setosa'], ['4.8', '3.0', '1.4', '0.1', 'Iris-setosa'], ['4.3', '3.0', '1.1', '0.1', 'Iris-setosa'], ['5.8', '4.0', '1.2', '0.2', 'Iris-setosa'], ['5.7', '4.4', '1.5', '0.4', 'Iris-setosa'], ['5.4', '3.9', '1.3', '0.4', 'Iris-setosa'], ['5.1', '3.5', '1.4', '0.3', 'Iris-setosa'], ['5.7', '3.8', '1.7', '0.3', 'Iris-setosa'], ['5.1', '3.8', '1.5', '0.3', 'Iris-setosa'], ['5.4', '3.4', '1.7', '0.2', 'Iris-setosa'], ['5.1', '3.7', '1.5', '0.4', 'Iris-setosa'], ['4.6', '3.6', '1.0', '0.2', 'Iris-setosa'], ['5.1', '3.3', '1.7', '0.5', 'Iris-setosa'], ['4.8', '3.4', '1.9', '0.2', 'Iris-setosa'], ['5.0', '3.0', '1.6', '0.2', 'Iris-setosa'], ['5.0', '3.4', '1.6', '0.4', 'Iris-setosa'], ['5.2', '3.5', '1.5', '0.2', 'Iris-setosa'], ['5.2', '3.4', '1.4', '0.2', 'Iris-setosa'], ['4.7', '3.2', '1.6', '0.2', 'Iris-setosa'], ['4.8', '3.1', '1.6', '0.2', 'Iris-setosa'], ['5.4', '3.4', '1.5', '0.4', 'Iris-setosa'], ['5.2', '4.1', '1.5', '0.1', 'Iris-setosa'], ['5.5', '4.2', '1.4', '0.2', 'Iris-setosa'], ['4.9', '3.1', '1.5', '0.1', 'Iris-setosa'], ['5.0', '3.2', '1.2', '0.2', 'Iris-setosa'], ['5.5', '3.5', '1.3', '0.2', 'Iris-setosa'], ['4.9', '3.1', '1.5', '0.1', 'Iris-setosa'], ['4.4', '3.0', '1.3', '0.2', 'Iris-setosa'], ['5.1', '3.4', '1.5', '0.2', 'Iris-setosa'], ['5.0', '3.5', '1.3', '0.3', 'Iris-setosa'], ['4.5', '2.3', '1.3', '0.3', 'Iris-setosa'], ['4.4', '3.2', '1.3', '0.2', 'Iris-setosa'], ['5.0', '3.5', '1.6', '0.6', 'Iris-setosa'], ['5.1', '3.8', '1.9', '0.4', 'Iris-setosa'], ['4.8', '3.0', '1.4', '0.3', 'Iris-setosa'], ['5.1', '3.8', '1.6', '0.2', 'Iris-setosa'], ['4.6', '3.2', '1.4', '0.2', 'Iris-setosa'], ['5.3', '3.7', '1.5', '0.2', 'Iris-setosa'], ['5.0', '3.3', '1.4', '0.2', 'Iris-setosa'], ['7.0', '3.2', '4.7', '1.4', 'Iris-versicolor'], ['6.4', '3.2', '4.5', '1.5', 'Iris-versicolor'], ['6.9', '3.1', '4.9', '1.5', 'Iris-versicolor'], ['5.5', '2.3', '4.0', '1.3', 'Iris-versicolor'], ['6.5', '2.8', '4.6', '1.5', 'Iris-versicolor'], ['5.7', '2.8', '4.5', '1.3', 'Iris-versicolor'], ['6.3', '3.3', '4.7', '1.6', 'Iris-versicolor'], ['4.9', '2.4', '3.3', '1.0', 'Iris-versicolor'], ['6.6', '2.9', '4.6', '1.3', 'Iris-versicolor'], ['5.2', '2.7', '3.9', '1.4', 'Iris-versicolor'], ['5.0', '2.0', '3.5', '1.0', 'Iris-versicolor'], ['5.9', '3.0', '4.2', '1.5', 'Iris-versicolor'], ['6.0', '2.2', '4.0', '1.0', 'Iris-versicolor'], ['6.1', '2.9', '4.7', '1.4', 'Iris-versicolor'], ['5.6', '2.9', '3.6', '1.3', 'Iris-versicolor'], ['6.7', '3.1', '4.4', '1.4', 'Iris-versicolor'], ['5.6', '3.0', '4.5', '1.5', 'Iris-versicolor'], ['5.8', '2.7', '4.1', '1.0', 'Iris-versicolor'], ['6.2', '2.2', '4.5', '1.5', 'Iris-versicolor'], ['5.6', '2.5', '3.9', '1.1', 'Iris-versicolor'], ['5.9', '3.2', '4.8', '1.8', 'Iris-versicolor'], ['6.1', '2.8', '4.0', '1.3', 'Iris-versicolor'], ['6.3', '2.5', '4.9', '1.5', 'Iris-versicolor'], ['6.1', '2.8', '4.7', '1.2', 'Iris-versicolor'], ['6.4', '2.9', '4.3', '1.3', 'Iris-versicolor'], ['6.6', '3.0', '4.4', '1.4', 'Iris-versicolor'], ['6.8', '2.8', '4.8', '1.4', 'Iris-versicolor'], ['6.7', '3.0', '5.0', '1.7', 'Iris-versicolor'], ['6.0', '2.9', '4.5', '1.5', 'Iris-versicolor'], ['5.7', '2.6', '3.5', '1.0', 'Iris-versicolor'], ['5.5', '2.4', '3.8', '1.1', 'Iris-versicolor'], ['5.5', '2.4', '3.7', '1.0', 'Iris-versicolor'], ['5.8', '2.7', '3.9', '1.2', 'Iris-versicolor'], ['6.0', '2.7', '5.1', '1.6', 'Iris-versicolor'], ['5.4', '3.0', '4.5', '1.5', 'Iris-versicolor'], ['6.0', '3.4', '4.5', '1.6', 'Iris-versicolor'], ['6.7', '3.1', '4.7', '1.5', 'Iris-versicolor'], ['6.3', '2.3', '4.4', '1.3', 'Iris-versicolor'], ['5.6', '3.0', '4.1', '1.3', 'Iris-versicolor'], ['5.5', '2.5', '4.0', '1.3', 'Iris-versicolor'], ['5.5', '2.6', '4.4', '1.2', 'Iris-versicolor'], ['6.1', '3.0', '4.6', '1.4', 'Iris-versicolor'], ['5.8', '2.6', '4.0', '1.2', 'Iris-versicolor'], ['5.0', '2.3', '3.3', '1.0', 'Iris-versicolor'], ['5.6', '2.7', '4.2', '1.3', 'Iris-versicolor'], ['5.7', '3.0', '4.2', '1.2', 'Iris-versicolor'], ['5.7', '2.9', '4.2', '1.3', 'Iris-versicolor'], ['6.2', '2.9', '4.3', '1.3', 'Iris-versicolor'], ['5.1', '2.5', '3.0', '1.1', 'Iris-versicolor'], ['5.7', '2.8', '4.1', '1.3', 'Iris-versicolor'], ['6.3', '3.3', '6.0', '2.5', 'Iris-virginica'], ['5.8', '2.7', '5.1', '1.9', 'Iris-virginica'], ['7.1', '3.0', '5.9', '2.1', 'Iris-virginica'], ['6.3', '2.9', '5.6', '1.8', 'Iris-virginica'], ['6.5', '3.0', '5.8', '2.2', 'Iris-virginica'], ['7.6', '3.0', '6.6', '2.1', 'Iris-virginica'], ['4.9', '2.5', '4.5', '1.7', 'Iris-virginica'], ['7.3', '2.9', '6.3', '1.8', 'Iris-virginica'], ['6.7', '2.5', '5.8', '1.8', 'Iris-virginica'], ['7.2', '3.6', '6.1', '2.5', 'Iris-virginica'], ['6.5', '3.2', '5.1', '2.0', 'Iris-virginica'], ['6.4', '2.7', '5.3', '1.9', 'Iris-virginica'], ['6.8', '3.0', '5.5', '2.1', 'Iris-virginica'], ['5.7', '2.5', '5.0', '2.0', 'Iris-virginica'], ['5.8', '2.8', '5.1', '2.4', 'Iris-virginica'], ['6.4', '3.2', '5.3', '2.3', 'Iris-virginica'], ['6.5', '3.0', '5.5', '1.8', 'Iris-virginica'], ['7.7', '3.8', '6.7', '2.2', 'Iris-virginica'], ['7.7', '2.6', '6.9', '2.3', 'Iris-virginica'], ['6.0', '2.2', '5.0', '1.5', 'Iris-virginica'], ['6.9', '3.2', '5.7', '2.3', 'Iris-virginica'], ['5.6', '2.8', '4.9', '2.0', 'Iris-virginica'], ['7.7', '2.8', '6.7', '2.0', 'Iris-virginica'], ['6.3', '2.7', '4.9', '1.8', 'Iris-virginica'], ['6.7', '3.3', '5.7', '2.1', 'Iris-virginica'], ['7.2', '3.2', '6.0', '1.8', 'Iris-virginica'], ['6.2', '2.8', '4.8', '1.8', 'Iris-virginica'], ['6.1', '3.0', '4.9', '1.8', 'Iris-virginica'], ['6.4', '2.8', '5.6', '2.1', 'Iris-virginica'], ['7.2', '3.0', '5.8', '1.6', 'Iris-virginica'], ['7.4', '2.8', '6.1', '1.9', 'Iris-virginica'], ['7.9', '3.8', '6.4', '2.0', 'Iris-virginica'], ['6.4', '2.8', '5.6', '2.2', 'Iris-virginica'], ['6.3', '2.8', '5.1', '1.5', 'Iris-virginica'], ['6.1', '2.6', '5.6', '1.4', 'Iris-virginica'], ['7.7', '3.0', '6.1', '2.3', 'Iris-virginica'], ['6.3', '3.4', '5.6', '2.4', 'Iris-virginica'], ['6.4', '3.1', '5.5', '1.8', 'Iris-virginica'], ['6.0', '3.0', '4.8', '1.8', 'Iris-virginica'], ['6.9', '3.1', '5.4', '2.1', 'Iris-virginica'], ['6.7', '3.1', '5.6', '2.4', 'Iris-virginica'], ['6.9', '3.1', '5.1', '2.3', 'Iris-virginica'], ['5.8', '2.7', '5.1', '1.9', 'Iris-virginica'], ['6.8', '3.2', '5.9', '2.3', 'Iris-virginica'], ['6.7', '3.3', '5.7', '2.5', 'Iris-virginica'], ['6.7', '3.0', '5.2', '2.3', 'Iris-virginica'], ['6.3', '2.5', '5.0', '1.9', 'Iris-virginica'], ['6.5', '3.0', '5.2', '2.0', 'Iris-virginica'], ['6.2', '3.4', '5.4', '2.3', 'Iris-virginica'], ['5.9', '3.0', '5.1', '1.8', 'Iris-virginica'], []]\n"
     ]
    }
   ],
   "source": [
    "print(irisList)"
   ],
   "metadata": {
    "collapsed": false,
    "pycharm": {
     "name": "#%%\n"
    }
   }
  },
  {
   "cell_type": "markdown",
   "source": [
    "3. Créer une fonction permettant de transformer une chaîne en réel\n",
    " si cette chaîne n'est pas transformable, renvoyer la telle quelle.\n",
    " Exemple : f(1.234) renverra 1.234, mais f(\"rien\") renverra \"rien\""
   ],
   "metadata": {
    "collapsed": false,
    "pycharm": {
     "name": "#%% md\n"
    }
   }
  },
  {
   "cell_type": "code",
   "execution_count": 17,
   "outputs": [],
   "source": [
    "def makeAFloat(chaine):\n",
    "    try :\n",
    "        return float(chaine)\n",
    "    except ValueError:\n",
    "        return chaine"
   ],
   "metadata": {
    "collapsed": false,
    "pycharm": {
     "name": "#%%\n"
    }
   }
  },
  {
   "cell_type": "code",
   "execution_count": 18,
   "outputs": [
    {
     "ename": "TypeError",
     "evalue": "float() argument must be a string or a number, not 'list'",
     "output_type": "error",
     "traceback": [
      "\u001B[1;31m---------------------------------------------------------------------------\u001B[0m",
      "\u001B[1;31mTypeError\u001B[0m                                 Traceback (most recent call last)",
      "Input \u001B[1;32mIn [18]\u001B[0m, in \u001B[0;36m<cell line: 1>\u001B[1;34m()\u001B[0m\n\u001B[1;32m----> 1\u001B[0m irisList \u001B[38;5;241m=\u001B[39m \u001B[43mmakeAFloat\u001B[49m\u001B[43m(\u001B[49m\u001B[43mirisList\u001B[49m\u001B[43m)\u001B[49m\n",
      "Input \u001B[1;32mIn [17]\u001B[0m, in \u001B[0;36mmakeAFloat\u001B[1;34m(chaine)\u001B[0m\n\u001B[0;32m      1\u001B[0m \u001B[38;5;28;01mdef\u001B[39;00m \u001B[38;5;21mmakeAFloat\u001B[39m(chaine):\n\u001B[0;32m      2\u001B[0m     \u001B[38;5;28;01mtry\u001B[39;00m :\n\u001B[1;32m----> 3\u001B[0m         \u001B[38;5;28;01mreturn\u001B[39;00m \u001B[38;5;28;43mfloat\u001B[39;49m\u001B[43m(\u001B[49m\u001B[43mchaine\u001B[49m\u001B[43m)\u001B[49m\n\u001B[0;32m      4\u001B[0m     \u001B[38;5;28;01mexcept\u001B[39;00m \u001B[38;5;167;01mValueError\u001B[39;00m:\n\u001B[0;32m      5\u001B[0m         \u001B[38;5;28;01mreturn\u001B[39;00m chaine\n",
      "\u001B[1;31mTypeError\u001B[0m: float() argument must be a string or a number, not 'list'"
     ]
    }
   ],
   "source": [
    "#irisList = makeAFloat(irisList)"
   ],
   "metadata": {
    "collapsed": false,
    "pycharm": {
     "name": "#%%\n"
    }
   }
  },
  {
   "cell_type": "code",
   "execution_count": 20,
   "outputs": [],
   "source": [
    "for i in range(len(irisList)):\n",
    "    for j in range(len(irisList[i])):\n",
    "        irisList[i][j] = makeAFloat(irisList[i][j])"
   ],
   "metadata": {
    "collapsed": false,
    "pycharm": {
     "name": "#%%\n"
    }
   }
  },
  {
   "cell_type": "markdown",
   "source": [
    "4. Créer une liste de 150 dictionnaires, chaque dictionnaire sera un iris, avec des champs\n",
    "nommés. Les noms des variables sont sur la première ligne de la liste précédemment\n",
    "créée.\n"
   ],
   "metadata": {
    "collapsed": false,
    "pycharm": {
     "name": "#%% md\n"
    }
   }
  },
  {
   "cell_type": "code",
   "execution_count": 50,
   "outputs": [],
   "source": [
    "listeDicoIris = []\n",
    "for i in range(1, len(irisList)-1, 1):\n",
    "    dicoIris = {}\n",
    "    for j in range(len(irisList[i])):\n",
    "        dicoIris[irisList[0][j]] = irisList[i][j]\n",
    "    listeDicoIris.append(dicoIris.copy())"
   ],
   "metadata": {
    "collapsed": false,
    "pycharm": {
     "name": "#%%\n"
    }
   }
  },
  {
   "cell_type": "code",
   "execution_count": 51,
   "outputs": [
    {
     "name": "stdout",
     "output_type": "stream",
     "text": [
      "[{'longueur du sépale': 5.1, 'largeur du sépale': 3.5, 'longueur du pétale': 1.4, 'largeur du pétale': 0.2, 'espèce de fleur': 'Iris-setosa'}, {'longueur du sépale': 4.9, 'largeur du sépale': 3.0, 'longueur du pétale': 1.4, 'largeur du pétale': 0.2, 'espèce de fleur': 'Iris-setosa'}, {'longueur du sépale': 4.7, 'largeur du sépale': 3.2, 'longueur du pétale': 1.3, 'largeur du pétale': 0.2, 'espèce de fleur': 'Iris-setosa'}, {'longueur du sépale': 4.6, 'largeur du sépale': 3.1, 'longueur du pétale': 1.5, 'largeur du pétale': 0.2, 'espèce de fleur': 'Iris-setosa'}, {'longueur du sépale': 5.0, 'largeur du sépale': 3.6, 'longueur du pétale': 1.4, 'largeur du pétale': 0.2, 'espèce de fleur': 'Iris-setosa'}, {'longueur du sépale': 5.4, 'largeur du sépale': 3.9, 'longueur du pétale': 1.7, 'largeur du pétale': 0.4, 'espèce de fleur': 'Iris-setosa'}, {'longueur du sépale': 4.6, 'largeur du sépale': 3.4, 'longueur du pétale': 1.4, 'largeur du pétale': 0.3, 'espèce de fleur': 'Iris-setosa'}, {'longueur du sépale': 5.0, 'largeur du sépale': 3.4, 'longueur du pétale': 1.5, 'largeur du pétale': 0.2, 'espèce de fleur': 'Iris-setosa'}, {'longueur du sépale': 4.4, 'largeur du sépale': 2.9, 'longueur du pétale': 1.4, 'largeur du pétale': 0.2, 'espèce de fleur': 'Iris-setosa'}, {'longueur du sépale': 4.9, 'largeur du sépale': 3.1, 'longueur du pétale': 1.5, 'largeur du pétale': 0.1, 'espèce de fleur': 'Iris-setosa'}, {'longueur du sépale': 5.4, 'largeur du sépale': 3.7, 'longueur du pétale': 1.5, 'largeur du pétale': 0.2, 'espèce de fleur': 'Iris-setosa'}, {'longueur du sépale': 4.8, 'largeur du sépale': 3.4, 'longueur du pétale': 1.6, 'largeur du pétale': 0.2, 'espèce de fleur': 'Iris-setosa'}, {'longueur du sépale': 4.8, 'largeur du sépale': 3.0, 'longueur du pétale': 1.4, 'largeur du pétale': 0.1, 'espèce de fleur': 'Iris-setosa'}, {'longueur du sépale': 4.3, 'largeur du sépale': 3.0, 'longueur du pétale': 1.1, 'largeur du pétale': 0.1, 'espèce de fleur': 'Iris-setosa'}, {'longueur du sépale': 5.8, 'largeur du sépale': 4.0, 'longueur du pétale': 1.2, 'largeur du pétale': 0.2, 'espèce de fleur': 'Iris-setosa'}, {'longueur du sépale': 5.7, 'largeur du sépale': 4.4, 'longueur du pétale': 1.5, 'largeur du pétale': 0.4, 'espèce de fleur': 'Iris-setosa'}, {'longueur du sépale': 5.4, 'largeur du sépale': 3.9, 'longueur du pétale': 1.3, 'largeur du pétale': 0.4, 'espèce de fleur': 'Iris-setosa'}, {'longueur du sépale': 5.1, 'largeur du sépale': 3.5, 'longueur du pétale': 1.4, 'largeur du pétale': 0.3, 'espèce de fleur': 'Iris-setosa'}, {'longueur du sépale': 5.7, 'largeur du sépale': 3.8, 'longueur du pétale': 1.7, 'largeur du pétale': 0.3, 'espèce de fleur': 'Iris-setosa'}, {'longueur du sépale': 5.1, 'largeur du sépale': 3.8, 'longueur du pétale': 1.5, 'largeur du pétale': 0.3, 'espèce de fleur': 'Iris-setosa'}, {'longueur du sépale': 5.4, 'largeur du sépale': 3.4, 'longueur du pétale': 1.7, 'largeur du pétale': 0.2, 'espèce de fleur': 'Iris-setosa'}, {'longueur du sépale': 5.1, 'largeur du sépale': 3.7, 'longueur du pétale': 1.5, 'largeur du pétale': 0.4, 'espèce de fleur': 'Iris-setosa'}, {'longueur du sépale': 4.6, 'largeur du sépale': 3.6, 'longueur du pétale': 1.0, 'largeur du pétale': 0.2, 'espèce de fleur': 'Iris-setosa'}, {'longueur du sépale': 5.1, 'largeur du sépale': 3.3, 'longueur du pétale': 1.7, 'largeur du pétale': 0.5, 'espèce de fleur': 'Iris-setosa'}, {'longueur du sépale': 4.8, 'largeur du sépale': 3.4, 'longueur du pétale': 1.9, 'largeur du pétale': 0.2, 'espèce de fleur': 'Iris-setosa'}, {'longueur du sépale': 5.0, 'largeur du sépale': 3.0, 'longueur du pétale': 1.6, 'largeur du pétale': 0.2, 'espèce de fleur': 'Iris-setosa'}, {'longueur du sépale': 5.0, 'largeur du sépale': 3.4, 'longueur du pétale': 1.6, 'largeur du pétale': 0.4, 'espèce de fleur': 'Iris-setosa'}, {'longueur du sépale': 5.2, 'largeur du sépale': 3.5, 'longueur du pétale': 1.5, 'largeur du pétale': 0.2, 'espèce de fleur': 'Iris-setosa'}, {'longueur du sépale': 5.2, 'largeur du sépale': 3.4, 'longueur du pétale': 1.4, 'largeur du pétale': 0.2, 'espèce de fleur': 'Iris-setosa'}, {'longueur du sépale': 4.7, 'largeur du sépale': 3.2, 'longueur du pétale': 1.6, 'largeur du pétale': 0.2, 'espèce de fleur': 'Iris-setosa'}, {'longueur du sépale': 4.8, 'largeur du sépale': 3.1, 'longueur du pétale': 1.6, 'largeur du pétale': 0.2, 'espèce de fleur': 'Iris-setosa'}, {'longueur du sépale': 5.4, 'largeur du sépale': 3.4, 'longueur du pétale': 1.5, 'largeur du pétale': 0.4, 'espèce de fleur': 'Iris-setosa'}, {'longueur du sépale': 5.2, 'largeur du sépale': 4.1, 'longueur du pétale': 1.5, 'largeur du pétale': 0.1, 'espèce de fleur': 'Iris-setosa'}, {'longueur du sépale': 5.5, 'largeur du sépale': 4.2, 'longueur du pétale': 1.4, 'largeur du pétale': 0.2, 'espèce de fleur': 'Iris-setosa'}, {'longueur du sépale': 4.9, 'largeur du sépale': 3.1, 'longueur du pétale': 1.5, 'largeur du pétale': 0.1, 'espèce de fleur': 'Iris-setosa'}, {'longueur du sépale': 5.0, 'largeur du sépale': 3.2, 'longueur du pétale': 1.2, 'largeur du pétale': 0.2, 'espèce de fleur': 'Iris-setosa'}, {'longueur du sépale': 5.5, 'largeur du sépale': 3.5, 'longueur du pétale': 1.3, 'largeur du pétale': 0.2, 'espèce de fleur': 'Iris-setosa'}, {'longueur du sépale': 4.9, 'largeur du sépale': 3.1, 'longueur du pétale': 1.5, 'largeur du pétale': 0.1, 'espèce de fleur': 'Iris-setosa'}, {'longueur du sépale': 4.4, 'largeur du sépale': 3.0, 'longueur du pétale': 1.3, 'largeur du pétale': 0.2, 'espèce de fleur': 'Iris-setosa'}, {'longueur du sépale': 5.1, 'largeur du sépale': 3.4, 'longueur du pétale': 1.5, 'largeur du pétale': 0.2, 'espèce de fleur': 'Iris-setosa'}, {'longueur du sépale': 5.0, 'largeur du sépale': 3.5, 'longueur du pétale': 1.3, 'largeur du pétale': 0.3, 'espèce de fleur': 'Iris-setosa'}, {'longueur du sépale': 4.5, 'largeur du sépale': 2.3, 'longueur du pétale': 1.3, 'largeur du pétale': 0.3, 'espèce de fleur': 'Iris-setosa'}, {'longueur du sépale': 4.4, 'largeur du sépale': 3.2, 'longueur du pétale': 1.3, 'largeur du pétale': 0.2, 'espèce de fleur': 'Iris-setosa'}, {'longueur du sépale': 5.0, 'largeur du sépale': 3.5, 'longueur du pétale': 1.6, 'largeur du pétale': 0.6, 'espèce de fleur': 'Iris-setosa'}, {'longueur du sépale': 5.1, 'largeur du sépale': 3.8, 'longueur du pétale': 1.9, 'largeur du pétale': 0.4, 'espèce de fleur': 'Iris-setosa'}, {'longueur du sépale': 4.8, 'largeur du sépale': 3.0, 'longueur du pétale': 1.4, 'largeur du pétale': 0.3, 'espèce de fleur': 'Iris-setosa'}, {'longueur du sépale': 5.1, 'largeur du sépale': 3.8, 'longueur du pétale': 1.6, 'largeur du pétale': 0.2, 'espèce de fleur': 'Iris-setosa'}, {'longueur du sépale': 4.6, 'largeur du sépale': 3.2, 'longueur du pétale': 1.4, 'largeur du pétale': 0.2, 'espèce de fleur': 'Iris-setosa'}, {'longueur du sépale': 5.3, 'largeur du sépale': 3.7, 'longueur du pétale': 1.5, 'largeur du pétale': 0.2, 'espèce de fleur': 'Iris-setosa'}, {'longueur du sépale': 5.0, 'largeur du sépale': 3.3, 'longueur du pétale': 1.4, 'largeur du pétale': 0.2, 'espèce de fleur': 'Iris-setosa'}, {'longueur du sépale': 7.0, 'largeur du sépale': 3.2, 'longueur du pétale': 4.7, 'largeur du pétale': 1.4, 'espèce de fleur': 'Iris-versicolor'}, {'longueur du sépale': 6.4, 'largeur du sépale': 3.2, 'longueur du pétale': 4.5, 'largeur du pétale': 1.5, 'espèce de fleur': 'Iris-versicolor'}, {'longueur du sépale': 6.9, 'largeur du sépale': 3.1, 'longueur du pétale': 4.9, 'largeur du pétale': 1.5, 'espèce de fleur': 'Iris-versicolor'}, {'longueur du sépale': 5.5, 'largeur du sépale': 2.3, 'longueur du pétale': 4.0, 'largeur du pétale': 1.3, 'espèce de fleur': 'Iris-versicolor'}, {'longueur du sépale': 6.5, 'largeur du sépale': 2.8, 'longueur du pétale': 4.6, 'largeur du pétale': 1.5, 'espèce de fleur': 'Iris-versicolor'}, {'longueur du sépale': 5.7, 'largeur du sépale': 2.8, 'longueur du pétale': 4.5, 'largeur du pétale': 1.3, 'espèce de fleur': 'Iris-versicolor'}, {'longueur du sépale': 6.3, 'largeur du sépale': 3.3, 'longueur du pétale': 4.7, 'largeur du pétale': 1.6, 'espèce de fleur': 'Iris-versicolor'}, {'longueur du sépale': 4.9, 'largeur du sépale': 2.4, 'longueur du pétale': 3.3, 'largeur du pétale': 1.0, 'espèce de fleur': 'Iris-versicolor'}, {'longueur du sépale': 6.6, 'largeur du sépale': 2.9, 'longueur du pétale': 4.6, 'largeur du pétale': 1.3, 'espèce de fleur': 'Iris-versicolor'}, {'longueur du sépale': 5.2, 'largeur du sépale': 2.7, 'longueur du pétale': 3.9, 'largeur du pétale': 1.4, 'espèce de fleur': 'Iris-versicolor'}, {'longueur du sépale': 5.0, 'largeur du sépale': 2.0, 'longueur du pétale': 3.5, 'largeur du pétale': 1.0, 'espèce de fleur': 'Iris-versicolor'}, {'longueur du sépale': 5.9, 'largeur du sépale': 3.0, 'longueur du pétale': 4.2, 'largeur du pétale': 1.5, 'espèce de fleur': 'Iris-versicolor'}, {'longueur du sépale': 6.0, 'largeur du sépale': 2.2, 'longueur du pétale': 4.0, 'largeur du pétale': 1.0, 'espèce de fleur': 'Iris-versicolor'}, {'longueur du sépale': 6.1, 'largeur du sépale': 2.9, 'longueur du pétale': 4.7, 'largeur du pétale': 1.4, 'espèce de fleur': 'Iris-versicolor'}, {'longueur du sépale': 5.6, 'largeur du sépale': 2.9, 'longueur du pétale': 3.6, 'largeur du pétale': 1.3, 'espèce de fleur': 'Iris-versicolor'}, {'longueur du sépale': 6.7, 'largeur du sépale': 3.1, 'longueur du pétale': 4.4, 'largeur du pétale': 1.4, 'espèce de fleur': 'Iris-versicolor'}, {'longueur du sépale': 5.6, 'largeur du sépale': 3.0, 'longueur du pétale': 4.5, 'largeur du pétale': 1.5, 'espèce de fleur': 'Iris-versicolor'}, {'longueur du sépale': 5.8, 'largeur du sépale': 2.7, 'longueur du pétale': 4.1, 'largeur du pétale': 1.0, 'espèce de fleur': 'Iris-versicolor'}, {'longueur du sépale': 6.2, 'largeur du sépale': 2.2, 'longueur du pétale': 4.5, 'largeur du pétale': 1.5, 'espèce de fleur': 'Iris-versicolor'}, {'longueur du sépale': 5.6, 'largeur du sépale': 2.5, 'longueur du pétale': 3.9, 'largeur du pétale': 1.1, 'espèce de fleur': 'Iris-versicolor'}, {'longueur du sépale': 5.9, 'largeur du sépale': 3.2, 'longueur du pétale': 4.8, 'largeur du pétale': 1.8, 'espèce de fleur': 'Iris-versicolor'}, {'longueur du sépale': 6.1, 'largeur du sépale': 2.8, 'longueur du pétale': 4.0, 'largeur du pétale': 1.3, 'espèce de fleur': 'Iris-versicolor'}, {'longueur du sépale': 6.3, 'largeur du sépale': 2.5, 'longueur du pétale': 4.9, 'largeur du pétale': 1.5, 'espèce de fleur': 'Iris-versicolor'}, {'longueur du sépale': 6.1, 'largeur du sépale': 2.8, 'longueur du pétale': 4.7, 'largeur du pétale': 1.2, 'espèce de fleur': 'Iris-versicolor'}, {'longueur du sépale': 6.4, 'largeur du sépale': 2.9, 'longueur du pétale': 4.3, 'largeur du pétale': 1.3, 'espèce de fleur': 'Iris-versicolor'}, {'longueur du sépale': 6.6, 'largeur du sépale': 3.0, 'longueur du pétale': 4.4, 'largeur du pétale': 1.4, 'espèce de fleur': 'Iris-versicolor'}, {'longueur du sépale': 6.8, 'largeur du sépale': 2.8, 'longueur du pétale': 4.8, 'largeur du pétale': 1.4, 'espèce de fleur': 'Iris-versicolor'}, {'longueur du sépale': 6.7, 'largeur du sépale': 3.0, 'longueur du pétale': 5.0, 'largeur du pétale': 1.7, 'espèce de fleur': 'Iris-versicolor'}, {'longueur du sépale': 6.0, 'largeur du sépale': 2.9, 'longueur du pétale': 4.5, 'largeur du pétale': 1.5, 'espèce de fleur': 'Iris-versicolor'}, {'longueur du sépale': 5.7, 'largeur du sépale': 2.6, 'longueur du pétale': 3.5, 'largeur du pétale': 1.0, 'espèce de fleur': 'Iris-versicolor'}, {'longueur du sépale': 5.5, 'largeur du sépale': 2.4, 'longueur du pétale': 3.8, 'largeur du pétale': 1.1, 'espèce de fleur': 'Iris-versicolor'}, {'longueur du sépale': 5.5, 'largeur du sépale': 2.4, 'longueur du pétale': 3.7, 'largeur du pétale': 1.0, 'espèce de fleur': 'Iris-versicolor'}, {'longueur du sépale': 5.8, 'largeur du sépale': 2.7, 'longueur du pétale': 3.9, 'largeur du pétale': 1.2, 'espèce de fleur': 'Iris-versicolor'}, {'longueur du sépale': 6.0, 'largeur du sépale': 2.7, 'longueur du pétale': 5.1, 'largeur du pétale': 1.6, 'espèce de fleur': 'Iris-versicolor'}, {'longueur du sépale': 5.4, 'largeur du sépale': 3.0, 'longueur du pétale': 4.5, 'largeur du pétale': 1.5, 'espèce de fleur': 'Iris-versicolor'}, {'longueur du sépale': 6.0, 'largeur du sépale': 3.4, 'longueur du pétale': 4.5, 'largeur du pétale': 1.6, 'espèce de fleur': 'Iris-versicolor'}, {'longueur du sépale': 6.7, 'largeur du sépale': 3.1, 'longueur du pétale': 4.7, 'largeur du pétale': 1.5, 'espèce de fleur': 'Iris-versicolor'}, {'longueur du sépale': 6.3, 'largeur du sépale': 2.3, 'longueur du pétale': 4.4, 'largeur du pétale': 1.3, 'espèce de fleur': 'Iris-versicolor'}, {'longueur du sépale': 5.6, 'largeur du sépale': 3.0, 'longueur du pétale': 4.1, 'largeur du pétale': 1.3, 'espèce de fleur': 'Iris-versicolor'}, {'longueur du sépale': 5.5, 'largeur du sépale': 2.5, 'longueur du pétale': 4.0, 'largeur du pétale': 1.3, 'espèce de fleur': 'Iris-versicolor'}, {'longueur du sépale': 5.5, 'largeur du sépale': 2.6, 'longueur du pétale': 4.4, 'largeur du pétale': 1.2, 'espèce de fleur': 'Iris-versicolor'}, {'longueur du sépale': 6.1, 'largeur du sépale': 3.0, 'longueur du pétale': 4.6, 'largeur du pétale': 1.4, 'espèce de fleur': 'Iris-versicolor'}, {'longueur du sépale': 5.8, 'largeur du sépale': 2.6, 'longueur du pétale': 4.0, 'largeur du pétale': 1.2, 'espèce de fleur': 'Iris-versicolor'}, {'longueur du sépale': 5.0, 'largeur du sépale': 2.3, 'longueur du pétale': 3.3, 'largeur du pétale': 1.0, 'espèce de fleur': 'Iris-versicolor'}, {'longueur du sépale': 5.6, 'largeur du sépale': 2.7, 'longueur du pétale': 4.2, 'largeur du pétale': 1.3, 'espèce de fleur': 'Iris-versicolor'}, {'longueur du sépale': 5.7, 'largeur du sépale': 3.0, 'longueur du pétale': 4.2, 'largeur du pétale': 1.2, 'espèce de fleur': 'Iris-versicolor'}, {'longueur du sépale': 5.7, 'largeur du sépale': 2.9, 'longueur du pétale': 4.2, 'largeur du pétale': 1.3, 'espèce de fleur': 'Iris-versicolor'}, {'longueur du sépale': 6.2, 'largeur du sépale': 2.9, 'longueur du pétale': 4.3, 'largeur du pétale': 1.3, 'espèce de fleur': 'Iris-versicolor'}, {'longueur du sépale': 5.1, 'largeur du sépale': 2.5, 'longueur du pétale': 3.0, 'largeur du pétale': 1.1, 'espèce de fleur': 'Iris-versicolor'}, {'longueur du sépale': 5.7, 'largeur du sépale': 2.8, 'longueur du pétale': 4.1, 'largeur du pétale': 1.3, 'espèce de fleur': 'Iris-versicolor'}, {'longueur du sépale': 6.3, 'largeur du sépale': 3.3, 'longueur du pétale': 6.0, 'largeur du pétale': 2.5, 'espèce de fleur': 'Iris-virginica'}, {'longueur du sépale': 5.8, 'largeur du sépale': 2.7, 'longueur du pétale': 5.1, 'largeur du pétale': 1.9, 'espèce de fleur': 'Iris-virginica'}, {'longueur du sépale': 7.1, 'largeur du sépale': 3.0, 'longueur du pétale': 5.9, 'largeur du pétale': 2.1, 'espèce de fleur': 'Iris-virginica'}, {'longueur du sépale': 6.3, 'largeur du sépale': 2.9, 'longueur du pétale': 5.6, 'largeur du pétale': 1.8, 'espèce de fleur': 'Iris-virginica'}, {'longueur du sépale': 6.5, 'largeur du sépale': 3.0, 'longueur du pétale': 5.8, 'largeur du pétale': 2.2, 'espèce de fleur': 'Iris-virginica'}, {'longueur du sépale': 7.6, 'largeur du sépale': 3.0, 'longueur du pétale': 6.6, 'largeur du pétale': 2.1, 'espèce de fleur': 'Iris-virginica'}, {'longueur du sépale': 4.9, 'largeur du sépale': 2.5, 'longueur du pétale': 4.5, 'largeur du pétale': 1.7, 'espèce de fleur': 'Iris-virginica'}, {'longueur du sépale': 7.3, 'largeur du sépale': 2.9, 'longueur du pétale': 6.3, 'largeur du pétale': 1.8, 'espèce de fleur': 'Iris-virginica'}, {'longueur du sépale': 6.7, 'largeur du sépale': 2.5, 'longueur du pétale': 5.8, 'largeur du pétale': 1.8, 'espèce de fleur': 'Iris-virginica'}, {'longueur du sépale': 7.2, 'largeur du sépale': 3.6, 'longueur du pétale': 6.1, 'largeur du pétale': 2.5, 'espèce de fleur': 'Iris-virginica'}, {'longueur du sépale': 6.5, 'largeur du sépale': 3.2, 'longueur du pétale': 5.1, 'largeur du pétale': 2.0, 'espèce de fleur': 'Iris-virginica'}, {'longueur du sépale': 6.4, 'largeur du sépale': 2.7, 'longueur du pétale': 5.3, 'largeur du pétale': 1.9, 'espèce de fleur': 'Iris-virginica'}, {'longueur du sépale': 6.8, 'largeur du sépale': 3.0, 'longueur du pétale': 5.5, 'largeur du pétale': 2.1, 'espèce de fleur': 'Iris-virginica'}, {'longueur du sépale': 5.7, 'largeur du sépale': 2.5, 'longueur du pétale': 5.0, 'largeur du pétale': 2.0, 'espèce de fleur': 'Iris-virginica'}, {'longueur du sépale': 5.8, 'largeur du sépale': 2.8, 'longueur du pétale': 5.1, 'largeur du pétale': 2.4, 'espèce de fleur': 'Iris-virginica'}, {'longueur du sépale': 6.4, 'largeur du sépale': 3.2, 'longueur du pétale': 5.3, 'largeur du pétale': 2.3, 'espèce de fleur': 'Iris-virginica'}, {'longueur du sépale': 6.5, 'largeur du sépale': 3.0, 'longueur du pétale': 5.5, 'largeur du pétale': 1.8, 'espèce de fleur': 'Iris-virginica'}, {'longueur du sépale': 7.7, 'largeur du sépale': 3.8, 'longueur du pétale': 6.7, 'largeur du pétale': 2.2, 'espèce de fleur': 'Iris-virginica'}, {'longueur du sépale': 7.7, 'largeur du sépale': 2.6, 'longueur du pétale': 6.9, 'largeur du pétale': 2.3, 'espèce de fleur': 'Iris-virginica'}, {'longueur du sépale': 6.0, 'largeur du sépale': 2.2, 'longueur du pétale': 5.0, 'largeur du pétale': 1.5, 'espèce de fleur': 'Iris-virginica'}, {'longueur du sépale': 6.9, 'largeur du sépale': 3.2, 'longueur du pétale': 5.7, 'largeur du pétale': 2.3, 'espèce de fleur': 'Iris-virginica'}, {'longueur du sépale': 5.6, 'largeur du sépale': 2.8, 'longueur du pétale': 4.9, 'largeur du pétale': 2.0, 'espèce de fleur': 'Iris-virginica'}, {'longueur du sépale': 7.7, 'largeur du sépale': 2.8, 'longueur du pétale': 6.7, 'largeur du pétale': 2.0, 'espèce de fleur': 'Iris-virginica'}, {'longueur du sépale': 6.3, 'largeur du sépale': 2.7, 'longueur du pétale': 4.9, 'largeur du pétale': 1.8, 'espèce de fleur': 'Iris-virginica'}, {'longueur du sépale': 6.7, 'largeur du sépale': 3.3, 'longueur du pétale': 5.7, 'largeur du pétale': 2.1, 'espèce de fleur': 'Iris-virginica'}, {'longueur du sépale': 7.2, 'largeur du sépale': 3.2, 'longueur du pétale': 6.0, 'largeur du pétale': 1.8, 'espèce de fleur': 'Iris-virginica'}, {'longueur du sépale': 6.2, 'largeur du sépale': 2.8, 'longueur du pétale': 4.8, 'largeur du pétale': 1.8, 'espèce de fleur': 'Iris-virginica'}, {'longueur du sépale': 6.1, 'largeur du sépale': 3.0, 'longueur du pétale': 4.9, 'largeur du pétale': 1.8, 'espèce de fleur': 'Iris-virginica'}, {'longueur du sépale': 6.4, 'largeur du sépale': 2.8, 'longueur du pétale': 5.6, 'largeur du pétale': 2.1, 'espèce de fleur': 'Iris-virginica'}, {'longueur du sépale': 7.2, 'largeur du sépale': 3.0, 'longueur du pétale': 5.8, 'largeur du pétale': 1.6, 'espèce de fleur': 'Iris-virginica'}, {'longueur du sépale': 7.4, 'largeur du sépale': 2.8, 'longueur du pétale': 6.1, 'largeur du pétale': 1.9, 'espèce de fleur': 'Iris-virginica'}, {'longueur du sépale': 7.9, 'largeur du sépale': 3.8, 'longueur du pétale': 6.4, 'largeur du pétale': 2.0, 'espèce de fleur': 'Iris-virginica'}, {'longueur du sépale': 6.4, 'largeur du sépale': 2.8, 'longueur du pétale': 5.6, 'largeur du pétale': 2.2, 'espèce de fleur': 'Iris-virginica'}, {'longueur du sépale': 6.3, 'largeur du sépale': 2.8, 'longueur du pétale': 5.1, 'largeur du pétale': 1.5, 'espèce de fleur': 'Iris-virginica'}, {'longueur du sépale': 6.1, 'largeur du sépale': 2.6, 'longueur du pétale': 5.6, 'largeur du pétale': 1.4, 'espèce de fleur': 'Iris-virginica'}, {'longueur du sépale': 7.7, 'largeur du sépale': 3.0, 'longueur du pétale': 6.1, 'largeur du pétale': 2.3, 'espèce de fleur': 'Iris-virginica'}, {'longueur du sépale': 6.3, 'largeur du sépale': 3.4, 'longueur du pétale': 5.6, 'largeur du pétale': 2.4, 'espèce de fleur': 'Iris-virginica'}, {'longueur du sépale': 6.4, 'largeur du sépale': 3.1, 'longueur du pétale': 5.5, 'largeur du pétale': 1.8, 'espèce de fleur': 'Iris-virginica'}, {'longueur du sépale': 6.0, 'largeur du sépale': 3.0, 'longueur du pétale': 4.8, 'largeur du pétale': 1.8, 'espèce de fleur': 'Iris-virginica'}, {'longueur du sépale': 6.9, 'largeur du sépale': 3.1, 'longueur du pétale': 5.4, 'largeur du pétale': 2.1, 'espèce de fleur': 'Iris-virginica'}, {'longueur du sépale': 6.7, 'largeur du sépale': 3.1, 'longueur du pétale': 5.6, 'largeur du pétale': 2.4, 'espèce de fleur': 'Iris-virginica'}, {'longueur du sépale': 6.9, 'largeur du sépale': 3.1, 'longueur du pétale': 5.1, 'largeur du pétale': 2.3, 'espèce de fleur': 'Iris-virginica'}, {'longueur du sépale': 5.8, 'largeur du sépale': 2.7, 'longueur du pétale': 5.1, 'largeur du pétale': 1.9, 'espèce de fleur': 'Iris-virginica'}, {'longueur du sépale': 6.8, 'largeur du sépale': 3.2, 'longueur du pétale': 5.9, 'largeur du pétale': 2.3, 'espèce de fleur': 'Iris-virginica'}, {'longueur du sépale': 6.7, 'largeur du sépale': 3.3, 'longueur du pétale': 5.7, 'largeur du pétale': 2.5, 'espèce de fleur': 'Iris-virginica'}, {'longueur du sépale': 6.7, 'largeur du sépale': 3.0, 'longueur du pétale': 5.2, 'largeur du pétale': 2.3, 'espèce de fleur': 'Iris-virginica'}, {'longueur du sépale': 6.3, 'largeur du sépale': 2.5, 'longueur du pétale': 5.0, 'largeur du pétale': 1.9, 'espèce de fleur': 'Iris-virginica'}, {'longueur du sépale': 6.5, 'largeur du sépale': 3.0, 'longueur du pétale': 5.2, 'largeur du pétale': 2.0, 'espèce de fleur': 'Iris-virginica'}, {'longueur du sépale': 6.2, 'largeur du sépale': 3.4, 'longueur du pétale': 5.4, 'largeur du pétale': 2.3, 'espèce de fleur': 'Iris-virginica'}, {'longueur du sépale': 5.9, 'largeur du sépale': 3.0, 'longueur du pétale': 5.1, 'largeur du pétale': 1.8, 'espèce de fleur': 'Iris-virginica'}]\n"
     ]
    }
   ],
   "source": [
    "print(listeDicoIris)"
   ],
   "metadata": {
    "collapsed": false,
    "pycharm": {
     "name": "#%%\n"
    }
   }
  },
  {
   "cell_type": "markdown",
   "source": [
    "5. Calculer pour chaque iris le rapport entre la surface d'un pétale et la surface d'un\n",
    "sépale. La surface de chaque dépend uniquement du produit de la largeur et de la\n",
    "longueur. On fera donc le rapport entre les deux produits."
   ],
   "metadata": {
    "collapsed": false,
    "pycharm": {
     "name": "#%% md\n"
    }
   }
  },
  {
   "cell_type": "code",
   "execution_count": 48,
   "outputs": [
    {
     "name": "stdout",
     "output_type": "stream",
     "text": [
      "63.75\n",
      "52.50000000000001\n",
      "57.84615384615385\n",
      "47.533333333333324\n",
      "64.28571428571429\n",
      "30.97058823529412\n",
      "37.238095238095234\n",
      "56.66666666666666\n",
      "45.57142857142858\n",
      "101.26666666666667\n",
      "66.60000000000001\n",
      "50.99999999999999\n",
      "102.85714285714286\n",
      "117.27272727272724\n",
      "96.66666666666667\n",
      "41.8\n",
      "40.5\n",
      "42.5\n",
      "42.470588235294116\n",
      "43.06666666666667\n",
      "53.99999999999999\n",
      "31.449999999999996\n",
      "82.79999999999998\n",
      "19.799999999999997\n",
      "42.94736842105263\n",
      "46.87499999999999\n",
      "26.562499999999996\n",
      "60.66666666666666\n",
      "63.142857142857146\n",
      "46.99999999999999\n",
      "46.499999999999986\n",
      "30.599999999999994\n",
      "142.13333333333333\n",
      "82.50000000000001\n",
      "101.26666666666667\n",
      "66.66666666666667\n",
      "74.03846153846153\n",
      "101.26666666666667\n",
      "50.769230769230774\n",
      "57.79999999999999\n",
      "44.87179487179487\n",
      "26.538461538461537\n",
      "54.15384615384616\n",
      "18.229166666666668\n",
      "25.5\n",
      "34.285714285714285\n",
      "60.562499999999986\n",
      "52.57142857142857\n",
      "65.36666666666666\n",
      "58.92857142857144\n",
      "3.4042553191489366\n",
      "3.034074074074075\n",
      "2.910204081632653\n",
      "2.4326923076923075\n",
      "2.63768115942029\n",
      "2.728205128205128\n",
      "2.764627659574468\n",
      "3.563636363636364\n",
      "3.20066889632107\n",
      "2.5714285714285716\n",
      "2.857142857142857\n",
      "2.8095238095238098\n",
      "3.3000000000000003\n",
      "2.6884498480243155\n",
      "3.4700854700854693\n",
      "3.3717532467532467\n",
      "2.4888888888888885\n",
      "3.8195121951219515\n",
      "2.020740740740741\n",
      "3.2634032634032635\n",
      "2.185185185185185\n",
      "3.284615384615384\n",
      "2.142857142857143\n",
      "3.028368794326241\n",
      "3.3202146690518783\n",
      "3.214285714285714\n",
      "2.8333333333333335\n",
      "2.364705882352941\n",
      "2.5777777777777775\n",
      "4.234285714285714\n",
      "3.1578947368421053\n",
      "3.567567567567567\n",
      "3.3461538461538463\n",
      "1.985294117647059\n",
      "2.4000000000000004\n",
      "2.833333333333333\n",
      "2.9460992907801415\n",
      "2.5332167832167825\n",
      "3.1519699812382735\n",
      "2.644230769230769\n",
      "2.7083333333333335\n",
      "2.841614906832298\n",
      "3.1416666666666666\n",
      "3.484848484848485\n",
      "2.7692307692307687\n",
      "3.3928571428571432\n",
      "3.0274725274725274\n",
      "3.216457960644007\n",
      "3.8636363636363633\n",
      "2.99437148217636\n",
      "1.386\n",
      "1.6160990712074303\n",
      "1.7191283292978206\n",
      "1.8125\n",
      "1.5282131661442007\n",
      "1.6450216450216448\n",
      "1.6013071895424837\n",
      "1.8668430335097\n",
      "1.6044061302681993\n",
      "1.6996721311475411\n",
      "2.03921568627451\n",
      "1.7159880834160877\n",
      "1.766233766233766\n",
      "1.425\n",
      "1.326797385620915\n",
      "1.680065627563577\n",
      "1.9696969696969697\n",
      "1.9850746268656712\n",
      "1.2614996849401388\n",
      "1.7600000000000002\n",
      "1.6842105263157896\n",
      "1.5999999999999996\n",
      "1.6089552238805969\n",
      "1.9285714285714286\n",
      "1.8471177944862154\n",
      "2.1333333333333333\n",
      "2.009259259259259\n",
      "2.0748299319727885\n",
      "1.5238095238095237\n",
      "2.327586206896552\n",
      "1.7877480586712686\n",
      "2.3453125\n",
      "1.4545454545454544\n",
      "2.3058823529411763\n",
      "2.0229591836734695\n",
      "1.6464718460441914\n",
      "1.59375\n",
      "2.0040404040404045\n",
      "2.083333333333333\n",
      "1.886243386243386\n",
      "1.5453869047619049\n",
      "1.823529411764706\n",
      "1.6160990712074303\n",
      "1.6035372144436257\n",
      "1.551578947368421\n",
      "1.6806020066889635\n",
      "1.6578947368421053\n",
      "1.875\n",
      "1.6972624798711753\n",
      "1.9281045751633992\n"
     ]
    }
   ],
   "source": [
    "def calcSurface(larg, long):\n",
    "    return larg*long\n",
    "\n",
    "def rapportSurface(petale, sepale):\n",
    "    return petale/sepale\n",
    "\n",
    "for i in range(1, len(irisList)-1, 1):\n",
    "    print(rapportSurface(calcSurface(irisList[i][0], irisList[i][1]), calcSurface(irisList[i][2], irisList[i][3])))"
   ],
   "metadata": {
    "collapsed": false,
    "pycharm": {
     "name": "#%%\n"
    }
   }
  },
  {
   "cell_type": "markdown",
   "source": [
    "6. Créer une sous-liste ne contenant que les iris setosa."
   ],
   "metadata": {
    "collapsed": false,
    "pycharm": {
     "name": "#%% md\n"
    }
   }
  },
  {
   "cell_type": "code",
   "execution_count": 52,
   "outputs": [],
   "source": [
    "listeSetosa = [x for x in listeDicoIris if x['espèce de fleur'] == 'Iris-setosa']\n",
    "listeVersicolor = [x for x in listeDicoIris if x['espèce de fleur'] == 'Iris-versicolor']\n",
    "listeVirginica = [x for x in listeDicoIris if x['espèce de fleur'] == 'Iris-virginica']"
   ],
   "metadata": {
    "collapsed": false,
    "pycharm": {
     "name": "#%%\n"
    }
   }
  },
  {
   "cell_type": "markdown",
   "source": [
    "7. Calculer la moyenne de chaque variable."
   ],
   "metadata": {
    "collapsed": false,
    "pycharm": {
     "name": "#%% md\n"
    }
   }
  },
  {
   "cell_type": "code",
   "execution_count": 53,
   "outputs": [],
   "source": [
    "def calc_moyLongsepal(dico):\n",
    "    return sum(x[\"longueur du sépale\"] for x in dico)/len(dico)\n",
    "\n",
    "def calc_moyLargsepal(dico):\n",
    "    return sum(x[\"largeur du sépale\"] for x in dico)/len(dico)\n",
    "\n",
    "def calc_moyLargpetal(dico):\n",
    "    return sum(x[\"largeur du pétale\"] for x in dico)/len(dico)\n",
    "\n",
    "def calc_moyLongpetal(dico):\n",
    "    return sum(x[\"longueur du pétale\"] for x in dico)/len(dico)"
   ],
   "metadata": {
    "collapsed": false,
    "pycharm": {
     "name": "#%%\n"
    }
   }
  },
  {
   "cell_type": "code",
   "execution_count": 54,
   "outputs": [
    {
     "name": "stdout",
     "output_type": "stream",
     "text": [
      "3.0540000000000007\n"
     ]
    }
   ],
   "source": [
    "print(calc_moyLargsepal(listeDicoIris))"
   ],
   "metadata": {
    "collapsed": false,
    "pycharm": {
     "name": "#%%\n"
    }
   }
  },
  {
   "cell_type": "markdown",
   "source": [
    "Exercice 2\n",
    "Cet exercice propose de fusionner des données provenant de deux sources. La première étape\n",
    "consiste à télécharger deux fichiers se trouvant sur ent. Il est préférable de placer ces pièces\n",
    "jointes dans le même répertoire que le programme lui-même.\n",
    "Le premier fichier contient une matrice dont chaque ligne contient 4 informations séparées par\n",
    "des tabulations :\n",
    "un nom un prénom une couleur une arme\n",
    "Le second fichier contient une matrice dont chaque ligne contient 3 informations séparées par\n",
    "des tabulations :\n",
    " un nom un prénom une pièce\n",
    "Certaines personnes sont présentes dans les deux fichiers, l’objectif de cet exercice et de\n",
    "construire un troisième fichier regroupant les informations concernant les personnes présentes\n",
    "dans les deux fichiers. Ce fichier contiendra donc 5 colonnes."
   ],
   "metadata": {
    "collapsed": false,
    "pycharm": {
     "name": "#%% md\n"
    }
   }
  },
  {
   "cell_type": "markdown",
   "source": [
    "1. Ecrire le code python permettant de récupérer les deux fichiers"
   ],
   "metadata": {
    "collapsed": false,
    "pycharm": {
     "name": "#%% md\n"
    }
   }
  },
  {
   "cell_type": "code",
   "execution_count": 56,
   "outputs": [],
   "source": [
    "df_f1 = pd.read_csv(\"fichier_1.csv\", sep=\"\\t\",names=[\"Nom\",\"Prénom\",\"Couleur\",\"Arme\"])\n",
    "df_f2 = pd.read_csv(\"fichier_2.csv\", sep=\"\\t\",names=[\"Nom\",\"Prénom\",\"Pièce\"])"
   ],
   "metadata": {
    "collapsed": false,
    "pycharm": {
     "name": "#%%\n"
    }
   }
  },
  {
   "cell_type": "markdown",
   "source": [
    "2. Afficher les 5 premières lignes de chaque fichier"
   ],
   "metadata": {
    "collapsed": false,
    "pycharm": {
     "name": "#%% md\n"
    }
   }
  },
  {
   "cell_type": "code",
   "execution_count": 57,
   "outputs": [
    {
     "data": {
      "text/plain": "  Nom Prénom Couleur        Arme\n0  N1     P1   rouge    poignard\n1  N2     P2   jaune    revolver\n2  N3     P3   blanc    matraque\n3  N4     P4    vert  chandelier\n4  N5     P5    bleu       corde",
      "text/html": "<div>\n<style scoped>\n    .dataframe tbody tr th:only-of-type {\n        vertical-align: middle;\n    }\n\n    .dataframe tbody tr th {\n        vertical-align: top;\n    }\n\n    .dataframe thead th {\n        text-align: right;\n    }\n</style>\n<table border=\"1\" class=\"dataframe\">\n  <thead>\n    <tr style=\"text-align: right;\">\n      <th></th>\n      <th>Nom</th>\n      <th>Prénom</th>\n      <th>Couleur</th>\n      <th>Arme</th>\n    </tr>\n  </thead>\n  <tbody>\n    <tr>\n      <th>0</th>\n      <td>N1</td>\n      <td>P1</td>\n      <td>rouge</td>\n      <td>poignard</td>\n    </tr>\n    <tr>\n      <th>1</th>\n      <td>N2</td>\n      <td>P2</td>\n      <td>jaune</td>\n      <td>revolver</td>\n    </tr>\n    <tr>\n      <th>2</th>\n      <td>N3</td>\n      <td>P3</td>\n      <td>blanc</td>\n      <td>matraque</td>\n    </tr>\n    <tr>\n      <th>3</th>\n      <td>N4</td>\n      <td>P4</td>\n      <td>vert</td>\n      <td>chandelier</td>\n    </tr>\n    <tr>\n      <th>4</th>\n      <td>N5</td>\n      <td>P5</td>\n      <td>bleu</td>\n      <td>corde</td>\n    </tr>\n  </tbody>\n</table>\n</div>"
     },
     "execution_count": 57,
     "metadata": {},
     "output_type": "execute_result"
    }
   ],
   "source": [
    "df_f1.head(5)"
   ],
   "metadata": {
    "collapsed": false,
    "pycharm": {
     "name": "#%%\n"
    }
   }
  },
  {
   "cell_type": "code",
   "execution_count": 58,
   "outputs": [
    {
     "data": {
      "text/plain": "  Nom Prénom           Pièce\n0  N5     P5         cuisine\n1  N6     P6          bureau\n2  N7     P7  salle a manger\n3  N8     P8           salon\n4  N9     P9     grand salon",
      "text/html": "<div>\n<style scoped>\n    .dataframe tbody tr th:only-of-type {\n        vertical-align: middle;\n    }\n\n    .dataframe tbody tr th {\n        vertical-align: top;\n    }\n\n    .dataframe thead th {\n        text-align: right;\n    }\n</style>\n<table border=\"1\" class=\"dataframe\">\n  <thead>\n    <tr style=\"text-align: right;\">\n      <th></th>\n      <th>Nom</th>\n      <th>Prénom</th>\n      <th>Pièce</th>\n    </tr>\n  </thead>\n  <tbody>\n    <tr>\n      <th>0</th>\n      <td>N5</td>\n      <td>P5</td>\n      <td>cuisine</td>\n    </tr>\n    <tr>\n      <th>1</th>\n      <td>N6</td>\n      <td>P6</td>\n      <td>bureau</td>\n    </tr>\n    <tr>\n      <th>2</th>\n      <td>N7</td>\n      <td>P7</td>\n      <td>salle a manger</td>\n    </tr>\n    <tr>\n      <th>3</th>\n      <td>N8</td>\n      <td>P8</td>\n      <td>salon</td>\n    </tr>\n    <tr>\n      <th>4</th>\n      <td>N9</td>\n      <td>P9</td>\n      <td>grand salon</td>\n    </tr>\n  </tbody>\n</table>\n</div>"
     },
     "execution_count": 58,
     "metadata": {},
     "output_type": "execute_result"
    }
   ],
   "source": [
    "df_f2.head(5)"
   ],
   "metadata": {
    "collapsed": false,
    "pycharm": {
     "name": "#%%\n"
    }
   }
  },
  {
   "cell_type": "markdown",
   "source": [
    "3. Construire une fonction qui prend comme argument un nom de fichier et qui retourne\n",
    "le contenu du fichier dans une matrice (une liste de listes)"
   ],
   "metadata": {
    "collapsed": false,
    "pycharm": {
     "name": "#%% md\n"
    }
   }
  },
  {
   "cell_type": "code",
   "execution_count": 1,
   "outputs": [],
   "source": [
    "def contenuFromName(name):\n",
    "    df = pd.read_csv(name, sep=\"\\t\")\n",
    "    liste = []\n",
    "    for i in range(len(df)):\n",
    "        liste.append([])\n",
    "        for j in range(len(df[i])):\n",
    "            liste[i].append([i][j])\n",
    "    return liste"
   ],
   "metadata": {
    "collapsed": false,
    "pycharm": {
     "name": "#%%\n"
    }
   }
  },
  {
   "cell_type": "markdown",
   "source": [
    "    4. Construire une fonction qui prend comme entrée une matrice et qui construit un\n",
    "dictionnaire dont :\n",
    "    a. La clé est un tuple composé des valeurs des deux premières colonnes (nom,\n",
    "prénom)\n",
    "    b. La valeur est la liste des valeurs des autres colonnes"
   ],
   "metadata": {
    "collapsed": false,
    "pycharm": {
     "name": "#%% md\n"
    }
   }
  },
  {
   "cell_type": "code",
   "execution_count": 2,
   "outputs": [],
   "source": [
    "def makeDicoWithMat(matrice):\n",
    "    dico = {m[0] + \" \" + m[1] : [m[i] for i in range(2, len(m))] for m in matrice}\n",
    "    return matrice"
   ],
   "metadata": {
    "collapsed": false,
    "pycharm": {
     "name": "#%%\n"
    }
   }
  },
  {
   "cell_type": "markdown",
   "source": [
    "    5. Construire une fonction qui effectue la fusion de deux dictionnaires. Le dictionnaire\n",
    "résultant vérifie :\n",
    "    a. Chaque clé est présente dans les deux dictionnaires à la fois\n",
    "    b. La valeur associée à une clé est la somme des deux listes associées à cette\n",
    "même clé dans chacun des deux dictionnaires."
   ],
   "metadata": {
    "collapsed": false,
    "pycharm": {
     "name": "#%% md\n"
    }
   }
  },
  {
   "cell_type": "code",
   "execution_count": 3,
   "outputs": [],
   "source": [
    "def fusDico(dicoa, dicob):\n",
    "    dicoFus = {}\n",
    "    for i in dicoa.keys() & dicob.keys():\n",
    "        dicoFus[i] = dicoa[i] + dicob[i]\n",
    "    return dicoFus"
   ],
   "metadata": {
    "collapsed": false,
    "pycharm": {
     "name": "#%%\n"
    }
   }
  },
  {
   "cell_type": "markdown",
   "source": [
    "    6. Construire une fonction qui convertit un dictionnaire en matrice. C’est la fonction\n",
    "réciproque de la fonction de la question 2. Les deux premières colonnes sont celles de\n",
    "la clé, les suivantes sont celles des valeurs."
   ],
   "metadata": {
    "collapsed": false,
    "pycharm": {
     "name": "#%% md\n"
    }
   }
  },
  {
   "cell_type": "code",
   "execution_count": 5,
   "outputs": [],
   "source": [
    "def makeMatWithDico(dico):\n",
    "    matrice = [d.split(\" \") + dico[d] for d in dico.keys()]\n",
    "    return matrice"
   ],
   "metadata": {
    "collapsed": false,
    "pycharm": {
     "name": "#%%\n"
    }
   }
  },
  {
   "cell_type": "markdown",
   "source": [
    "    7. Ecrire une fonction qui écrit une matrice dans un fichier texte."
   ],
   "metadata": {
    "collapsed": false,
    "pycharm": {
     "name": "#%% md\n"
    }
   }
  },
  {
   "cell_type": "code",
   "execution_count": 6,
   "outputs": [],
   "source": [
    "def printAText(matrice, output):\n",
    "    df = pd.DataFrame(matrice, columns=None)\n",
    "    df.to_csv(output, sep=\";\")"
   ],
   "metadata": {
    "collapsed": false,
    "pycharm": {
     "name": "#%%\n"
    }
   }
  },
  {
   "cell_type": "markdown",
   "source": [
    "    8. En utilisant toutes les fonctions précédentes, écrire une fonction qui effectue la fusion\n",
    "de deux fichiers et qui écrit le résultat dans un autre fichier."
   ],
   "metadata": {
    "collapsed": false,
    "pycharm": {
     "name": "#%% md\n"
    }
   }
  },
  {
   "cell_type": "code",
   "execution_count": 7,
   "outputs": [],
   "source": [
    "def fusAndWrite(filea, fileb):\n",
    "    printAText(makeMatWithDico(fusDico(makeDicoWithMat(contenuFromName(\"fichier_1.txt\")),makeDicoWithMat(contenuFromName(\"fichier_2.txt\")))), \"Output.csv\")"
   ],
   "metadata": {
    "collapsed": false,
    "pycharm": {
     "name": "#%%\n"
    }
   }
  },
  {
   "cell_type": "markdown",
   "source": [
    "    9. En vous inspirant du schéma proposé dans les précédentes questions, il s’agit ici de\n",
    "produire un troisième fichier qui contient tous les couples (nom, prénom) qui sont\n",
    "présents dans un fichier mais pas dans les deux à la fois."
   ],
   "metadata": {
    "collapsed": false,
    "pycharm": {
     "name": "#%% md\n"
    }
   }
  },
  {
   "cell_type": "code",
   "execution_count": null,
   "outputs": [],
   "source": [
    "def uniqueOnly(dicoa, dicob):\n",
    "    uniqueDico = {}\n",
    "    for i in dicoa.keys() & ~(dicob.keys()):\n",
    "        uniqueDico[i] = dicoa[i] + dicob[i]"
   ],
   "metadata": {
    "collapsed": false,
    "pycharm": {
     "name": "#%%\n"
    }
   }
  },
  {
   "cell_type": "markdown",
   "source": [
    "    10. Serait-il compliqué d’écrire une fonction qui permette de fusionner 3 fichiers ? n\n",
    "fichiers ? Justifier."
   ],
   "metadata": {
    "collapsed": false,
    "pycharm": {
     "name": "#%% md\n"
    }
   }
  },
  {
   "cell_type": "markdown",
   "source": [
    "    Non, il suffirait de faire l'opération de fusion en deux étapes. Fusionne le fichier A et B puis fusionner la résultante avec le fichier C. On aurait ainsi une fusion de 3 fichiers."
   ],
   "metadata": {
    "collapsed": false,
    "pycharm": {
     "name": "#%% md\n"
    }
   }
  }
 ],
 "metadata": {
  "kernelspec": {
   "display_name": "Python 3",
   "language": "python",
   "name": "python3"
  },
  "language_info": {
   "codemirror_mode": {
    "name": "ipython",
    "version": 2
   },
   "file_extension": ".py",
   "mimetype": "text/x-python",
   "name": "python",
   "nbconvert_exporter": "python",
   "pygments_lexer": "ipython2",
   "version": "2.7.6"
  }
 },
 "nbformat": 4,
 "nbformat_minor": 0
}