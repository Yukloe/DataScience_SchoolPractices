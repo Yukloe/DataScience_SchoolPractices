{
 "cells": [
  {
   "cell_type": "code",
   "execution_count": 6,
   "metadata": {
    "collapsed": true,
    "pycharm": {
     "name": "#%%\n"
    }
   },
   "outputs": [],
   "source": [
    "import numpy as np\n",
    "import matplotlib.pyplot as plt\n",
    "from sklearn.svm import SVC\n",
    "from sklearn import datasets\n",
    "from sklearn.preprocessing import StandardScaler\n",
    "from sklearn.datasets import make_moons\n",
    "from sklearn.pipeline import Pipeline"
   ]
  },
  {
   "cell_type": "code",
   "execution_count": 7,
   "outputs": [
    {
     "ename": "SyntaxError",
     "evalue": "invalid syntax (3557892404.py, line 9)",
     "output_type": "error",
     "traceback": [
      "\u001B[1;36m  Input \u001B[1;32mIn [7]\u001B[1;36m\u001B[0m\n\u001B[1;33m    plt.contour f ( x0 , x1 , y_pred , cmap=plt .cm.brg , alpha =0.2)\u001B[0m\n\u001B[1;37m                ^\u001B[0m\n\u001B[1;31mSyntaxError\u001B[0m\u001B[1;31m:\u001B[0m invalid syntax\n"
     ]
    }
   ],
   "source": [
    "X, y = make_moons ( n_samples=100 , noise =0.15 , random_state=42)\n",
    "def plot_predictions ( clf, axes ) :\n",
    "    x0s = np . linspace ( axes [ 0 ] , axes [ 1 ] , 100)\n",
    "    x1s = np . linspace ( axes [ 2 ] , axes [ 3 ] , 100)\n",
    "    x0 , x1 = np . meshgrid ( x0s , x1s )\n",
    "    X = np . c_[ x0 . ravel ( ) , x1 . ravel( ) ]\n",
    "    y_pred = clf.predict (X) . reshape ( x0 . shape )\n",
    "    y_decision = clf.decision_function (X) . reshape ( x0 . shape )\n",
    "    plt.contour f ( x0 , x1 , y_pred , cmap=plt .cm.brg , alpha =0.2)\n",
    "    plt.contour f ( x0 , x1 , y_deci s ion , cmap=plt .cm.brg , alpha =0.1)\n",
    "\n",
    "poly_kernel_svm_clf = Pipeline([\n",
    "    ( \"scaler\" , StandardScaler( )) ,\n",
    "                      ( \" svm_clf \" , SVC( kernel=\" poly \" , degree=3, coef0=1, C=5))\n",
    "] )\n",
    "\n",
    "poly_kernel_svm_clf .fit (X, y)\n",
    "poly100_kernel_svm_clf = Pipeline([\n",
    "    ( \"scaler\", StandardScaler()) ,\n",
    "                                      ( \" svm_clf \" , SVC( kernel=\" poly \" , degree=10, coef0 =100 , C=5))\n",
    "])\n",
    "\n",
    "poly100_kernel_svm_clf.fit(X,y)\n",
    "plt.figure(figsize =(11 , 4 ) )\n",
    "plt.subplot (121)\n",
    "plot_predictions ( poly_kernel_svm_clf , [ -1.5 , 2 . 5 , -1, 1 . 5 ] )\n",
    "plot_dataset (X, y , [ -1.5 , 2.5 , -1, 1.5 ] )\n",
    "plt.title (r \"$d=3, r=1, C=5$\" , fontsize =18)\n",
    "plt.subplot (122)\n",
    "plot_predictions ( poly100_kernel_svm_clf , [ -1.5 , 2 . 5 , -1, 1 . 5 ] )\n",
    "plot_dataset (X, y , [ -1.5 , 2.5 , -1, 1.5 ] )\n",
    "plt.title ( r \"$d=10, r=100 , C=5$\" , fontsize =18)\n",
    "save_fig ( \"moons_kernelized_polynomial_svc_plot \" )\n",
    "plt.show ( )\n"
   ],
   "metadata": {
    "collapsed": false,
    "pycharm": {
     "name": "#%%\n"
    }
   }
  },
  {
   "cell_type": "code",
   "execution_count": null,
   "outputs": [],
   "source": [],
   "metadata": {
    "collapsed": false,
    "pycharm": {
     "name": "#%%\n"
    }
   }
  }
 ],
 "metadata": {
  "kernelspec": {
   "display_name": "Python 3",
   "language": "python",
   "name": "python3"
  },
  "language_info": {
   "codemirror_mode": {
    "name": "ipython",
    "version": 2
   },
   "file_extension": ".py",
   "mimetype": "text/x-python",
   "name": "python",
   "nbconvert_exporter": "python",
   "pygments_lexer": "ipython2",
   "version": "2.7.6"
  }
 },
 "nbformat": 4,
 "nbformat_minor": 0
}