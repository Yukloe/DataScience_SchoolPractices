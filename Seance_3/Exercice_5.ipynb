{
 "cells": [
  {
   "cell_type": "markdown",
   "metadata": {
    "pycharm": {
     "name": "#%% md\n"
    }
   },
   "source": [
    "# Enoncé\n",
    "Pour réaliser cet exercice, vous allez devoir à la fois manipuler des concepts vu en cours ainsi d'autres non acquis. Vous allez devoir prendre le temps de lire la documentation des différentes bibliothèques.\n",
    "\n",
    "Vous devez créer un modèle de prédiction d'usage d'un système de vélos en libre service. Pour celà, vous avez collecté pendant plusieurs mois les données d'utilisation du système de la ville de Parme ainsi que des données météo associées. Vous devez nettoyer ces données afin qu'elles soient directement exploitables par la bibliothèque de machine learning de votre choix.\n",
    "\n",
    "\n",
    "Les données sont accessibles sur ent: brut.zip\n",
    "\n",
    "## Travail demandé\n",
    "\n",
    "Écrivez le code qui permet de :\n",
    "\n",
    "1. lire les données brutes directement depuis le fichier zip sans étape de décompression intermédiaire (voir les modules zipfile et pandas);\n",
    "\n",
    "2. supprimer les données abérentes (dates/heures impossibles, données invalide, erreur de collecte) ;\n",
    "\n",
    "3. normaliser le nom des stations (les noms peuvent avoir changé au cours du temps) grâce au fichier brut/bicincitta_parma_summary.csv ;\n",
    "\n",
    "4. ré-échantilloner les données pour avoir un enregistrement toutes les 10 minutes(au lieu de 5 minutes (voir la méthode resample des DataFrames);\n",
    "\n",
    "5. fusionner les données vélo et météo (voir la méthode merge des DataFrames);\n",
    "\n",
    "6. stocker les données transformées sous la forme suivante :\n",
    "        6.1 dossier différent par station (soit 24 dossiers) (voir groupby);\n",
    "        6.2 Dans chaque dossier, 1 fichier par sous-série temporelle au format .csv.gz. Une sous série temporelle contient tous les exemples consécutif d'une station. Le nombre de sous séries dépend du nombre de \"trous\" dans les données (i.e., le nombre de fois où il y a plus de 10 minutes d'écart entre deux enregistrements consécutifs). Il s'agit probablement de la partie la plus compliquée de ce travail. À vous de trouver comment détecter cette présence de trous.\n",
    "Il est préférable, mais pas obligatoire, d'utiliser une barre de progression pour donner une idée de la quantité de calcul restant et de l'attente.\n",
    "\n",
    "Le contenu généré dans un fichier d'une sous-série doit ressembler à:\n",
    "\n",
    "\n",
    "Timestamp;Station;Bikes;Slots;Total;Status;Humidity;Pressure;Rain;WindDeg;WindSpeed;Snow;TemperatureTemp\n",
    "2018-01-25 11:20:00;01. Duc;3;5;8;Mist;81.0;1028.0;{};240;1.5;{};5.7\n",
    "2018-01-25 11:30:00;01. Duc;3;5;8;Mist;81.0;1028.0;{};240;1.5;{};5.69\n",
    "2018-01-25 11:40:00;01. Duc;3;5;8;Mist;81.0;1028.0;{};240;1.5;{};5.69\n",
    "2018-01-25 11:50:00;01. Duc;3;5;8;Mist;81.0;1028.0;{};240;1.5;{};6.64\n",
    "2018-01-25 12:00:00;01. Duc;3;5;8;Mist;81.0;1028.0;{};240;1.5;{};5.78\n",
    "2018-01-25 12:10:00;01. Duc;3;5;8;Mist;81.0;1028.0;{};240;1.5;{};5.78\n",
    "2018-01-25 12:20:00;01. Duc;3;5;8;Mist;75.0;1027.0;{};290;2.1;{};6.47\n",
    "2018-01-25 12:30:00;01. Duc;3;5;8;Mist;75.0;1027.0;{};290;2.1;{};6.46\n",
    "2018-01-25 12:40:00;01. Duc;3;5;8;Mist;75.0;1027.0;{};290;2.1;{};6.44\n",
    "2018-01-25 12:50:00;01. Duc;3;5;8;Mist;75.0;1027.0;{};290;2.1;{};8.0\n",
    "2018-01-25 13:00:00;01. Duc;3;4;7;Mist;75.0;1027.0;{};290;2.1;{};6.79\n",
    "2018-01-25 13:10:00;01. Duc;3;4;7;Mist;75.0;1027.0;{};290;2.1;{};6.79\n",
    "\n",
    "\n",
    "Le format des données vélo est le suivant :\n",
    "\n",
    "date;Station;Status;Nombre de vélos disponibles;Nombre d'emplacements disponibles\n",
    "\n",
    "\n",
    "\n",
    "Le format des données climat est le suivant :\n",
    "\n",
    "Timestamp;Status;Clouds;Humidity;Pressure;Rain;\"WindGust;WindVarEnd;WindVarBeg;Wind\n",
    "\n",
    "\n",
    "Il n'y a pas besoin de comprendre le sens des colonnes pour effectuer le travail. Voici un extrait de fichier.\n",
    "\n",
    "# Remarques\n",
    "\n",
    "1. Pour des raisons d'efficacité, il est préférable de travailler avec des extraits de données lors de la phase de développement\n",
    "2. Vous pouvez effectuer le nettoyage en plusieurs étapes intérmédiaires avec sauvegarde \n",
    "3. Utilisez les bibliothèques de votre choix\n",
    "4. La partie apprentissage ne nous intéresse pas du tout pour ce projet.\n",
    "\n"
   ]
  },
  {
   "cell_type": "code",
   "execution_count": 1,
   "metadata": {
    "pycharm": {
     "name": "#%%\n"
    }
   },
   "outputs": [],
   "source": [
    "import pandas as pd\n",
    "import numpy as np\n",
    "import seaborn as sns\n",
    "import csv\n",
    "import zipfile as zip"
   ]
  },
  {
   "cell_type": "markdown",
   "source": [
    "    1 : Ouverture fichier depuis le zip"
   ],
   "metadata": {
    "collapsed": false,
    "pycharm": {
     "name": "#%% md\n"
    }
   }
  },
  {
   "cell_type": "code",
   "execution_count": 2,
   "outputs": [],
   "source": [
    "with zip.ZipFile(\"brut.zip\") as z:\n",
    "    with z.open(\"brut/bicincitta_parma_summary.csv\") as f:\n",
    "        velo_parma_summary_brut = pd.read_csv(f, delimiter=\";\")\n",
    "    with z.open(\"brut/status_bicincitta_parma.csv\") as f:\n",
    "        status_velo_parma_brut = pd.read_csv(f, header=None, delimiter=\";\", names=['Timestamp', 'Station', 'Valide', 'Velos disponibles', 'Emplacements disponibles'])\n",
    "    with z.open(\"brut/weather_bicincitta_parma.csv\") as f:\n",
    "        meteo_velo_parma_brut = pd.read_csv(f, header=None, delimiter=\";\", names=['Timestamp', 'Status', 'Nuage', 'Humidité', 'Pression', 'Pluie', 'Rafale de vent', 'Variation fin', 'Variation début', 'WindDeg', 'Vitesse du vent', 'Neige', 'Temperature max', 'Temperature min', 'Temperature'])"
   ],
   "metadata": {
    "collapsed": false,
    "pycharm": {
     "name": "#%%\n"
    }
   }
  },
  {
   "cell_type": "code",
   "execution_count": 3,
   "outputs": [
    {
     "data": {
      "text/plain": "             system                station   latitude  longitude  elevation\n0  bicincitta_parma                01. Duc  44.807118  10.332934  51.076065\n1  bicincitta_parma  02. Ospedale Maggiore  44.802263  10.306275  56.344078\n2  bicincitta_parma       03. Traversetolo  44.781595  10.344492  58.324486\n3  bicincitta_parma     04. Campus Chimica  44.766433  10.314547  76.587212\n4  bicincitta_parma    05. Stazione FF.SS.  44.809888  10.327693  57.179089",
      "text/html": "<div>\n<style scoped>\n    .dataframe tbody tr th:only-of-type {\n        vertical-align: middle;\n    }\n\n    .dataframe tbody tr th {\n        vertical-align: top;\n    }\n\n    .dataframe thead th {\n        text-align: right;\n    }\n</style>\n<table border=\"1\" class=\"dataframe\">\n  <thead>\n    <tr style=\"text-align: right;\">\n      <th></th>\n      <th>system</th>\n      <th>station</th>\n      <th>latitude</th>\n      <th>longitude</th>\n      <th>elevation</th>\n    </tr>\n  </thead>\n  <tbody>\n    <tr>\n      <th>0</th>\n      <td>bicincitta_parma</td>\n      <td>01. Duc</td>\n      <td>44.807118</td>\n      <td>10.332934</td>\n      <td>51.076065</td>\n    </tr>\n    <tr>\n      <th>1</th>\n      <td>bicincitta_parma</td>\n      <td>02. Ospedale Maggiore</td>\n      <td>44.802263</td>\n      <td>10.306275</td>\n      <td>56.344078</td>\n    </tr>\n    <tr>\n      <th>2</th>\n      <td>bicincitta_parma</td>\n      <td>03. Traversetolo</td>\n      <td>44.781595</td>\n      <td>10.344492</td>\n      <td>58.324486</td>\n    </tr>\n    <tr>\n      <th>3</th>\n      <td>bicincitta_parma</td>\n      <td>04. Campus Chimica</td>\n      <td>44.766433</td>\n      <td>10.314547</td>\n      <td>76.587212</td>\n    </tr>\n    <tr>\n      <th>4</th>\n      <td>bicincitta_parma</td>\n      <td>05. Stazione FF.SS.</td>\n      <td>44.809888</td>\n      <td>10.327693</td>\n      <td>57.179089</td>\n    </tr>\n  </tbody>\n</table>\n</div>"
     },
     "execution_count": 3,
     "metadata": {},
     "output_type": "execute_result"
    }
   ],
   "source": [
    "velo_parma_summary_brut.head()"
   ],
   "metadata": {
    "collapsed": false,
    "pycharm": {
     "name": "#%%\n"
    }
   }
  },
  {
   "cell_type": "code",
   "execution_count": 4,
   "outputs": [
    {
     "data": {
      "text/plain": "             Timestamp            Station  Valide  Velos disponibles  \\\n0  2014-11-14 09:35:38                Duc       1                  4   \n1  2014-11-14 09:35:38  Ospedale Maggiore       1                  2   \n2  2014-11-14 09:35:38       Traversetolo       1                  2   \n3  2014-11-14 09:35:38     Campus Chimica       1                  4   \n4  2014-11-14 09:35:38    Stazione FF.SS.       1                  9   \n\n   Emplacements disponibles  \n0                         5  \n1                         7  \n2                         7  \n3                         5  \n4                        10  ",
      "text/html": "<div>\n<style scoped>\n    .dataframe tbody tr th:only-of-type {\n        vertical-align: middle;\n    }\n\n    .dataframe tbody tr th {\n        vertical-align: top;\n    }\n\n    .dataframe thead th {\n        text-align: right;\n    }\n</style>\n<table border=\"1\" class=\"dataframe\">\n  <thead>\n    <tr style=\"text-align: right;\">\n      <th></th>\n      <th>Timestamp</th>\n      <th>Station</th>\n      <th>Valide</th>\n      <th>Velos disponibles</th>\n      <th>Emplacements disponibles</th>\n    </tr>\n  </thead>\n  <tbody>\n    <tr>\n      <th>0</th>\n      <td>2014-11-14 09:35:38</td>\n      <td>Duc</td>\n      <td>1</td>\n      <td>4</td>\n      <td>5</td>\n    </tr>\n    <tr>\n      <th>1</th>\n      <td>2014-11-14 09:35:38</td>\n      <td>Ospedale Maggiore</td>\n      <td>1</td>\n      <td>2</td>\n      <td>7</td>\n    </tr>\n    <tr>\n      <th>2</th>\n      <td>2014-11-14 09:35:38</td>\n      <td>Traversetolo</td>\n      <td>1</td>\n      <td>2</td>\n      <td>7</td>\n    </tr>\n    <tr>\n      <th>3</th>\n      <td>2014-11-14 09:35:38</td>\n      <td>Campus Chimica</td>\n      <td>1</td>\n      <td>4</td>\n      <td>5</td>\n    </tr>\n    <tr>\n      <th>4</th>\n      <td>2014-11-14 09:35:38</td>\n      <td>Stazione FF.SS.</td>\n      <td>1</td>\n      <td>9</td>\n      <td>10</td>\n    </tr>\n  </tbody>\n</table>\n</div>"
     },
     "execution_count": 4,
     "metadata": {},
     "output_type": "execute_result"
    }
   ],
   "source": [
    "status_velo_parma_brut.head()"
   ],
   "metadata": {
    "collapsed": false,
    "pycharm": {
     "name": "#%%\n"
    }
   }
  },
  {
   "cell_type": "code",
   "execution_count": 5,
   "outputs": [
    {
     "data": {
      "text/plain": "             Timestamp  Status  Nuage  Humidité  Pression       Pluie  \\\n0  2014-11-14 09:35:38  clouds     40       100    1013.0  {u'3h': 0}   \n1  2014-11-14 09:45:05    mist     40       100    1014.0  {u'3h': 0}   \n2  2014-11-14 09:50:05    mist     40       100    1014.0  {u'3h': 0}   \n3  2014-11-14 09:55:05  clouds     40       100    1013.0  {u'3h': 0}   \n4  2014-11-14 10:00:04    mist     40       100    1014.0  {u'3h': 0}   \n\n  Rafale de vent Variation fin Variation début  WindDeg  Vitesse du vent  \\\n0           None          None            None  200.504             0.84   \n1           None          None            None  200.504             0.84   \n2           None          None            None  200.504             0.84   \n3           None          None            None  200.504             0.84   \n4           None          None            None  200.504             0.84   \n\n  Neige  Temperature max  Temperature min  Temperature  \n0    {}              9.0              9.0          9.0  \n1    {}             10.0             10.0         10.0  \n2    {}             10.0             10.0         10.0  \n3    {}              9.0              9.0          9.0  \n4    {}             10.0             10.0         10.0  ",
      "text/html": "<div>\n<style scoped>\n    .dataframe tbody tr th:only-of-type {\n        vertical-align: middle;\n    }\n\n    .dataframe tbody tr th {\n        vertical-align: top;\n    }\n\n    .dataframe thead th {\n        text-align: right;\n    }\n</style>\n<table border=\"1\" class=\"dataframe\">\n  <thead>\n    <tr style=\"text-align: right;\">\n      <th></th>\n      <th>Timestamp</th>\n      <th>Status</th>\n      <th>Nuage</th>\n      <th>Humidité</th>\n      <th>Pression</th>\n      <th>Pluie</th>\n      <th>Rafale de vent</th>\n      <th>Variation fin</th>\n      <th>Variation début</th>\n      <th>WindDeg</th>\n      <th>Vitesse du vent</th>\n      <th>Neige</th>\n      <th>Temperature max</th>\n      <th>Temperature min</th>\n      <th>Temperature</th>\n    </tr>\n  </thead>\n  <tbody>\n    <tr>\n      <th>0</th>\n      <td>2014-11-14 09:35:38</td>\n      <td>clouds</td>\n      <td>40</td>\n      <td>100</td>\n      <td>1013.0</td>\n      <td>{u'3h': 0}</td>\n      <td>None</td>\n      <td>None</td>\n      <td>None</td>\n      <td>200.504</td>\n      <td>0.84</td>\n      <td>{}</td>\n      <td>9.0</td>\n      <td>9.0</td>\n      <td>9.0</td>\n    </tr>\n    <tr>\n      <th>1</th>\n      <td>2014-11-14 09:45:05</td>\n      <td>mist</td>\n      <td>40</td>\n      <td>100</td>\n      <td>1014.0</td>\n      <td>{u'3h': 0}</td>\n      <td>None</td>\n      <td>None</td>\n      <td>None</td>\n      <td>200.504</td>\n      <td>0.84</td>\n      <td>{}</td>\n      <td>10.0</td>\n      <td>10.0</td>\n      <td>10.0</td>\n    </tr>\n    <tr>\n      <th>2</th>\n      <td>2014-11-14 09:50:05</td>\n      <td>mist</td>\n      <td>40</td>\n      <td>100</td>\n      <td>1014.0</td>\n      <td>{u'3h': 0}</td>\n      <td>None</td>\n      <td>None</td>\n      <td>None</td>\n      <td>200.504</td>\n      <td>0.84</td>\n      <td>{}</td>\n      <td>10.0</td>\n      <td>10.0</td>\n      <td>10.0</td>\n    </tr>\n    <tr>\n      <th>3</th>\n      <td>2014-11-14 09:55:05</td>\n      <td>clouds</td>\n      <td>40</td>\n      <td>100</td>\n      <td>1013.0</td>\n      <td>{u'3h': 0}</td>\n      <td>None</td>\n      <td>None</td>\n      <td>None</td>\n      <td>200.504</td>\n      <td>0.84</td>\n      <td>{}</td>\n      <td>9.0</td>\n      <td>9.0</td>\n      <td>9.0</td>\n    </tr>\n    <tr>\n      <th>4</th>\n      <td>2014-11-14 10:00:04</td>\n      <td>mist</td>\n      <td>40</td>\n      <td>100</td>\n      <td>1014.0</td>\n      <td>{u'3h': 0}</td>\n      <td>None</td>\n      <td>None</td>\n      <td>None</td>\n      <td>200.504</td>\n      <td>0.84</td>\n      <td>{}</td>\n      <td>10.0</td>\n      <td>10.0</td>\n      <td>10.0</td>\n    </tr>\n  </tbody>\n</table>\n</div>"
     },
     "execution_count": 5,
     "metadata": {},
     "output_type": "execute_result"
    }
   ],
   "source": [
    "meteo_velo_parma_brut.head()"
   ],
   "metadata": {
    "collapsed": false,
    "pycharm": {
     "name": "#%%\n"
    }
   }
  },
  {
   "cell_type": "markdown",
   "source": [
    "    2 - Nettoyage des données abérentes"
   ],
   "metadata": {
    "collapsed": false,
    "pycharm": {
     "name": "#%% md\n"
    }
   }
  },
  {
   "cell_type": "markdown",
   "source": [
    "Cherchons tout d'abord quelles données sont abérentes afin de les nettoyer.\n",
    "\n",
    "Déjà, on peut supprimer les lignes invalides du fichier statut_velo_parma."
   ],
   "metadata": {
    "collapsed": false,
    "pycharm": {
     "name": "#%% md\n"
    }
   }
  },
  {
   "cell_type": "code",
   "execution_count": 6,
   "outputs": [],
   "source": [
    "status_velo_parma_valid = status_velo_parma_brut.query(\"Valide == 1\")"
   ],
   "metadata": {
    "collapsed": false,
    "pycharm": {
     "name": "#%%\n"
    }
   }
  },
  {
   "cell_type": "code",
   "execution_count": 7,
   "outputs": [
    {
     "data": {
      "text/plain": "             Timestamp            Station  Valide  Velos disponibles  \\\n0  2014-11-14 09:35:38                Duc       1                  4   \n1  2014-11-14 09:35:38  Ospedale Maggiore       1                  2   \n2  2014-11-14 09:35:38       Traversetolo       1                  2   \n3  2014-11-14 09:35:38     Campus Chimica       1                  4   \n4  2014-11-14 09:35:38    Stazione FF.SS.       1                  9   \n\n   Emplacements disponibles  \n0                         5  \n1                         7  \n2                         7  \n3                         5  \n4                        10  ",
      "text/html": "<div>\n<style scoped>\n    .dataframe tbody tr th:only-of-type {\n        vertical-align: middle;\n    }\n\n    .dataframe tbody tr th {\n        vertical-align: top;\n    }\n\n    .dataframe thead th {\n        text-align: right;\n    }\n</style>\n<table border=\"1\" class=\"dataframe\">\n  <thead>\n    <tr style=\"text-align: right;\">\n      <th></th>\n      <th>Timestamp</th>\n      <th>Station</th>\n      <th>Valide</th>\n      <th>Velos disponibles</th>\n      <th>Emplacements disponibles</th>\n    </tr>\n  </thead>\n  <tbody>\n    <tr>\n      <th>0</th>\n      <td>2014-11-14 09:35:38</td>\n      <td>Duc</td>\n      <td>1</td>\n      <td>4</td>\n      <td>5</td>\n    </tr>\n    <tr>\n      <th>1</th>\n      <td>2014-11-14 09:35:38</td>\n      <td>Ospedale Maggiore</td>\n      <td>1</td>\n      <td>2</td>\n      <td>7</td>\n    </tr>\n    <tr>\n      <th>2</th>\n      <td>2014-11-14 09:35:38</td>\n      <td>Traversetolo</td>\n      <td>1</td>\n      <td>2</td>\n      <td>7</td>\n    </tr>\n    <tr>\n      <th>3</th>\n      <td>2014-11-14 09:35:38</td>\n      <td>Campus Chimica</td>\n      <td>1</td>\n      <td>4</td>\n      <td>5</td>\n    </tr>\n    <tr>\n      <th>4</th>\n      <td>2014-11-14 09:35:38</td>\n      <td>Stazione FF.SS.</td>\n      <td>1</td>\n      <td>9</td>\n      <td>10</td>\n    </tr>\n  </tbody>\n</table>\n</div>"
     },
     "execution_count": 7,
     "metadata": {},
     "output_type": "execute_result"
    }
   ],
   "source": [
    "status_velo_parma_valid.head()"
   ],
   "metadata": {
    "collapsed": false,
    "pycharm": {
     "name": "#%%\n"
    }
   }
  },
  {
   "cell_type": "markdown",
   "source": [
    "La colonne valide n'a maintenant plus d'intéret. On peut donc l'enlever :"
   ],
   "metadata": {
    "collapsed": false,
    "pycharm": {
     "name": "#%% md\n"
    }
   }
  },
  {
   "cell_type": "code",
   "execution_count": 8,
   "outputs": [],
   "source": [
    "status_velo_parma = status_velo_parma_valid.drop(\"Valide\", axis=1)"
   ],
   "metadata": {
    "collapsed": false,
    "pycharm": {
     "name": "#%%\n"
    }
   }
  },
  {
   "cell_type": "code",
   "execution_count": 9,
   "outputs": [
    {
     "data": {
      "text/plain": "             Timestamp            Station  Velos disponibles  \\\n0  2014-11-14 09:35:38                Duc                  4   \n1  2014-11-14 09:35:38  Ospedale Maggiore                  2   \n2  2014-11-14 09:35:38       Traversetolo                  2   \n3  2014-11-14 09:35:38     Campus Chimica                  4   \n4  2014-11-14 09:35:38    Stazione FF.SS.                  9   \n\n   Emplacements disponibles  \n0                         5  \n1                         7  \n2                         7  \n3                         5  \n4                        10  ",
      "text/html": "<div>\n<style scoped>\n    .dataframe tbody tr th:only-of-type {\n        vertical-align: middle;\n    }\n\n    .dataframe tbody tr th {\n        vertical-align: top;\n    }\n\n    .dataframe thead th {\n        text-align: right;\n    }\n</style>\n<table border=\"1\" class=\"dataframe\">\n  <thead>\n    <tr style=\"text-align: right;\">\n      <th></th>\n      <th>Timestamp</th>\n      <th>Station</th>\n      <th>Velos disponibles</th>\n      <th>Emplacements disponibles</th>\n    </tr>\n  </thead>\n  <tbody>\n    <tr>\n      <th>0</th>\n      <td>2014-11-14 09:35:38</td>\n      <td>Duc</td>\n      <td>4</td>\n      <td>5</td>\n    </tr>\n    <tr>\n      <th>1</th>\n      <td>2014-11-14 09:35:38</td>\n      <td>Ospedale Maggiore</td>\n      <td>2</td>\n      <td>7</td>\n    </tr>\n    <tr>\n      <th>2</th>\n      <td>2014-11-14 09:35:38</td>\n      <td>Traversetolo</td>\n      <td>2</td>\n      <td>7</td>\n    </tr>\n    <tr>\n      <th>3</th>\n      <td>2014-11-14 09:35:38</td>\n      <td>Campus Chimica</td>\n      <td>4</td>\n      <td>5</td>\n    </tr>\n    <tr>\n      <th>4</th>\n      <td>2014-11-14 09:35:38</td>\n      <td>Stazione FF.SS.</td>\n      <td>9</td>\n      <td>10</td>\n    </tr>\n  </tbody>\n</table>\n</div>"
     },
     "execution_count": 9,
     "metadata": {},
     "output_type": "execute_result"
    }
   ],
   "source": [
    "status_velo_parma.head()"
   ],
   "metadata": {
    "collapsed": false,
    "pycharm": {
     "name": "#%%\n"
    }
   }
  },
  {
   "cell_type": "code",
   "execution_count": 10,
   "outputs": [
    {
     "data": {
      "text/plain": "<seaborn.axisgrid.FacetGrid at 0x2470aa74c40>"
     },
     "execution_count": 10,
     "metadata": {},
     "output_type": "execute_result"
    },
    {
     "data": {
      "text/plain": "<Figure size 360x360 with 1 Axes>",
      "image/png": "[encoded data removed]"
     },
     "metadata": {},
     "output_type": "display_data"
    }
   ],
   "source": [
    "status_velo_parma['Timestamp'] = pd.to_datetime(status_velo_parma['Timestamp'])\n",
    "sns.displot(status_velo_parma['Timestamp'], bins= 50, x= status_velo_parma['Timestamp'])"
   ],
   "metadata": {
    "collapsed": false,
    "pycharm": {
     "name": "#%%\n"
    }
   }
  },
  {
   "cell_type": "code",
   "execution_count": 11,
   "outputs": [
    {
     "name": "stdout",
     "output_type": "stream",
     "text": [
      "2014-11-14 09:35:38\n",
      "2018-06-30 23:55:04\n"
     ]
    }
   ],
   "source": [
    "print(status_velo_parma['Timestamp'].min())\n",
    "print(status_velo_parma['Timestamp'].max())"
   ],
   "metadata": {
    "collapsed": false,
    "pycharm": {
     "name": "#%%\n"
    }
   }
  },
  {
   "cell_type": "markdown",
   "source": [
    "Les données date semblent être fiable. Pas de nettoyage nécessaire à ce niveau-là. On peut quand même souligner que nous avons deux périodes sans données.\n"
   ],
   "metadata": {
    "collapsed": false,
    "pycharm": {
     "name": "#%% md\n"
    }
   }
  },
  {
   "cell_type": "code",
   "execution_count": 12,
   "outputs": [
    {
     "data": {
      "text/plain": "            Timestamp            Station  Velos disponibles  \\\n0 2014-11-14 09:35:38                Duc                  4   \n1 2014-11-14 09:35:38  Ospedale Maggiore                  2   \n2 2014-11-14 09:35:38       Traversetolo                  2   \n3 2014-11-14 09:35:38     Campus Chimica                  4   \n4 2014-11-14 09:35:38    Stazione FF.SS.                  9   \n\n   Emplacements disponibles  \n0                         5  \n1                         7  \n2                         7  \n3                         5  \n4                        10  ",
      "text/html": "<div>\n<style scoped>\n    .dataframe tbody tr th:only-of-type {\n        vertical-align: middle;\n    }\n\n    .dataframe tbody tr th {\n        vertical-align: top;\n    }\n\n    .dataframe thead th {\n        text-align: right;\n    }\n</style>\n<table border=\"1\" class=\"dataframe\">\n  <thead>\n    <tr style=\"text-align: right;\">\n      <th></th>\n      <th>Timestamp</th>\n      <th>Station</th>\n      <th>Velos disponibles</th>\n      <th>Emplacements disponibles</th>\n    </tr>\n  </thead>\n  <tbody>\n    <tr>\n      <th>0</th>\n      <td>2014-11-14 09:35:38</td>\n      <td>Duc</td>\n      <td>4</td>\n      <td>5</td>\n    </tr>\n    <tr>\n      <th>1</th>\n      <td>2014-11-14 09:35:38</td>\n      <td>Ospedale Maggiore</td>\n      <td>2</td>\n      <td>7</td>\n    </tr>\n    <tr>\n      <th>2</th>\n      <td>2014-11-14 09:35:38</td>\n      <td>Traversetolo</td>\n      <td>2</td>\n      <td>7</td>\n    </tr>\n    <tr>\n      <th>3</th>\n      <td>2014-11-14 09:35:38</td>\n      <td>Campus Chimica</td>\n      <td>4</td>\n      <td>5</td>\n    </tr>\n    <tr>\n      <th>4</th>\n      <td>2014-11-14 09:35:38</td>\n      <td>Stazione FF.SS.</td>\n      <td>9</td>\n      <td>10</td>\n    </tr>\n  </tbody>\n</table>\n</div>"
     },
     "execution_count": 12,
     "metadata": {},
     "output_type": "execute_result"
    }
   ],
   "source": [
    "status_velo_parma.head()"
   ],
   "metadata": {
    "collapsed": false,
    "pycharm": {
     "name": "#%%\n"
    }
   }
  },
  {
   "cell_type": "code",
   "execution_count": 13,
   "outputs": [
    {
     "name": "stdout",
     "output_type": "stream",
     "text": [
      "bicincitta_parma    24\n",
      "Name: system, dtype: int64\n"
     ]
    }
   ],
   "source": [
    "print(velo_parma_summary_brut['system'].value_counts())"
   ],
   "metadata": {
    "collapsed": false,
    "pycharm": {
     "name": "#%%\n"
    }
   }
  },
  {
   "cell_type": "code",
   "execution_count": 14,
   "outputs": [
    {
     "name": "stdout",
     "output_type": "stream",
     "text": [
      "['01. Duc', '02. Ospedale Maggiore', '03. Traversetolo', '04. Campus Chimica', '05. Stazione FF.SS.', '06. Ponte di Mezzo', '07. Santa Croce', '08. Bixio', '09. Farini', '10. Barilla Center', '11. Dus', '12. Barezzi', '13. Borgo XX Marzo', '14. Garibaldi', '15. Repubblica', '16. Toschi', '17. Rondani', '18. Crocetta', '19. Boito', '20. Efsa', '21. Kennedy', '22. Cittadella', '23. Vittoria', '24. Campus']\n"
     ]
    }
   ],
   "source": [
    "print(velo_parma_summary_brut['station'].to_list())"
   ],
   "metadata": {
    "collapsed": false,
    "pycharm": {
     "name": "#%%\n"
    }
   }
  },
  {
   "cell_type": "code",
   "execution_count": 15,
   "outputs": [],
   "source": [
    "velo_parma_summary_brut['station'] = velo_parma_summary_brut['station'].astype(str)\n",
    "velo_parma_summary = velo_parma_summary_brut\n",
    "velo_parma_summary['station'] = velo_parma_summary_brut['station'].str.extract('(\\d\\d\\.\\s)(.*)')[1]"
   ],
   "metadata": {
    "collapsed": false,
    "pycharm": {
     "name": "#%%\n"
    }
   }
  },
  {
   "cell_type": "code",
   "execution_count": 16,
   "outputs": [
    {
     "data": {
      "text/plain": "             system            station   latitude  longitude  elevation\n0  bicincitta_parma                Duc  44.807118  10.332934  51.076065\n1  bicincitta_parma  Ospedale Maggiore  44.802263  10.306275  56.344078\n2  bicincitta_parma       Traversetolo  44.781595  10.344492  58.324486\n3  bicincitta_parma     Campus Chimica  44.766433  10.314547  76.587212\n4  bicincitta_parma    Stazione FF.SS.  44.809888  10.327693  57.179089",
      "text/html": "<div>\n<style scoped>\n    .dataframe tbody tr th:only-of-type {\n        vertical-align: middle;\n    }\n\n    .dataframe tbody tr th {\n        vertical-align: top;\n    }\n\n    .dataframe thead th {\n        text-align: right;\n    }\n</style>\n<table border=\"1\" class=\"dataframe\">\n  <thead>\n    <tr style=\"text-align: right;\">\n      <th></th>\n      <th>system</th>\n      <th>station</th>\n      <th>latitude</th>\n      <th>longitude</th>\n      <th>elevation</th>\n    </tr>\n  </thead>\n  <tbody>\n    <tr>\n      <th>0</th>\n      <td>bicincitta_parma</td>\n      <td>Duc</td>\n      <td>44.807118</td>\n      <td>10.332934</td>\n      <td>51.076065</td>\n    </tr>\n    <tr>\n      <th>1</th>\n      <td>bicincitta_parma</td>\n      <td>Ospedale Maggiore</td>\n      <td>44.802263</td>\n      <td>10.306275</td>\n      <td>56.344078</td>\n    </tr>\n    <tr>\n      <th>2</th>\n      <td>bicincitta_parma</td>\n      <td>Traversetolo</td>\n      <td>44.781595</td>\n      <td>10.344492</td>\n      <td>58.324486</td>\n    </tr>\n    <tr>\n      <th>3</th>\n      <td>bicincitta_parma</td>\n      <td>Campus Chimica</td>\n      <td>44.766433</td>\n      <td>10.314547</td>\n      <td>76.587212</td>\n    </tr>\n    <tr>\n      <th>4</th>\n      <td>bicincitta_parma</td>\n      <td>Stazione FF.SS.</td>\n      <td>44.809888</td>\n      <td>10.327693</td>\n      <td>57.179089</td>\n    </tr>\n  </tbody>\n</table>\n</div>"
     },
     "execution_count": 16,
     "metadata": {},
     "output_type": "execute_result"
    }
   ],
   "source": [
    "velo_parma_summary.head()"
   ],
   "metadata": {
    "collapsed": false,
    "pycharm": {
     "name": "#%%\n"
    }
   }
  },
  {
   "cell_type": "code",
   "execution_count": 17,
   "outputs": [],
   "source": [
    "velo_parma_summary = velo_parma_summary.drop(\"system\", axis=1)"
   ],
   "metadata": {
    "collapsed": false,
    "pycharm": {
     "name": "#%%\n"
    }
   }
  },
  {
   "cell_type": "code",
   "execution_count": 18,
   "outputs": [
    {
     "data": {
      "text/plain": "             station   latitude  longitude  elevation\n0                Duc  44.807118  10.332934  51.076065\n1  Ospedale Maggiore  44.802263  10.306275  56.344078\n2       Traversetolo  44.781595  10.344492  58.324486\n3     Campus Chimica  44.766433  10.314547  76.587212\n4    Stazione FF.SS.  44.809888  10.327693  57.179089",
      "text/html": "<div>\n<style scoped>\n    .dataframe tbody tr th:only-of-type {\n        vertical-align: middle;\n    }\n\n    .dataframe tbody tr th {\n        vertical-align: top;\n    }\n\n    .dataframe thead th {\n        text-align: right;\n    }\n</style>\n<table border=\"1\" class=\"dataframe\">\n  <thead>\n    <tr style=\"text-align: right;\">\n      <th></th>\n      <th>station</th>\n      <th>latitude</th>\n      <th>longitude</th>\n      <th>elevation</th>\n    </tr>\n  </thead>\n  <tbody>\n    <tr>\n      <th>0</th>\n      <td>Duc</td>\n      <td>44.807118</td>\n      <td>10.332934</td>\n      <td>51.076065</td>\n    </tr>\n    <tr>\n      <th>1</th>\n      <td>Ospedale Maggiore</td>\n      <td>44.802263</td>\n      <td>10.306275</td>\n      <td>56.344078</td>\n    </tr>\n    <tr>\n      <th>2</th>\n      <td>Traversetolo</td>\n      <td>44.781595</td>\n      <td>10.344492</td>\n      <td>58.324486</td>\n    </tr>\n    <tr>\n      <th>3</th>\n      <td>Campus Chimica</td>\n      <td>44.766433</td>\n      <td>10.314547</td>\n      <td>76.587212</td>\n    </tr>\n    <tr>\n      <th>4</th>\n      <td>Stazione FF.SS.</td>\n      <td>44.809888</td>\n      <td>10.327693</td>\n      <td>57.179089</td>\n    </tr>\n  </tbody>\n</table>\n</div>"
     },
     "execution_count": 18,
     "metadata": {},
     "output_type": "execute_result"
    }
   ],
   "source": [
    "velo_parma_summary.head()"
   ],
   "metadata": {
    "collapsed": false,
    "pycharm": {
     "name": "#%%\n"
    }
   }
  },
  {
   "cell_type": "markdown",
   "source": [
    "Le fichier velo_parma_summary devrait maintenant être utilisable.\n",
    "\n",
    "Regardons le fichier météo."
   ],
   "metadata": {
    "collapsed": false,
    "pycharm": {
     "name": "#%% md\n"
    }
   }
  },
  {
   "cell_type": "code",
   "execution_count": 19,
   "outputs": [
    {
     "data": {
      "text/plain": "             Timestamp  Status  Nuage  Humidité  Pression       Pluie  \\\n0  2014-11-14 09:35:38  clouds     40       100    1013.0  {u'3h': 0}   \n1  2014-11-14 09:45:05    mist     40       100    1014.0  {u'3h': 0}   \n2  2014-11-14 09:50:05    mist     40       100    1014.0  {u'3h': 0}   \n3  2014-11-14 09:55:05  clouds     40       100    1013.0  {u'3h': 0}   \n4  2014-11-14 10:00:04    mist     40       100    1014.0  {u'3h': 0}   \n\n  Rafale de vent Variation fin Variation début  WindDeg  Vitesse du vent  \\\n0           None          None            None  200.504             0.84   \n1           None          None            None  200.504             0.84   \n2           None          None            None  200.504             0.84   \n3           None          None            None  200.504             0.84   \n4           None          None            None  200.504             0.84   \n\n  Neige  Temperature max  Temperature min  Temperature  \n0    {}              9.0              9.0          9.0  \n1    {}             10.0             10.0         10.0  \n2    {}             10.0             10.0         10.0  \n3    {}              9.0              9.0          9.0  \n4    {}             10.0             10.0         10.0  ",
      "text/html": "<div>\n<style scoped>\n    .dataframe tbody tr th:only-of-type {\n        vertical-align: middle;\n    }\n\n    .dataframe tbody tr th {\n        vertical-align: top;\n    }\n\n    .dataframe thead th {\n        text-align: right;\n    }\n</style>\n<table border=\"1\" class=\"dataframe\">\n  <thead>\n    <tr style=\"text-align: right;\">\n      <th></th>\n      <th>Timestamp</th>\n      <th>Status</th>\n      <th>Nuage</th>\n      <th>Humidité</th>\n      <th>Pression</th>\n      <th>Pluie</th>\n      <th>Rafale de vent</th>\n      <th>Variation fin</th>\n      <th>Variation début</th>\n      <th>WindDeg</th>\n      <th>Vitesse du vent</th>\n      <th>Neige</th>\n      <th>Temperature max</th>\n      <th>Temperature min</th>\n      <th>Temperature</th>\n    </tr>\n  </thead>\n  <tbody>\n    <tr>\n      <th>0</th>\n      <td>2014-11-14 09:35:38</td>\n      <td>clouds</td>\n      <td>40</td>\n      <td>100</td>\n      <td>1013.0</td>\n      <td>{u'3h': 0}</td>\n      <td>None</td>\n      <td>None</td>\n      <td>None</td>\n      <td>200.504</td>\n      <td>0.84</td>\n      <td>{}</td>\n      <td>9.0</td>\n      <td>9.0</td>\n      <td>9.0</td>\n    </tr>\n    <tr>\n      <th>1</th>\n      <td>2014-11-14 09:45:05</td>\n      <td>mist</td>\n      <td>40</td>\n      <td>100</td>\n      <td>1014.0</td>\n      <td>{u'3h': 0}</td>\n      <td>None</td>\n      <td>None</td>\n      <td>None</td>\n      <td>200.504</td>\n      <td>0.84</td>\n      <td>{}</td>\n      <td>10.0</td>\n      <td>10.0</td>\n      <td>10.0</td>\n    </tr>\n    <tr>\n      <th>2</th>\n      <td>2014-11-14 09:50:05</td>\n      <td>mist</td>\n      <td>40</td>\n      <td>100</td>\n      <td>1014.0</td>\n      <td>{u'3h': 0}</td>\n      <td>None</td>\n      <td>None</td>\n      <td>None</td>\n      <td>200.504</td>\n      <td>0.84</td>\n      <td>{}</td>\n      <td>10.0</td>\n      <td>10.0</td>\n      <td>10.0</td>\n    </tr>\n    <tr>\n      <th>3</th>\n      <td>2014-11-14 09:55:05</td>\n      <td>clouds</td>\n      <td>40</td>\n      <td>100</td>\n      <td>1013.0</td>\n      <td>{u'3h': 0}</td>\n      <td>None</td>\n      <td>None</td>\n      <td>None</td>\n      <td>200.504</td>\n      <td>0.84</td>\n      <td>{}</td>\n      <td>9.0</td>\n      <td>9.0</td>\n      <td>9.0</td>\n    </tr>\n    <tr>\n      <th>4</th>\n      <td>2014-11-14 10:00:04</td>\n      <td>mist</td>\n      <td>40</td>\n      <td>100</td>\n      <td>1014.0</td>\n      <td>{u'3h': 0}</td>\n      <td>None</td>\n      <td>None</td>\n      <td>None</td>\n      <td>200.504</td>\n      <td>0.84</td>\n      <td>{}</td>\n      <td>10.0</td>\n      <td>10.0</td>\n      <td>10.0</td>\n    </tr>\n  </tbody>\n</table>\n</div>"
     },
     "execution_count": 19,
     "metadata": {},
     "output_type": "execute_result"
    }
   ],
   "source": [
    "meteo_velo_parma_brut.head()"
   ],
   "metadata": {
    "collapsed": false,
    "pycharm": {
     "name": "#%%\n"
    }
   }
  },
  {
   "cell_type": "code",
   "execution_count": 20,
   "outputs": [
    {
     "name": "stdout",
     "output_type": "stream",
     "text": [
      "{}                 277755\n",
      "{u'3h': 0}           2518\n",
      "{u'3h': 0.5}         1876\n",
      "{u'3h': 1}           1816\n",
      "{u'1h': 0.25}         908\n",
      "                    ...  \n",
      "{u'1h': 7.3}            1\n",
      "{u'1h': 9.27}           1\n",
      "{u'3h': 0.49}           1\n",
      "{u'3h': 0.7325}         1\n",
      "{u'1h': 2.96}           1\n",
      "Name: Pluie, Length: 845, dtype: int64\n"
     ]
    }
   ],
   "source": [
    "print(meteo_velo_parma_brut['Pluie'].value_counts())"
   ],
   "metadata": {
    "collapsed": false,
    "pycharm": {
     "name": "#%%\n"
    }
   }
  },
  {
   "cell_type": "markdown",
   "source": [
    "Je n'arrive pas trop à comprendre la signification exacte du contenu de cette colonne. Supposition: Durée de la pluie et quantité de précipitation. D'après le fichier demandé en sortie, le nettoyage n'est pas encore requis. Cependant, ce n'est probablement pas exploitable sous cette forme."
   ],
   "metadata": {
    "collapsed": false,
    "pycharm": {
     "name": "#%% md\n"
    }
   }
  },
  {
   "cell_type": "markdown",
   "source": [
    "Question 3"
   ],
   "metadata": {
    "collapsed": false,
    "pycharm": {
     "name": "#%% md\n"
    }
   }
  },
  {
   "cell_type": "code",
   "execution_count": 21,
   "outputs": [
    {
     "name": "stdout",
     "output_type": "stream",
     "text": [
      "10. Barilla Center             194586\n",
      "19. Boito                      194586\n",
      "08. Bixio                      194586\n",
      "12. Barezzi                    194586\n",
      "13. Borgo XX Marzo             194585\n",
      "04. Campus Chimica             194585\n",
      "24. Campus                     194585\n",
      "01. Duc                        194584\n",
      "02. Ospedale Maggiore          194584\n",
      "06. Ponte di Mezzo             194584\n",
      "07. Santa Croce                194584\n",
      "09. Farini                     194584\n",
      "11. Dus                        194584\n",
      "15. Repubblica                 194584\n",
      "17. Rondani                    194584\n",
      "18. Crocetta                   194584\n",
      "20. Efsa                       194584\n",
      "21. Kennedy                    194584\n",
      "22. Cittadella                 194584\n",
      "14. Garibaldi                  194584\n",
      "23. Vittoria                   194583\n",
      "16. Toschi                     194583\n",
      "03. Traversetolo               194583\n",
      "05. Stazione FF.SS.            194583\n",
      "Stazione FF.SS.                144532\n",
      "Traversetolo                   144532\n",
      "Toschi                         144532\n",
      "Duc                            144531\n",
      "Ospedale Maggiore              144531\n",
      "Dus                            144531\n",
      "Ponte di Mezzo                 144531\n",
      "Kennedy                        144531\n",
      "Efsa                           144531\n",
      "Santa Croce                    144531\n",
      "Crocetta                       144531\n",
      "Rondani                        144531\n",
      "Repubblica                     144531\n",
      "Garibaldi                      144531\n",
      "Farini                         144531\n",
      "Campus Chimica                 144530\n",
      "Borgo XX Marzo                 144530\n",
      "Barezzi                        144529\n",
      "Barilla Center                 144529\n",
      "Bixio                          144529\n",
      "Boito                          144529\n",
      "26. Palasport                   82670\n",
      "25. Ospedale - viale Osacca     80893\n",
      "Vittoria                        30501\n",
      "Cittadella                      30500\n",
      "Campus                          30498\n",
      "25. Ospedale                     1778\n",
      "Name: Station, dtype: int64\n"
     ]
    }
   ],
   "source": [
    "print(status_velo_parma['Station'].value_counts())"
   ],
   "metadata": {
    "collapsed": false,
    "pycharm": {
     "name": "#%%\n"
    }
   }
  },
  {
   "cell_type": "code",
   "execution_count": 22,
   "outputs": [
    {
     "data": {
      "text/plain": "            Timestamp            Station  Velos disponibles  \\\n0 2014-11-14 09:35:38                Duc                  4   \n1 2014-11-14 09:35:38  Ospedale Maggiore                  2   \n2 2014-11-14 09:35:38       Traversetolo                  2   \n3 2014-11-14 09:35:38     Campus Chimica                  4   \n4 2014-11-14 09:35:38    Stazione FF.SS.                  9   \n\n   Emplacements disponibles  \n0                         5  \n1                         7  \n2                         7  \n3                         5  \n4                        10  ",
      "text/html": "<div>\n<style scoped>\n    .dataframe tbody tr th:only-of-type {\n        vertical-align: middle;\n    }\n\n    .dataframe tbody tr th {\n        vertical-align: top;\n    }\n\n    .dataframe thead th {\n        text-align: right;\n    }\n</style>\n<table border=\"1\" class=\"dataframe\">\n  <thead>\n    <tr style=\"text-align: right;\">\n      <th></th>\n      <th>Timestamp</th>\n      <th>Station</th>\n      <th>Velos disponibles</th>\n      <th>Emplacements disponibles</th>\n    </tr>\n  </thead>\n  <tbody>\n    <tr>\n      <th>0</th>\n      <td>2014-11-14 09:35:38</td>\n      <td>Duc</td>\n      <td>4</td>\n      <td>5</td>\n    </tr>\n    <tr>\n      <th>1</th>\n      <td>2014-11-14 09:35:38</td>\n      <td>Ospedale Maggiore</td>\n      <td>2</td>\n      <td>7</td>\n    </tr>\n    <tr>\n      <th>2</th>\n      <td>2014-11-14 09:35:38</td>\n      <td>Traversetolo</td>\n      <td>2</td>\n      <td>7</td>\n    </tr>\n    <tr>\n      <th>3</th>\n      <td>2014-11-14 09:35:38</td>\n      <td>Campus Chimica</td>\n      <td>4</td>\n      <td>5</td>\n    </tr>\n    <tr>\n      <th>4</th>\n      <td>2014-11-14 09:35:38</td>\n      <td>Stazione FF.SS.</td>\n      <td>9</td>\n      <td>10</td>\n    </tr>\n  </tbody>\n</table>\n</div>"
     },
     "execution_count": 22,
     "metadata": {},
     "output_type": "execute_result"
    }
   ],
   "source": [
    "status_velo_parma.head()"
   ],
   "metadata": {
    "collapsed": false,
    "pycharm": {
     "name": "#%%\n"
    }
   }
  },
  {
   "cell_type": "code",
   "execution_count": 23,
   "outputs": [],
   "source": [
    "status_velo_parma['Station'] = status_velo_parma['Station'].astype(str)\n",
    "status_velo = status_velo_parma\n",
    "status_velo['Station'] = status_velo_parma['Station'].str.extract('(\\d?\\d?\\.?\\s?)(.*)')[1]"
   ],
   "metadata": {
    "collapsed": false,
    "pycharm": {
     "name": "#%%\n"
    }
   }
  },
  {
   "cell_type": "code",
   "execution_count": 24,
   "outputs": [
    {
     "name": "stdout",
     "output_type": "stream",
     "text": [
      "Duc                        339115\n",
      "Barezzi                    339115\n",
      "Kennedy                    339115\n",
      "Efsa                       339115\n",
      "Boito                      339115\n",
      "Crocetta                   339115\n",
      "Rondani                    339115\n",
      "Toschi                     339115\n",
      "Repubblica                 339115\n",
      "Ospedale Maggiore          339115\n",
      "Borgo XX Marzo             339115\n",
      "Garibaldi                  339115\n",
      "Dus                        339115\n",
      "Barilla Center             339115\n",
      "Farini                     339115\n",
      "Bixio                      339115\n",
      "Santa Croce                339115\n",
      "Ponte di Mezzo             339115\n",
      "Stazione FF.SS.            339115\n",
      "Campus Chimica             339115\n",
      "Traversetolo               339115\n",
      "Cittadella                 225084\n",
      "Vittoria                   225084\n",
      "Campus                     225083\n",
      "Palasport                   82670\n",
      "Ospedale - viale Osacca     80893\n",
      "Ospedale                     1778\n",
      "Name: Station, dtype: int64\n"
     ]
    }
   ],
   "source": [
    "print(status_velo['Station'].value_counts())"
   ],
   "metadata": {
    "collapsed": false,
    "pycharm": {
     "name": "#%%\n"
    }
   }
  },
  {
   "cell_type": "markdown",
   "source": [
    "On observe 3 valeurs beaucoup moins représentées. Ce sont probablement les stations ayant changé de nom."
   ],
   "metadata": {
    "collapsed": false,
    "pycharm": {
     "name": "#%% md\n"
    }
   }
  },
  {
   "cell_type": "code",
   "execution_count": 25,
   "outputs": [
    {
     "name": "stdout",
     "output_type": "stream",
     "text": [
      "0                   Duc\n",
      "1     Ospedale Maggiore\n",
      "2          Traversetolo\n",
      "3        Campus Chimica\n",
      "4       Stazione FF.SS.\n",
      "5        Ponte di Mezzo\n",
      "6           Santa Croce\n",
      "7                 Bixio\n",
      "8                Farini\n",
      "9        Barilla Center\n",
      "10                  Dus\n",
      "11              Barezzi\n",
      "12       Borgo XX Marzo\n",
      "13            Garibaldi\n",
      "14           Repubblica\n",
      "15               Toschi\n",
      "16              Rondani\n",
      "17             Crocetta\n",
      "18                Boito\n",
      "19                 Efsa\n",
      "20              Kennedy\n",
      "21           Cittadella\n",
      "22             Vittoria\n",
      "23               Campus\n",
      "Name: station, dtype: object\n"
     ]
    }
   ],
   "source": [
    "print(velo_parma_summary['station'])"
   ],
   "metadata": {
    "collapsed": false,
    "pycharm": {
     "name": "#%%\n"
    }
   }
  },
  {
   "cell_type": "code",
   "execution_count": 26,
   "outputs": [],
   "source": [
    "status_velo['Station'].replace(['Ospedale', 'Ospedale - viale Osacca'], 'Ospedale Maggiore', inplace=True)"
   ],
   "metadata": {
    "collapsed": false,
    "pycharm": {
     "name": "#%%\n"
    }
   }
  },
  {
   "cell_type": "code",
   "execution_count": 27,
   "outputs": [
    {
     "name": "stdout",
     "output_type": "stream",
     "text": [
      "Ospedale Maggiore    421786\n",
      "Duc                  339115\n",
      "Barezzi              339115\n",
      "Kennedy              339115\n",
      "Efsa                 339115\n",
      "Boito                339115\n",
      "Crocetta             339115\n",
      "Rondani              339115\n",
      "Toschi               339115\n",
      "Repubblica           339115\n",
      "Garibaldi            339115\n",
      "Borgo XX Marzo       339115\n",
      "Dus                  339115\n",
      "Barilla Center       339115\n",
      "Farini               339115\n",
      "Bixio                339115\n",
      "Santa Croce          339115\n",
      "Ponte di Mezzo       339115\n",
      "Stazione FF.SS.      339115\n",
      "Campus Chimica       339115\n",
      "Traversetolo         339115\n",
      "Cittadella           225084\n",
      "Vittoria             225084\n",
      "Campus               225083\n",
      "Palasport             82670\n",
      "Name: Station, dtype: int64\n"
     ]
    }
   ],
   "source": [
    "print(status_velo['Station'].value_counts())"
   ],
   "metadata": {
    "collapsed": false,
    "pycharm": {
     "name": "#%%\n"
    }
   }
  },
  {
   "cell_type": "markdown",
   "source": [
    "Palasport n'existe plus. Et le nom est proche d'aucune autre station actuellement existante. On peut supprimer les lignes de cette valeur\n"
   ],
   "metadata": {
    "collapsed": false,
    "pycharm": {
     "name": "#%% md\n"
    }
   }
  },
  {
   "cell_type": "code",
   "execution_count": 28,
   "outputs": [
    {
     "data": {
      "text/plain": "            Timestamp            Station  Velos disponibles  \\\n0 2014-11-14 09:35:38                Duc                  4   \n1 2014-11-14 09:35:38  Ospedale Maggiore                  2   \n2 2014-11-14 09:35:38       Traversetolo                  2   \n3 2014-11-14 09:35:38     Campus Chimica                  4   \n4 2014-11-14 09:35:38    Stazione FF.SS.                  9   \n\n   Emplacements disponibles  \n0                         5  \n1                         7  \n2                         7  \n3                         5  \n4                        10  ",
      "text/html": "<div>\n<style scoped>\n    .dataframe tbody tr th:only-of-type {\n        vertical-align: middle;\n    }\n\n    .dataframe tbody tr th {\n        vertical-align: top;\n    }\n\n    .dataframe thead th {\n        text-align: right;\n    }\n</style>\n<table border=\"1\" class=\"dataframe\">\n  <thead>\n    <tr style=\"text-align: right;\">\n      <th></th>\n      <th>Timestamp</th>\n      <th>Station</th>\n      <th>Velos disponibles</th>\n      <th>Emplacements disponibles</th>\n    </tr>\n  </thead>\n  <tbody>\n    <tr>\n      <th>0</th>\n      <td>2014-11-14 09:35:38</td>\n      <td>Duc</td>\n      <td>4</td>\n      <td>5</td>\n    </tr>\n    <tr>\n      <th>1</th>\n      <td>2014-11-14 09:35:38</td>\n      <td>Ospedale Maggiore</td>\n      <td>2</td>\n      <td>7</td>\n    </tr>\n    <tr>\n      <th>2</th>\n      <td>2014-11-14 09:35:38</td>\n      <td>Traversetolo</td>\n      <td>2</td>\n      <td>7</td>\n    </tr>\n    <tr>\n      <th>3</th>\n      <td>2014-11-14 09:35:38</td>\n      <td>Campus Chimica</td>\n      <td>4</td>\n      <td>5</td>\n    </tr>\n    <tr>\n      <th>4</th>\n      <td>2014-11-14 09:35:38</td>\n      <td>Stazione FF.SS.</td>\n      <td>9</td>\n      <td>10</td>\n    </tr>\n  </tbody>\n</table>\n</div>"
     },
     "execution_count": 28,
     "metadata": {},
     "output_type": "execute_result"
    }
   ],
   "source": [
    "status_velo.head()"
   ],
   "metadata": {
    "collapsed": false,
    "pycharm": {
     "name": "#%%\n"
    }
   }
  },
  {
   "cell_type": "code",
   "execution_count": 29,
   "outputs": [],
   "source": [
    "status_velo = status_velo.query(\"Station != 'Palasport'\")"
   ],
   "metadata": {
    "collapsed": false,
    "pycharm": {
     "name": "#%%\n"
    }
   }
  },
  {
   "cell_type": "code",
   "execution_count": 30,
   "outputs": [
    {
     "name": "stdout",
     "output_type": "stream",
     "text": [
      "Ospedale Maggiore    421786\n",
      "Duc                  339115\n",
      "Barezzi              339115\n",
      "Kennedy              339115\n",
      "Efsa                 339115\n",
      "Boito                339115\n",
      "Crocetta             339115\n",
      "Rondani              339115\n",
      "Toschi               339115\n",
      "Repubblica           339115\n",
      "Garibaldi            339115\n",
      "Borgo XX Marzo       339115\n",
      "Dus                  339115\n",
      "Barilla Center       339115\n",
      "Farini               339115\n",
      "Bixio                339115\n",
      "Santa Croce          339115\n",
      "Ponte di Mezzo       339115\n",
      "Stazione FF.SS.      339115\n",
      "Campus Chimica       339115\n",
      "Traversetolo         339115\n",
      "Cittadella           225084\n",
      "Vittoria             225084\n",
      "Campus               225083\n",
      "Name: Station, dtype: int64\n"
     ]
    }
   ],
   "source": [
    "print(status_velo['Station'].value_counts())"
   ],
   "metadata": {
    "collapsed": false,
    "pycharm": {
     "name": "#%%\n"
    }
   }
  },
  {
   "cell_type": "markdown",
   "source": [
    "Etat actuel de nos données :"
   ],
   "metadata": {
    "collapsed": false,
    "pycharm": {
     "name": "#%% md\n"
    }
   }
  },
  {
   "cell_type": "code",
   "execution_count": 31,
   "outputs": [
    {
     "data": {
      "text/plain": "            Timestamp            Station  Velos disponibles  \\\n0 2014-11-14 09:35:38                Duc                  4   \n1 2014-11-14 09:35:38  Ospedale Maggiore                  2   \n2 2014-11-14 09:35:38       Traversetolo                  2   \n3 2014-11-14 09:35:38     Campus Chimica                  4   \n4 2014-11-14 09:35:38    Stazione FF.SS.                  9   \n\n   Emplacements disponibles  \n0                         5  \n1                         7  \n2                         7  \n3                         5  \n4                        10  ",
      "text/html": "<div>\n<style scoped>\n    .dataframe tbody tr th:only-of-type {\n        vertical-align: middle;\n    }\n\n    .dataframe tbody tr th {\n        vertical-align: top;\n    }\n\n    .dataframe thead th {\n        text-align: right;\n    }\n</style>\n<table border=\"1\" class=\"dataframe\">\n  <thead>\n    <tr style=\"text-align: right;\">\n      <th></th>\n      <th>Timestamp</th>\n      <th>Station</th>\n      <th>Velos disponibles</th>\n      <th>Emplacements disponibles</th>\n    </tr>\n  </thead>\n  <tbody>\n    <tr>\n      <th>0</th>\n      <td>2014-11-14 09:35:38</td>\n      <td>Duc</td>\n      <td>4</td>\n      <td>5</td>\n    </tr>\n    <tr>\n      <th>1</th>\n      <td>2014-11-14 09:35:38</td>\n      <td>Ospedale Maggiore</td>\n      <td>2</td>\n      <td>7</td>\n    </tr>\n    <tr>\n      <th>2</th>\n      <td>2014-11-14 09:35:38</td>\n      <td>Traversetolo</td>\n      <td>2</td>\n      <td>7</td>\n    </tr>\n    <tr>\n      <th>3</th>\n      <td>2014-11-14 09:35:38</td>\n      <td>Campus Chimica</td>\n      <td>4</td>\n      <td>5</td>\n    </tr>\n    <tr>\n      <th>4</th>\n      <td>2014-11-14 09:35:38</td>\n      <td>Stazione FF.SS.</td>\n      <td>9</td>\n      <td>10</td>\n    </tr>\n  </tbody>\n</table>\n</div>"
     },
     "execution_count": 31,
     "metadata": {},
     "output_type": "execute_result"
    }
   ],
   "source": [
    "status_velo.head()"
   ],
   "metadata": {
    "collapsed": false,
    "pycharm": {
     "name": "#%%\n"
    }
   }
  },
  {
   "cell_type": "code",
   "execution_count": 32,
   "outputs": [
    {
     "data": {
      "text/plain": "             Timestamp  Status  Nuage  Humidité  Pression       Pluie  \\\n0  2014-11-14 09:35:38  clouds     40       100    1013.0  {u'3h': 0}   \n1  2014-11-14 09:45:05    mist     40       100    1014.0  {u'3h': 0}   \n2  2014-11-14 09:50:05    mist     40       100    1014.0  {u'3h': 0}   \n3  2014-11-14 09:55:05  clouds     40       100    1013.0  {u'3h': 0}   \n4  2014-11-14 10:00:04    mist     40       100    1014.0  {u'3h': 0}   \n\n  Rafale de vent Variation fin Variation début  WindDeg  Vitesse du vent  \\\n0           None          None            None  200.504             0.84   \n1           None          None            None  200.504             0.84   \n2           None          None            None  200.504             0.84   \n3           None          None            None  200.504             0.84   \n4           None          None            None  200.504             0.84   \n\n  Neige  Temperature max  Temperature min  Temperature  \n0    {}              9.0              9.0          9.0  \n1    {}             10.0             10.0         10.0  \n2    {}             10.0             10.0         10.0  \n3    {}              9.0              9.0          9.0  \n4    {}             10.0             10.0         10.0  ",
      "text/html": "<div>\n<style scoped>\n    .dataframe tbody tr th:only-of-type {\n        vertical-align: middle;\n    }\n\n    .dataframe tbody tr th {\n        vertical-align: top;\n    }\n\n    .dataframe thead th {\n        text-align: right;\n    }\n</style>\n<table border=\"1\" class=\"dataframe\">\n  <thead>\n    <tr style=\"text-align: right;\">\n      <th></th>\n      <th>Timestamp</th>\n      <th>Status</th>\n      <th>Nuage</th>\n      <th>Humidité</th>\n      <th>Pression</th>\n      <th>Pluie</th>\n      <th>Rafale de vent</th>\n      <th>Variation fin</th>\n      <th>Variation début</th>\n      <th>WindDeg</th>\n      <th>Vitesse du vent</th>\n      <th>Neige</th>\n      <th>Temperature max</th>\n      <th>Temperature min</th>\n      <th>Temperature</th>\n    </tr>\n  </thead>\n  <tbody>\n    <tr>\n      <th>0</th>\n      <td>2014-11-14 09:35:38</td>\n      <td>clouds</td>\n      <td>40</td>\n      <td>100</td>\n      <td>1013.0</td>\n      <td>{u'3h': 0}</td>\n      <td>None</td>\n      <td>None</td>\n      <td>None</td>\n      <td>200.504</td>\n      <td>0.84</td>\n      <td>{}</td>\n      <td>9.0</td>\n      <td>9.0</td>\n      <td>9.0</td>\n    </tr>\n    <tr>\n      <th>1</th>\n      <td>2014-11-14 09:45:05</td>\n      <td>mist</td>\n      <td>40</td>\n      <td>100</td>\n      <td>1014.0</td>\n      <td>{u'3h': 0}</td>\n      <td>None</td>\n      <td>None</td>\n      <td>None</td>\n      <td>200.504</td>\n      <td>0.84</td>\n      <td>{}</td>\n      <td>10.0</td>\n      <td>10.0</td>\n      <td>10.0</td>\n    </tr>\n    <tr>\n      <th>2</th>\n      <td>2014-11-14 09:50:05</td>\n      <td>mist</td>\n      <td>40</td>\n      <td>100</td>\n      <td>1014.0</td>\n      <td>{u'3h': 0}</td>\n      <td>None</td>\n      <td>None</td>\n      <td>None</td>\n      <td>200.504</td>\n      <td>0.84</td>\n      <td>{}</td>\n      <td>10.0</td>\n      <td>10.0</td>\n      <td>10.0</td>\n    </tr>\n    <tr>\n      <th>3</th>\n      <td>2014-11-14 09:55:05</td>\n      <td>clouds</td>\n      <td>40</td>\n      <td>100</td>\n      <td>1013.0</td>\n      <td>{u'3h': 0}</td>\n      <td>None</td>\n      <td>None</td>\n      <td>None</td>\n      <td>200.504</td>\n      <td>0.84</td>\n      <td>{}</td>\n      <td>9.0</td>\n      <td>9.0</td>\n      <td>9.0</td>\n    </tr>\n    <tr>\n      <th>4</th>\n      <td>2014-11-14 10:00:04</td>\n      <td>mist</td>\n      <td>40</td>\n      <td>100</td>\n      <td>1014.0</td>\n      <td>{u'3h': 0}</td>\n      <td>None</td>\n      <td>None</td>\n      <td>None</td>\n      <td>200.504</td>\n      <td>0.84</td>\n      <td>{}</td>\n      <td>10.0</td>\n      <td>10.0</td>\n      <td>10.0</td>\n    </tr>\n  </tbody>\n</table>\n</div>"
     },
     "execution_count": 32,
     "metadata": {},
     "output_type": "execute_result"
    }
   ],
   "source": [
    "meteo_velo_parma_brut.head()"
   ],
   "metadata": {
    "collapsed": false,
    "pycharm": {
     "name": "#%%\n"
    }
   }
  },
  {
   "cell_type": "code",
   "execution_count": 33,
   "outputs": [
    {
     "data": {
      "text/plain": "             station   latitude  longitude  elevation\n0                Duc  44.807118  10.332934  51.076065\n1  Ospedale Maggiore  44.802263  10.306275  56.344078\n2       Traversetolo  44.781595  10.344492  58.324486\n3     Campus Chimica  44.766433  10.314547  76.587212\n4    Stazione FF.SS.  44.809888  10.327693  57.179089",
      "text/html": "<div>\n<style scoped>\n    .dataframe tbody tr th:only-of-type {\n        vertical-align: middle;\n    }\n\n    .dataframe tbody tr th {\n        vertical-align: top;\n    }\n\n    .dataframe thead th {\n        text-align: right;\n    }\n</style>\n<table border=\"1\" class=\"dataframe\">\n  <thead>\n    <tr style=\"text-align: right;\">\n      <th></th>\n      <th>station</th>\n      <th>latitude</th>\n      <th>longitude</th>\n      <th>elevation</th>\n    </tr>\n  </thead>\n  <tbody>\n    <tr>\n      <th>0</th>\n      <td>Duc</td>\n      <td>44.807118</td>\n      <td>10.332934</td>\n      <td>51.076065</td>\n    </tr>\n    <tr>\n      <th>1</th>\n      <td>Ospedale Maggiore</td>\n      <td>44.802263</td>\n      <td>10.306275</td>\n      <td>56.344078</td>\n    </tr>\n    <tr>\n      <th>2</th>\n      <td>Traversetolo</td>\n      <td>44.781595</td>\n      <td>10.344492</td>\n      <td>58.324486</td>\n    </tr>\n    <tr>\n      <th>3</th>\n      <td>Campus Chimica</td>\n      <td>44.766433</td>\n      <td>10.314547</td>\n      <td>76.587212</td>\n    </tr>\n    <tr>\n      <th>4</th>\n      <td>Stazione FF.SS.</td>\n      <td>44.809888</td>\n      <td>10.327693</td>\n      <td>57.179089</td>\n    </tr>\n  </tbody>\n</table>\n</div>"
     },
     "execution_count": 33,
     "metadata": {},
     "output_type": "execute_result"
    }
   ],
   "source": [
    "velo_parma_summary.head()"
   ],
   "metadata": {
    "collapsed": false,
    "pycharm": {
     "name": "#%%\n"
    }
   }
  },
  {
   "cell_type": "markdown",
   "source": [
    "Question 4"
   ],
   "metadata": {
    "collapsed": false,
    "pycharm": {
     "name": "#%% md\n"
    }
   }
  },
  {
   "cell_type": "code",
   "execution_count": 36,
   "outputs": [],
   "source": [
    "status_velo_resample = status_velo.groupby(\"Station\", group_keys=False).resample('10T', on=\"Timestamp\", origin='start').first()\n",
    "meteo_velo_parma_brut[\"Timestamp\"] = pd.to_datetime(meteo_velo_parma_brut[\"Timestamp\"])\n",
    "meteo_velo_resample = meteo_velo_parma_brut.resample('10T', on=\"Timestamp\", origin='start').first()"
   ],
   "metadata": {
    "collapsed": false,
    "pycharm": {
     "name": "#%%\n"
    }
   }
  },
  {
   "cell_type": "code",
   "execution_count": 41,
   "outputs": [],
   "source": [
    "status_velo_resample = status_velo_resample.drop(\"Timestamp\", axis=1)\n",
    "meteo_velo_resample = meteo_velo_resample.drop(\"Timestamp\", axis=1)"
   ],
   "metadata": {
    "collapsed": false,
    "pycharm": {
     "name": "#%%\n"
    }
   }
  },
  {
   "cell_type": "code",
   "execution_count": 42,
   "outputs": [
    {
     "data": {
      "text/plain": "                     Station  Velos disponibles  Emplacements disponibles\nTimestamp                                                                \n2014-11-14 09:35:38  Barezzi                4.0                       5.0\n2014-11-14 09:45:38  Barezzi                4.0                       5.0\n2014-11-14 09:55:38  Barezzi                4.0                       5.0\n2014-11-14 10:05:38  Barezzi                4.0                       5.0\n2014-11-14 10:15:38  Barezzi                4.0                       5.0",
      "text/html": "<div>\n<style scoped>\n    .dataframe tbody tr th:only-of-type {\n        vertical-align: middle;\n    }\n\n    .dataframe tbody tr th {\n        vertical-align: top;\n    }\n\n    .dataframe thead th {\n        text-align: right;\n    }\n</style>\n<table border=\"1\" class=\"dataframe\">\n  <thead>\n    <tr style=\"text-align: right;\">\n      <th></th>\n      <th>Station</th>\n      <th>Velos disponibles</th>\n      <th>Emplacements disponibles</th>\n    </tr>\n    <tr>\n      <th>Timestamp</th>\n      <th></th>\n      <th></th>\n      <th></th>\n    </tr>\n  </thead>\n  <tbody>\n    <tr>\n      <th>2014-11-14 09:35:38</th>\n      <td>Barezzi</td>\n      <td>4.0</td>\n      <td>5.0</td>\n    </tr>\n    <tr>\n      <th>2014-11-14 09:45:38</th>\n      <td>Barezzi</td>\n      <td>4.0</td>\n      <td>5.0</td>\n    </tr>\n    <tr>\n      <th>2014-11-14 09:55:38</th>\n      <td>Barezzi</td>\n      <td>4.0</td>\n      <td>5.0</td>\n    </tr>\n    <tr>\n      <th>2014-11-14 10:05:38</th>\n      <td>Barezzi</td>\n      <td>4.0</td>\n      <td>5.0</td>\n    </tr>\n    <tr>\n      <th>2014-11-14 10:15:38</th>\n      <td>Barezzi</td>\n      <td>4.0</td>\n      <td>5.0</td>\n    </tr>\n  </tbody>\n</table>\n</div>"
     },
     "execution_count": 42,
     "metadata": {},
     "output_type": "execute_result"
    }
   ],
   "source": [
    "status_velo_resample.head()"
   ],
   "metadata": {
    "collapsed": false,
    "pycharm": {
     "name": "#%%\n"
    }
   }
  },
  {
   "cell_type": "code",
   "execution_count": 43,
   "outputs": [
    {
     "data": {
      "text/plain": "                     Status  Nuage  Humidité  Pression       Pluie  \\\nTimestamp                                                            \n2014-11-14 09:35:38  clouds   40.0     100.0    1013.0  {u'3h': 0}   \n2014-11-14 09:45:38    mist   40.0     100.0    1014.0  {u'3h': 0}   \n2014-11-14 09:55:38    mist   40.0     100.0    1014.0  {u'3h': 0}   \n2014-11-14 10:05:38  clouds   40.0     100.0    1013.0  {u'3h': 0}   \n2014-11-14 10:15:38    mist   40.0     100.0    1014.0  {u'3h': 0}   \n\n                    Rafale de vent Variation fin Variation début  WindDeg  \\\nTimestamp                                                                   \n2014-11-14 09:35:38           None          None            None  200.504   \n2014-11-14 09:45:38           None          None            None  200.504   \n2014-11-14 09:55:38           None          None            None  200.504   \n2014-11-14 10:05:38           None          None            None  200.504   \n2014-11-14 10:15:38           None          None            None  200.504   \n\n                     Vitesse du vent Neige  Temperature max  Temperature min  \\\nTimestamp                                                                      \n2014-11-14 09:35:38             0.84    {}              9.0              9.0   \n2014-11-14 09:45:38             0.84    {}             10.0             10.0   \n2014-11-14 09:55:38             0.84    {}             10.0             10.0   \n2014-11-14 10:05:38             0.84    {}              9.0              9.0   \n2014-11-14 10:15:38             0.84    {}             10.0             10.0   \n\n                     Temperature  \nTimestamp                         \n2014-11-14 09:35:38          9.0  \n2014-11-14 09:45:38         10.0  \n2014-11-14 09:55:38         10.0  \n2014-11-14 10:05:38          9.0  \n2014-11-14 10:15:38         10.0  ",
      "text/html": "<div>\n<style scoped>\n    .dataframe tbody tr th:only-of-type {\n        vertical-align: middle;\n    }\n\n    .dataframe tbody tr th {\n        vertical-align: top;\n    }\n\n    .dataframe thead th {\n        text-align: right;\n    }\n</style>\n<table border=\"1\" class=\"dataframe\">\n  <thead>\n    <tr style=\"text-align: right;\">\n      <th></th>\n      <th>Status</th>\n      <th>Nuage</th>\n      <th>Humidité</th>\n      <th>Pression</th>\n      <th>Pluie</th>\n      <th>Rafale de vent</th>\n      <th>Variation fin</th>\n      <th>Variation début</th>\n      <th>WindDeg</th>\n      <th>Vitesse du vent</th>\n      <th>Neige</th>\n      <th>Temperature max</th>\n      <th>Temperature min</th>\n      <th>Temperature</th>\n    </tr>\n    <tr>\n      <th>Timestamp</th>\n      <th></th>\n      <th></th>\n      <th></th>\n      <th></th>\n      <th></th>\n      <th></th>\n      <th></th>\n      <th></th>\n      <th></th>\n      <th></th>\n      <th></th>\n      <th></th>\n      <th></th>\n      <th></th>\n    </tr>\n  </thead>\n  <tbody>\n    <tr>\n      <th>2014-11-14 09:35:38</th>\n      <td>clouds</td>\n      <td>40.0</td>\n      <td>100.0</td>\n      <td>1013.0</td>\n      <td>{u'3h': 0}</td>\n      <td>None</td>\n      <td>None</td>\n      <td>None</td>\n      <td>200.504</td>\n      <td>0.84</td>\n      <td>{}</td>\n      <td>9.0</td>\n      <td>9.0</td>\n      <td>9.0</td>\n    </tr>\n    <tr>\n      <th>2014-11-14 09:45:38</th>\n      <td>mist</td>\n      <td>40.0</td>\n      <td>100.0</td>\n      <td>1014.0</td>\n      <td>{u'3h': 0}</td>\n      <td>None</td>\n      <td>None</td>\n      <td>None</td>\n      <td>200.504</td>\n      <td>0.84</td>\n      <td>{}</td>\n      <td>10.0</td>\n      <td>10.0</td>\n      <td>10.0</td>\n    </tr>\n    <tr>\n      <th>2014-11-14 09:55:38</th>\n      <td>mist</td>\n      <td>40.0</td>\n      <td>100.0</td>\n      <td>1014.0</td>\n      <td>{u'3h': 0}</td>\n      <td>None</td>\n      <td>None</td>\n      <td>None</td>\n      <td>200.504</td>\n      <td>0.84</td>\n      <td>{}</td>\n      <td>10.0</td>\n      <td>10.0</td>\n      <td>10.0</td>\n    </tr>\n    <tr>\n      <th>2014-11-14 10:05:38</th>\n      <td>clouds</td>\n      <td>40.0</td>\n      <td>100.0</td>\n      <td>1013.0</td>\n      <td>{u'3h': 0}</td>\n      <td>None</td>\n      <td>None</td>\n      <td>None</td>\n      <td>200.504</td>\n      <td>0.84</td>\n      <td>{}</td>\n      <td>9.0</td>\n      <td>9.0</td>\n      <td>9.0</td>\n    </tr>\n    <tr>\n      <th>2014-11-14 10:15:38</th>\n      <td>mist</td>\n      <td>40.0</td>\n      <td>100.0</td>\n      <td>1014.0</td>\n      <td>{u'3h': 0}</td>\n      <td>None</td>\n      <td>None</td>\n      <td>None</td>\n      <td>200.504</td>\n      <td>0.84</td>\n      <td>{}</td>\n      <td>10.0</td>\n      <td>10.0</td>\n      <td>10.0</td>\n    </tr>\n  </tbody>\n</table>\n</div>"
     },
     "execution_count": 43,
     "metadata": {},
     "output_type": "execute_result"
    }
   ],
   "source": [
    "meteo_velo_resample.head()"
   ],
   "metadata": {
    "collapsed": false,
    "pycharm": {
     "name": "#%%\n"
    }
   }
  },
  {
   "cell_type": "markdown",
   "source": [
    "On observe que nous avons bien des valeurs toutes les 10mn.\n",
    "\n",
    "Question 5:"
   ],
   "metadata": {
    "collapsed": false,
    "pycharm": {
     "name": "#%% md\n"
    }
   }
  },
  {
   "cell_type": "code",
   "execution_count": 55,
   "outputs": [],
   "source": [
    "meteo_statut_velo = pd.merge(status_velo_resample, meteo_velo_resample, how='left', on=\"Timestamp\")"
   ],
   "metadata": {
    "collapsed": false,
    "pycharm": {
     "name": "#%%\n"
    }
   }
  },
  {
   "cell_type": "code",
   "execution_count": 52,
   "outputs": [
    {
     "data": {
      "text/plain": "                     Station  Velos disponibles  Emplacements disponibles  \\\nTimestamp                                                                   \n2014-11-14 09:35:38  Barezzi                4.0                       5.0   \n2014-11-14 09:45:38  Barezzi                4.0                       5.0   \n2014-11-14 09:55:38  Barezzi                4.0                       5.0   \n2014-11-14 10:05:38  Barezzi                4.0                       5.0   \n2014-11-14 10:15:38  Barezzi                4.0                       5.0   \n\n                     Status  Nuage  Humidité  Pression       Pluie  \\\nTimestamp                                                            \n2014-11-14 09:35:38  clouds   40.0     100.0    1013.0  {u'3h': 0}   \n2014-11-14 09:45:38    mist   40.0     100.0    1014.0  {u'3h': 0}   \n2014-11-14 09:55:38    mist   40.0     100.0    1014.0  {u'3h': 0}   \n2014-11-14 10:05:38  clouds   40.0     100.0    1013.0  {u'3h': 0}   \n2014-11-14 10:15:38    mist   40.0     100.0    1014.0  {u'3h': 0}   \n\n                    Rafale de vent Variation fin Variation début  WindDeg  \\\nTimestamp                                                                   \n2014-11-14 09:35:38           None          None            None  200.504   \n2014-11-14 09:45:38           None          None            None  200.504   \n2014-11-14 09:55:38           None          None            None  200.504   \n2014-11-14 10:05:38           None          None            None  200.504   \n2014-11-14 10:15:38           None          None            None  200.504   \n\n                     Vitesse du vent Neige  Temperature max  Temperature min  \\\nTimestamp                                                                      \n2014-11-14 09:35:38             0.84    {}              9.0              9.0   \n2014-11-14 09:45:38             0.84    {}             10.0             10.0   \n2014-11-14 09:55:38             0.84    {}             10.0             10.0   \n2014-11-14 10:05:38             0.84    {}              9.0              9.0   \n2014-11-14 10:15:38             0.84    {}             10.0             10.0   \n\n                     Temperature  \nTimestamp                         \n2014-11-14 09:35:38          9.0  \n2014-11-14 09:45:38         10.0  \n2014-11-14 09:55:38         10.0  \n2014-11-14 10:05:38          9.0  \n2014-11-14 10:15:38         10.0  ",
      "text/html": "<div>\n<style scoped>\n    .dataframe tbody tr th:only-of-type {\n        vertical-align: middle;\n    }\n\n    .dataframe tbody tr th {\n        vertical-align: top;\n    }\n\n    .dataframe thead th {\n        text-align: right;\n    }\n</style>\n<table border=\"1\" class=\"dataframe\">\n  <thead>\n    <tr style=\"text-align: right;\">\n      <th></th>\n      <th>Station</th>\n      <th>Velos disponibles</th>\n      <th>Emplacements disponibles</th>\n      <th>Status</th>\n      <th>Nuage</th>\n      <th>Humidité</th>\n      <th>Pression</th>\n      <th>Pluie</th>\n      <th>Rafale de vent</th>\n      <th>Variation fin</th>\n      <th>Variation début</th>\n      <th>WindDeg</th>\n      <th>Vitesse du vent</th>\n      <th>Neige</th>\n      <th>Temperature max</th>\n      <th>Temperature min</th>\n      <th>Temperature</th>\n    </tr>\n    <tr>\n      <th>Timestamp</th>\n      <th></th>\n      <th></th>\n      <th></th>\n      <th></th>\n      <th></th>\n      <th></th>\n      <th></th>\n      <th></th>\n      <th></th>\n      <th></th>\n      <th></th>\n      <th></th>\n      <th></th>\n      <th></th>\n      <th></th>\n      <th></th>\n      <th></th>\n    </tr>\n  </thead>\n  <tbody>\n    <tr>\n      <th>2014-11-14 09:35:38</th>\n      <td>Barezzi</td>\n      <td>4.0</td>\n      <td>5.0</td>\n      <td>clouds</td>\n      <td>40.0</td>\n      <td>100.0</td>\n      <td>1013.0</td>\n      <td>{u'3h': 0}</td>\n      <td>None</td>\n      <td>None</td>\n      <td>None</td>\n      <td>200.504</td>\n      <td>0.84</td>\n      <td>{}</td>\n      <td>9.0</td>\n      <td>9.0</td>\n      <td>9.0</td>\n    </tr>\n    <tr>\n      <th>2014-11-14 09:45:38</th>\n      <td>Barezzi</td>\n      <td>4.0</td>\n      <td>5.0</td>\n      <td>mist</td>\n      <td>40.0</td>\n      <td>100.0</td>\n      <td>1014.0</td>\n      <td>{u'3h': 0}</td>\n      <td>None</td>\n      <td>None</td>\n      <td>None</td>\n      <td>200.504</td>\n      <td>0.84</td>\n      <td>{}</td>\n      <td>10.0</td>\n      <td>10.0</td>\n      <td>10.0</td>\n    </tr>\n    <tr>\n      <th>2014-11-14 09:55:38</th>\n      <td>Barezzi</td>\n      <td>4.0</td>\n      <td>5.0</td>\n      <td>mist</td>\n      <td>40.0</td>\n      <td>100.0</td>\n      <td>1014.0</td>\n      <td>{u'3h': 0}</td>\n      <td>None</td>\n      <td>None</td>\n      <td>None</td>\n      <td>200.504</td>\n      <td>0.84</td>\n      <td>{}</td>\n      <td>10.0</td>\n      <td>10.0</td>\n      <td>10.0</td>\n    </tr>\n    <tr>\n      <th>2014-11-14 10:05:38</th>\n      <td>Barezzi</td>\n      <td>4.0</td>\n      <td>5.0</td>\n      <td>clouds</td>\n      <td>40.0</td>\n      <td>100.0</td>\n      <td>1013.0</td>\n      <td>{u'3h': 0}</td>\n      <td>None</td>\n      <td>None</td>\n      <td>None</td>\n      <td>200.504</td>\n      <td>0.84</td>\n      <td>{}</td>\n      <td>9.0</td>\n      <td>9.0</td>\n      <td>9.0</td>\n    </tr>\n    <tr>\n      <th>2014-11-14 10:15:38</th>\n      <td>Barezzi</td>\n      <td>4.0</td>\n      <td>5.0</td>\n      <td>mist</td>\n      <td>40.0</td>\n      <td>100.0</td>\n      <td>1014.0</td>\n      <td>{u'3h': 0}</td>\n      <td>None</td>\n      <td>None</td>\n      <td>None</td>\n      <td>200.504</td>\n      <td>0.84</td>\n      <td>{}</td>\n      <td>10.0</td>\n      <td>10.0</td>\n      <td>10.0</td>\n    </tr>\n  </tbody>\n</table>\n</div>"
     },
     "execution_count": 52,
     "metadata": {},
     "output_type": "execute_result"
    }
   ],
   "source": [
    "meteo_statut_velo.head()"
   ],
   "metadata": {
    "collapsed": false,
    "pycharm": {
     "name": "#%%\n"
    }
   }
  },
  {
   "cell_type": "markdown",
   "source": [
    "Question 6:\n",
    "    6.1)\n",
    "\n",
    "Besoin d'abord de préparation des données. Nous avons besoin de :\n",
    "    Timestamp;Station;Bikes;Slots;Total;Status;Humidity;Pressure;Rain;WindDeg;WindSpeed;Snow;TemperatureTemp"
   ],
   "metadata": {
    "collapsed": false,
    "pycharm": {
     "name": "#%% md\n"
    }
   }
  },
  {
   "cell_type": "code",
   "execution_count": 56,
   "outputs": [],
   "source": [
    "meteo_statut_velo.drop(columns=[\"Nuage\", \"Rafale de vent\", \"Variation fin\", \"Variation début\", \"Temperature max\", \"Temperature min\"], inplace=True, axis=1)"
   ],
   "metadata": {
    "collapsed": false,
    "pycharm": {
     "name": "#%%\n"
    }
   }
  },
  {
   "cell_type": "code",
   "execution_count": 58,
   "outputs": [
    {
     "data": {
      "text/plain": "                     Station  Velos disponibles  Emplacements disponibles  \\\nTimestamp                                                                   \n2014-11-14 09:35:38  Barezzi                4.0                       5.0   \n2014-11-14 09:45:38  Barezzi                4.0                       5.0   \n2014-11-14 09:55:38  Barezzi                4.0                       5.0   \n2014-11-14 10:05:38  Barezzi                4.0                       5.0   \n2014-11-14 10:15:38  Barezzi                4.0                       5.0   \n\n                     Status  Humidité  Pression       Pluie  WindDeg  \\\nTimestamp                                                              \n2014-11-14 09:35:38  clouds     100.0    1013.0  {u'3h': 0}  200.504   \n2014-11-14 09:45:38    mist     100.0    1014.0  {u'3h': 0}  200.504   \n2014-11-14 09:55:38    mist     100.0    1014.0  {u'3h': 0}  200.504   \n2014-11-14 10:05:38  clouds     100.0    1013.0  {u'3h': 0}  200.504   \n2014-11-14 10:15:38    mist     100.0    1014.0  {u'3h': 0}  200.504   \n\n                     Vitesse du vent Neige  Temperature  \nTimestamp                                                \n2014-11-14 09:35:38             0.84    {}          9.0  \n2014-11-14 09:45:38             0.84    {}         10.0  \n2014-11-14 09:55:38             0.84    {}         10.0  \n2014-11-14 10:05:38             0.84    {}          9.0  \n2014-11-14 10:15:38             0.84    {}         10.0  ",
      "text/html": "<div>\n<style scoped>\n    .dataframe tbody tr th:only-of-type {\n        vertical-align: middle;\n    }\n\n    .dataframe tbody tr th {\n        vertical-align: top;\n    }\n\n    .dataframe thead th {\n        text-align: right;\n    }\n</style>\n<table border=\"1\" class=\"dataframe\">\n  <thead>\n    <tr style=\"text-align: right;\">\n      <th></th>\n      <th>Station</th>\n      <th>Velos disponibles</th>\n      <th>Emplacements disponibles</th>\n      <th>Status</th>\n      <th>Humidité</th>\n      <th>Pression</th>\n      <th>Pluie</th>\n      <th>WindDeg</th>\n      <th>Vitesse du vent</th>\n      <th>Neige</th>\n      <th>Temperature</th>\n    </tr>\n    <tr>\n      <th>Timestamp</th>\n      <th></th>\n      <th></th>\n      <th></th>\n      <th></th>\n      <th></th>\n      <th></th>\n      <th></th>\n      <th></th>\n      <th></th>\n      <th></th>\n      <th></th>\n    </tr>\n  </thead>\n  <tbody>\n    <tr>\n      <th>2014-11-14 09:35:38</th>\n      <td>Barezzi</td>\n      <td>4.0</td>\n      <td>5.0</td>\n      <td>clouds</td>\n      <td>100.0</td>\n      <td>1013.0</td>\n      <td>{u'3h': 0}</td>\n      <td>200.504</td>\n      <td>0.84</td>\n      <td>{}</td>\n      <td>9.0</td>\n    </tr>\n    <tr>\n      <th>2014-11-14 09:45:38</th>\n      <td>Barezzi</td>\n      <td>4.0</td>\n      <td>5.0</td>\n      <td>mist</td>\n      <td>100.0</td>\n      <td>1014.0</td>\n      <td>{u'3h': 0}</td>\n      <td>200.504</td>\n      <td>0.84</td>\n      <td>{}</td>\n      <td>10.0</td>\n    </tr>\n    <tr>\n      <th>2014-11-14 09:55:38</th>\n      <td>Barezzi</td>\n      <td>4.0</td>\n      <td>5.0</td>\n      <td>mist</td>\n      <td>100.0</td>\n      <td>1014.0</td>\n      <td>{u'3h': 0}</td>\n      <td>200.504</td>\n      <td>0.84</td>\n      <td>{}</td>\n      <td>10.0</td>\n    </tr>\n    <tr>\n      <th>2014-11-14 10:05:38</th>\n      <td>Barezzi</td>\n      <td>4.0</td>\n      <td>5.0</td>\n      <td>clouds</td>\n      <td>100.0</td>\n      <td>1013.0</td>\n      <td>{u'3h': 0}</td>\n      <td>200.504</td>\n      <td>0.84</td>\n      <td>{}</td>\n      <td>9.0</td>\n    </tr>\n    <tr>\n      <th>2014-11-14 10:15:38</th>\n      <td>Barezzi</td>\n      <td>4.0</td>\n      <td>5.0</td>\n      <td>mist</td>\n      <td>100.0</td>\n      <td>1014.0</td>\n      <td>{u'3h': 0}</td>\n      <td>200.504</td>\n      <td>0.84</td>\n      <td>{}</td>\n      <td>10.0</td>\n    </tr>\n  </tbody>\n</table>\n</div>"
     },
     "execution_count": 58,
     "metadata": {},
     "output_type": "execute_result"
    }
   ],
   "source": [
    "meteo_statut_velo.head()"
   ],
   "metadata": {
    "collapsed": false,
    "pycharm": {
     "name": "#%%\n"
    }
   }
  },
  {
   "cell_type": "code",
   "execution_count": null,
   "outputs": [],
   "source": [],
   "metadata": {
    "collapsed": false,
    "pycharm": {
     "name": "#%%\n"
    }
   }
  }
 ],
 "metadata": {
  "kernelspec": {
   "display_name": "Python 3",
   "language": "python",
   "name": "python3"
  },
  "language_info": {
   "codemirror_mode": {
    "name": "ipython",
    "version": 3
   },
   "file_extension": ".py",
   "mimetype": "text/x-python",
   "name": "python",
   "nbconvert_exporter": "python",
   "pygments_lexer": "ipython3",
   "version": "3.7.4"
  }
 },
 "nbformat": 4,
 "nbformat_minor": 2
}