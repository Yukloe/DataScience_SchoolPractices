{
 "cells": [
  {
   "attachments": {},
   "cell_type": "markdown",
   "metadata": {
    "pycharm": {
     "name": "#%% md\n"
    }
   },
   "source": [
    "Exercice 2:  \n",
    "Par la suite nous allons refaire la classification sur la base Digits en utilisant un \n",
    "classifieur RandomForestClassifier. Comme à l’exercice 1, on sépare les données en gardant \n",
    "10% pour l’apprentissage et 90% pour le test."
   ]
  },
  {
   "cell_type": "code",
   "execution_count": 24,
   "metadata": {
    "pycharm": {
     "name": "#%%\n"
    }
   },
   "outputs": [],
   "source": [
    "# Imports\n",
    "from sklearn.datasets import load_digits\n",
    "from sklearn.model_selection import train_test_split\n",
    "from sklearn.model_selection import GridSearchCV\n",
    "import matplotlib.pyplot as plt \n",
    "import pandas\n",
    "from sklearn.tree import DecisionTreeClassifier\n",
    "from sklearn.ensemble import BaggingClassifier\n",
    "from sklearn.ensemble import RandomForestClassifier\n",
    "from sklearn.tree import ExtraTreeClassifier\n",
    "import numpy\n",
    "import tqdm\n",
    "import seaborn\n",
    "from sklearn import metrics"
   ]
  },
  {
   "cell_type": "code",
   "execution_count": 5,
   "metadata": {
    "pycharm": {
     "name": "#%%\n"
    }
   },
   "outputs": [],
   "source": [
    "digits = load_digits() \n",
    "X, y = digits.data, digits.target \n",
    "X_train, X_test, Y_train, Y_test = train_test_split(X, y, test_size=0.90)"
   ]
  },
  {
   "attachments": {},
   "cell_type": "markdown",
   "metadata": {
    "pycharm": {
     "name": "#%% md\n"
    }
   },
   "source": [
    "1. Créer et entrainer votre modèle"
   ]
  },
  {
   "cell_type": "code",
   "execution_count": 17,
   "metadata": {
    "pycharm": {
     "name": "#%%\n"
    }
   },
   "outputs": [],
   "source": [
    "clf = RandomForestClassifier(n_estimators=200).fit(X_train,Y_train)"
   ]
  },
  {
   "attachments": {},
   "cell_type": "markdown",
   "metadata": {
    "pycharm": {
     "name": "#%% md\n"
    }
   },
   "source": [
    "2. Réaliser les prédictions et calculer le score de test"
   ]
  },
  {
   "cell_type": "code",
   "execution_count": 18,
   "metadata": {
    "pycharm": {
     "name": "#%%\n"
    }
   },
   "outputs": [
    {
     "data": {
      "text/plain": [
       "0.9128553770086527"
      ]
     },
     "execution_count": 18,
     "metadata": {},
     "output_type": "execute_result"
    }
   ],
   "source": [
    "Y_pred = clf.predict(X_test)\n",
    "\n",
    "metrics.accuracy_score(Y_test, Y_pred)"
   ]
  },
  {
   "attachments": {},
   "cell_type": "markdown",
   "metadata": {
    "pycharm": {
     "name": "#%% md\n"
    }
   },
   "source": [
    "3. Comment la valeur de la variable accuracy se compare avec le cas bagging qui utilise le même \n",
    "nombre d’arbres (200 dans notre cas) ?"
   ]
  },
  {
   "cell_type": "code",
   "execution_count": 19,
   "metadata": {
    "pycharm": {
     "name": "#%%\n"
    }
   },
   "outputs": [
    {
     "data": {
      "text/plain": [
       "0.8856613102595797"
      ]
     },
     "execution_count": 19,
     "metadata": {},
     "output_type": "execute_result"
    }
   ],
   "source": [
    "clf = BaggingClassifier(DecisionTreeClassifier(), max_samples=0.5, max_features=0.9, n_estimators=200).fit(X_train,Y_train)\n",
    "\n",
    "Y_pred = clf.predict(X_test)\n",
    "\n",
    "metrics.accuracy_score(Y_test, Y_pred)"
   ]
  },
  {
   "attachments": {},
   "cell_type": "markdown",
   "metadata": {
    "pycharm": {
     "name": "#%% md\n"
    }
   },
   "source": [
    "On constate que l'accuracy est plus importante pour le RandomForestClassifier pour le même nombre d'arbres"
   ]
  },
  {
   "cell_type": "markdown",
   "metadata": {
    "pycharm": {
     "name": "#%% md\n"
    }
   },
   "source": [
    "4. Construire la variance de la valeur accuracy sur 100 tirages pour la séparation \n",
    "apprentissage/test.  Que  pouvons-nous  conclure  en  comparant  avec  la  séction  précedente \n",
    "(bagging) ? "
   ]
  },
  {
   "cell_type": "code",
   "execution_count": 20,
   "metadata": {
    "pycharm": {
     "name": "#%%\n"
    }
   },
   "outputs": [
    {
     "name": "stderr",
     "output_type": "stream",
     "text": [
      "100%|██████████| 100/100 [00:45<00:00,  2.21it/s]"
     ]
    },
    {
     "name": "stdout",
     "output_type": "stream",
     "text": [
      "0.00397120549612077\n"
     ]
    },
    {
     "name": "stderr",
     "output_type": "stream",
     "text": [
      "\n"
     ]
    }
   ],
   "source": [
    "clf = RandomForestClassifier(n_estimators=200)\n",
    "accuracy_dtc = []\n",
    "for i in tqdm.tqdm(range(100)):\n",
    "    # Construction de l'arbre et évaluation\n",
    "    clf.fit(X = X_train, y = Y_train)\n",
    "    accuracy_dtc.append(clf.score(X_test,Y_test))\n",
    "\n",
    "print(numpy.std(accuracy_dtc))"
   ]
  },
  {
   "attachments": {},
   "cell_type": "markdown",
   "metadata": {
    "pycharm": {
     "name": "#%% md\n"
    }
   },
   "source": [
    "On constate que l'écart type est encore plus faible. La précision est donc encore plus stable sur ce modèle."
   ]
  },
  {
   "attachments": {},
   "cell_type": "markdown",
   "metadata": {
    "pycharm": {
     "name": "#%% md\n"
    }
   },
   "source": [
    "5. Construire  le  graphique accuracy vs n_estimators.  Que  constatez-vous  ?  A  partir  de  quelle \n",
    "valeur on n’améliore plus ?"
   ]
  },
  {
   "cell_type": "code",
   "execution_count": 22,
   "metadata": {
    "pycharm": {
     "name": "#%%\n"
    }
   },
   "outputs": [
    {
     "name": "stderr",
     "output_type": "stream",
     "text": [
      "100%|██████████| 499/499 [05:09<00:00,  1.61it/s]\n"
     ]
    },
    {
     "data": {
      "text/plain": [
       "<seaborn.axisgrid.JointGrid at 0x26bd27c8dd0>"
      ]
     },
     "execution_count": 22,
     "metadata": {},
     "output_type": "execute_result"
    },
    {
     "data": {
      "image/png": "[encoded data removed]",
      "text/plain": [
       "<Figure size 600x600 with 3 Axes>"
      ]
     },
     "metadata": {},
     "output_type": "display_data"
    }
   ],
   "source": [
    "acc_n_esti = []\n",
    "for i in tqdm.tqdm(range(1,500)):\n",
    "    clf = RandomForestClassifier(n_estimators=i)\n",
    "    clf.fit(X = X_train, y = Y_train)\n",
    "    acc_n_esti.append([i,clf.score(X_test,Y_test)])\n",
    "\n",
    "acc_n_esti = pandas.DataFrame(acc_n_esti, columns=[\"n_estimators\", \"accuracy\"])\n",
    "seaborn.jointplot(x='n_estimators',y='accuracy',data=acc_n_esti,kind='reg')"
   ]
  },
  {
   "attachments": {},
   "cell_type": "markdown",
   "metadata": {
    "pycharm": {
     "name": "#%% md\n"
    }
   },
   "source": [
    "On constate qu'a partir de 150 n_estimators, la précision moyenne n'augmente plus de façon significative."
   ]
  },
  {
   "attachments": {},
   "cell_type": "markdown",
   "metadata": {
    "pycharm": {
     "name": "#%% md\n"
    }
   },
   "source": [
    "6. Regardez  dans  la  documentation  les ExtraTreesClassifier et  refaites  la  classification  avec  ce \n",
    "type de classifieur. Comparez avec RandomForestClassifier."
   ]
  },
  {
   "cell_type": "code",
   "execution_count": 25,
   "metadata": {
    "pycharm": {
     "name": "#%%\n"
    }
   },
   "outputs": [
    {
     "name": "stdout",
     "output_type": "stream",
     "text": [
      "0.9165636588380717\n"
     ]
    },
    {
     "name": "stderr",
     "output_type": "stream",
     "text": [
      "100%|██████████| 100/100 [01:47<00:00,  1.08s/it]"
     ]
    },
    {
     "name": "stdout",
     "output_type": "stream",
     "text": [
      "0.0027696228835985604\n"
     ]
    },
    {
     "name": "stderr",
     "output_type": "stream",
     "text": [
      "\n"
     ]
    }
   ],
   "source": [
    "extra_tree = ExtraTreeClassifier(random_state=0)\n",
    "cls = BaggingClassifier(extra_tree, random_state=0).fit(X_train, Y_train)\n",
    "Y_pred = clf.predict(X_test)\n",
    "print(metrics.accuracy_score(Y_test, Y_pred))\n",
    "\n",
    "accuracy_dtc = []\n",
    "for i in tqdm.tqdm(range(100)):\n",
    "    # Construction de l'arbre et évaluation\n",
    "    clf.fit(X = X_train, y = Y_train)\n",
    "    accuracy_dtc.append(clf.score(X_test,Y_test))\n",
    "\n",
    "print(numpy.std(accuracy_dtc))\n"
   ]
  },
  {
   "attachments": {},
   "cell_type": "markdown",
   "metadata": {
    "pycharm": {
     "name": "#%% md\n"
    }
   },
   "source": [
    "On constate une précision équivalente mais une stabilité plus importante"
   ]
  }
 ],
 "metadata": {
  "kernelspec": {
   "display_name": "Python 3",
   "language": "python",
   "name": "python3"
  },
  "language_info": {
   "codemirror_mode": {
    "name": "ipython",
    "version": 3
   },
   "file_extension": ".py",
   "mimetype": "text/x-python",
   "name": "python",
   "nbconvert_exporter": "python",
   "pygments_lexer": "ipython3",
   "version": "3.11.1"
  },
  "orig_nbformat": 4,
  "vscode": {
   "interpreter": {
    "hash": "a39d81b61f9ce6a24f8f526befdd921f4c6667ad35f1e729c3a4277aa5c26a6d"
   }
  }
 },
 "nbformat": 4,
 "nbformat_minor": 2
}