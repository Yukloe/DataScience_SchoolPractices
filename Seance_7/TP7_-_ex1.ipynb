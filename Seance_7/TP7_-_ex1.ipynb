{
 "cells": [
  {
   "attachments": {},
   "cell_type": "markdown",
   "metadata": {
    "pycharm": {
     "name": "#%% md\n"
    }
   },
   "source": [
    "Exercice 1 : \n",
    " Pour  cet  exercice,  nous  allons  utiliser  la  base  de  données digits,  qui  contient  10  classes \n",
    "(images  des  chiffres  en  écriture  manuscrite).  Il  y  a  1797  éléments,  chaque  élément  a  64 \n",
    "attributs (8 pixels par 8). nous allons également  utiliser comme classificateur de base un arbre \n",
    "de décision DecisionTreeClassifier."
   ]
  },
  {
   "cell_type": "code",
   "execution_count": 68,
   "metadata": {
    "pycharm": {
     "name": "#%%\n"
    }
   },
   "outputs": [],
   "source": [
    "# Imports\n",
    "from sklearn.datasets import load_digits\n",
    "from sklearn.model_selection import train_test_split\n",
    "from sklearn.model_selection import GridSearchCV\n",
    "import matplotlib.pyplot as plt \n",
    "import pandas\n",
    "from sklearn.tree import DecisionTreeClassifier\n",
    "from sklearn.ensemble import BaggingClassifier\n",
    "import numpy\n",
    "import tqdm\n",
    "import seaborn"
   ]
  },
  {
   "cell_type": "code",
   "execution_count": 31,
   "metadata": {
    "pycharm": {
     "name": "#%%\n"
    }
   },
   "outputs": [
    {
     "data": {
      "image/png": "[encoded data removed]",
      "text/plain": [
       "<Figure size 640x480 with 10 Axes>"
      ]
     },
     "metadata": {},
     "output_type": "display_data"
    }
   ],
   "source": [
    "digits = load_digits() \n",
    " \n",
    "# Affichage des 10 premières images \n",
    "fig = plt.figure() \n",
    "for i, digit in enumerate(digits.images[:10]): \n",
    "    fig.add_subplot(1,10,i+1) \n",
    "    plt.imshow(digit) \n",
    "plt.show()"
   ]
  },
  {
   "attachments": {},
   "cell_type": "markdown",
   "metadata": {
    "pycharm": {
     "name": "#%% md\n"
    }
   },
   "source": [
    "1- Découpez vos données en un ensemble d’apprentissage 90% et un ensemble de test de 10%  "
   ]
  },
  {
   "cell_type": "code",
   "execution_count": 43,
   "metadata": {
    "pycharm": {
     "name": "#%%\n"
    }
   },
   "outputs": [
    {
     "data": {
      "text/plain": [
       "3    0.101836\n",
       "1    0.101280\n",
       "5    0.101280\n",
       "4    0.100723\n",
       "6    0.100723\n",
       "9    0.100167\n",
       "7    0.099610\n",
       "0    0.099054\n",
       "2    0.098497\n",
       "8    0.096828\n",
       "dtype: float64"
      ]
     },
     "execution_count": 43,
     "metadata": {},
     "output_type": "execute_result"
    }
   ],
   "source": [
    "# Séparation des données\n",
    "X = pandas.DataFrame(digits.data, columns=digits.feature_names).copy()\n",
    "Y = pandas.DataFrame(digits.target).copy()\n",
    "\n",
    "Y.value_counts(normalize=True)"
   ]
  },
  {
   "cell_type": "code",
   "execution_count": 44,
   "metadata": {
    "pycharm": {
     "name": "#%%\n"
    }
   },
   "outputs": [],
   "source": [
    "# Découpage en Apprentissage/Test\n",
    "X_train, X_test, Y_train, Y_test = train_test_split(X, Y, train_size= 0.9, test_size=0.1, random_state=0)"
   ]
  },
  {
   "attachments": {},
   "cell_type": "markdown",
   "metadata": {
    "pycharm": {
     "name": "#%% md\n"
    }
   },
   "source": [
    "2- Construire la variance de la valeur accuracy sur 100 tirages pour la séparation apprentissage/test. Que pouvons-nous conclure ?"
   ]
  },
  {
   "cell_type": "code",
   "execution_count": 59,
   "metadata": {
    "pycharm": {
     "name": "#%%\n"
    }
   },
   "outputs": [
    {
     "name": "stderr",
     "output_type": "stream",
     "text": [
      "100%|██████████| 100/100 [00:03<00:00, 30.97it/s]"
     ]
    },
    {
     "name": "stdout",
     "output_type": "stream",
     "text": [
      "0.010842730966634507\n"
     ]
    },
    {
     "name": "stderr",
     "output_type": "stream",
     "text": [
      "\n"
     ]
    }
   ],
   "source": [
    "# Instanciation de l'arbre\n",
    "Tree = DecisionTreeClassifier()\n",
    "accuracy_dtc = []\n",
    "for i in tqdm.tqdm(range(100)):\n",
    "    # Construction de l'arbre et évaluation\n",
    "    Tree.fit(X = X_train, y = Y_train)\n",
    "    accuracy_dtc.append(Tree.score(X_test,Y_test))\n",
    "\n",
    "print(numpy.std(accuracy_dtc))"
   ]
  },
  {
   "cell_type": "code",
   "execution_count": 53,
   "metadata": {
    "pycharm": {
     "name": "#%%\n"
    }
   },
   "outputs": [],
   "source": [
    "# Pour comparer, construisons maintenant un classifieur bagging sur nos données, toujours basé sur les DecisionTreeClassifier :\n",
    "clf = BaggingClassifier(DecisionTreeClassifier(), max_samples=0.5, max_features=0.5, n_estimators=200)"
   ]
  },
  {
   "attachments": {},
   "cell_type": "markdown",
   "metadata": {
    "pycharm": {
     "name": "#%% md\n"
    }
   },
   "source": [
    "3- Calculer la variance de la valeur accuracy sur 100 tirages pour la séparation apprentissage/test.  Comparer  avec  la  variance  du  classifieur  de  base.  Que  pouvons-nous conclure ?"
   ]
  },
  {
   "cell_type": "code",
   "execution_count": 64,
   "metadata": {
    "pycharm": {
     "name": "#%%\n"
    }
   },
   "outputs": [
    {
     "name": "stderr",
     "output_type": "stream",
     "text": [
      "100%|██████████| 100/100 [01:21<00:00,  1.22it/s]"
     ]
    },
    {
     "name": "stdout",
     "output_type": "stream",
     "text": [
      "0.007429504079290709\n"
     ]
    },
    {
     "name": "stderr",
     "output_type": "stream",
     "text": [
      "\n"
     ]
    }
   ],
   "source": [
    "accuracy_dtc = []\n",
    "for i in tqdm.tqdm(range(100)):\n",
    "    # Construction de l'arbre et évaluation\n",
    "    clf.fit(X = X_train, y = pandas.Series.ravel(Y_train))\n",
    "    accuracy_dtc.append(clf.score(X_test,pandas.Series.ravel(Y_test)))\n",
    "\n",
    "print(numpy.std(accuracy_dtc))"
   ]
  },
  {
   "attachments": {},
   "cell_type": "markdown",
   "metadata": {
    "pycharm": {
     "name": "#%% md\n"
    }
   },
   "source": [
    "On trouve que la variance sur la précision est plus faible sur le modèle de Bagging. Cela montre que le modèle Bagging a une précision plus stable."
   ]
  },
  {
   "attachments": {},
   "cell_type": "markdown",
   "metadata": {
    "pycharm": {
     "name": "#%% md\n"
    }
   },
   "source": [
    "4- Construire le graphique accuracy vs n_estimators. Que constatez-vous ?"
   ]
  },
  {
   "cell_type": "code",
   "execution_count": 67,
   "metadata": {
    "pycharm": {
     "name": "#%%\n"
    }
   },
   "outputs": [
    {
     "name": "stderr",
     "output_type": "stream",
     "text": [
      "100%|██████████| 199/199 [02:41<00:00,  1.23it/s]\n"
     ]
    },
    {
     "data": {
      "text/plain": [
       "<seaborn.axisgrid.JointGrid at 0x25c5cad8b90>"
      ]
     },
     "execution_count": 67,
     "metadata": {},
     "output_type": "execute_result"
    },
    {
     "data": {
      "image/png": "[encoded data removed]",
      "text/plain": [
       "<Figure size 600x600 with 3 Axes>"
      ]
     },
     "metadata": {},
     "output_type": "display_data"
    }
   ],
   "source": [
    "acc_n_esti = []\n",
    "for i in tqdm.tqdm(range(1,200)):\n",
    "    clf = BaggingClassifier(DecisionTreeClassifier(), max_samples=0.5, max_features=0.5, n_estimators=i)\n",
    "    clf.fit(X = X_train, y = pandas.Series.ravel(Y_train))\n",
    "    acc_n_esti.append([i,clf.score(X_test,pandas.Series.ravel(Y_test))])\n",
    "\n",
    "acc_n_esti = pandas.DataFrame(acc_n_esti, columns=[\"n_estimators\", \"accuracy\"])\n",
    "seaborn.jointplot(x='n_estimators',y='accuracy',data=acc_n_esti,kind='reg')"
   ]
  },
  {
   "attachments": {},
   "cell_type": "markdown",
   "metadata": {
    "pycharm": {
     "name": "#%% md\n"
    }
   },
   "source": [
    "On constate qu'avec un plus grand nombre d'estimators on obtient une précision en moyenne plus importante"
   ]
  },
  {
   "attachments": {},
   "cell_type": "markdown",
   "metadata": {
    "pycharm": {
     "name": "#%% md\n"
    }
   },
   "source": [
    "5- Faites  varier  les  parametres max_samples et max_features. Pour quelles valeurs on obtient le meilleur résultat ? On pourra notamment utiliser GridSearchCV pour réaliser une recherche systématique. "
   ]
  },
  {
   "cell_type": "code",
   "execution_count": 75,
   "metadata": {
    "pycharm": {
     "name": "#%%\n"
    }
   },
   "outputs": [
    {
     "name": "stderr",
     "output_type": "stream",
     "text": [
      "c:\\Users\\arthu\\AppData\\Local\\Programs\\Python\\Python311\\Lib\\site-packages\\sklearn\\model_selection\\_validation.py:378: FitFailedWarning: \n",
      "95 fits failed out of a total of 500.\n",
      "The score on these train-test partitions for these parameters will be set to nan.\n",
      "If these failures are not expected, you can try to debug them by setting error_score='raise'.\n",
      "\n",
      "Below are more details about the failures:\n",
      "--------------------------------------------------------------------------------\n",
      "50 fits failed with the following error:\n",
      "Traceback (most recent call last):\n",
      "  File \"c:\\Users\\arthu\\AppData\\Local\\Programs\\Python\\Python311\\Lib\\site-packages\\sklearn\\model_selection\\_validation.py\", line 686, in _fit_and_score\n",
      "    estimator.fit(X_train, y_train, **fit_params)\n",
      "  File \"c:\\Users\\arthu\\AppData\\Local\\Programs\\Python\\Python311\\Lib\\site-packages\\sklearn\\ensemble\\_bagging.py\", line 326, in fit\n",
      "    self._validate_params()\n",
      "  File \"c:\\Users\\arthu\\AppData\\Local\\Programs\\Python\\Python311\\Lib\\site-packages\\sklearn\\base.py\", line 581, in _validate_params\n",
      "    validate_parameter_constraints(\n",
      "  File \"c:\\Users\\arthu\\AppData\\Local\\Programs\\Python\\Python311\\Lib\\site-packages\\sklearn\\utils\\_param_validation.py\", line 97, in validate_parameter_constraints\n",
      "    raise InvalidParameterError(\n",
      "sklearn.utils._param_validation.InvalidParameterError: The 'max_features' parameter of BaggingClassifier must be an int in the range [1, inf) or a float in the range (0, 1]. Got 0.0 instead.\n",
      "\n",
      "--------------------------------------------------------------------------------\n",
      "45 fits failed with the following error:\n",
      "Traceback (most recent call last):\n",
      "  File \"c:\\Users\\arthu\\AppData\\Local\\Programs\\Python\\Python311\\Lib\\site-packages\\sklearn\\model_selection\\_validation.py\", line 686, in _fit_and_score\n",
      "    estimator.fit(X_train, y_train, **fit_params)\n",
      "  File \"c:\\Users\\arthu\\AppData\\Local\\Programs\\Python\\Python311\\Lib\\site-packages\\sklearn\\ensemble\\_bagging.py\", line 326, in fit\n",
      "    self._validate_params()\n",
      "  File \"c:\\Users\\arthu\\AppData\\Local\\Programs\\Python\\Python311\\Lib\\site-packages\\sklearn\\base.py\", line 581, in _validate_params\n",
      "    validate_parameter_constraints(\n",
      "  File \"c:\\Users\\arthu\\AppData\\Local\\Programs\\Python\\Python311\\Lib\\site-packages\\sklearn\\utils\\_param_validation.py\", line 97, in validate_parameter_constraints\n",
      "    raise InvalidParameterError(\n",
      "sklearn.utils._param_validation.InvalidParameterError: The 'max_samples' parameter of BaggingClassifier must be an int in the range [1, inf) or a float in the range (0, 1]. Got 0.0 instead.\n",
      "\n",
      "  warnings.warn(some_fits_failed_message, FitFailedWarning)\n",
      "c:\\Users\\arthu\\AppData\\Local\\Programs\\Python\\Python311\\Lib\\site-packages\\sklearn\\model_selection\\_search.py:952: UserWarning: One or more of the test scores are non-finite: [       nan        nan        nan        nan        nan        nan\n",
      "        nan        nan        nan        nan        nan 0.91282728\n",
      " 0.92331537 0.93878187 0.92889195 0.93383977 0.93630318 0.93692046\n",
      " 0.93691855 0.94186829        nan 0.94063945 0.94991782 0.95981348\n",
      " 0.96661124 0.96599396 0.96784772 0.96784963 0.96846883 0.96784963\n",
      "        nan 0.93940106 0.95795207 0.96166151 0.96227879 0.97217062\n",
      " 0.96969766 0.97341092 0.97032068 0.97340519        nan 0.94681994\n",
      " 0.95733861 0.96599205 0.96599205 0.96598632 0.97032068 0.97278791\n",
      " 0.97217062 0.97402056        nan 0.94126438 0.9598001  0.9684631\n",
      " 0.96536712 0.96845354 0.97155334 0.9734071  0.97093414 0.97649734\n",
      "        nan 0.93815885 0.95795016 0.9616596  0.96350763 0.96351145\n",
      " 0.9721668  0.97279173 0.96907656 0.97031113        nan 0.94125674\n",
      " 0.95424263 0.96351145 0.96351336 0.96536712 0.96722471 0.96289034\n",
      " 0.96845736 0.96722088        nan 0.93259756 0.95114475 0.95361388\n",
      " 0.95547338 0.96165768 0.95856362 0.96103085 0.96474602 0.96226924\n",
      "        nan 0.93135344 0.94310668 0.95114092 0.95052364 0.9529966\n",
      " 0.95423308 0.95856553 0.95732523 0.9585598 ]\n",
      "  warnings.warn(\n"
     ]
    },
    {
     "name": "stdout",
     "output_type": "stream",
     "text": [
      "{'estimator': DecisionTreeClassifier(), 'max_features': 0.5, 'max_samples': 0.9, 'n_estimators': 100}\n"
     ]
    }
   ],
   "source": [
    "# Création du classifier\n",
    "clf_para = {'estimator':[DecisionTreeClassifier()],'max_samples':numpy.arange(0,1,0.05),'max_features':numpy.arange(0,1,0.05), 'n_estimators':[200]}\n",
    "clf = GridSearchCV(BaggingClassifier(), clf_para, cv=5)\n",
    "clf.fit(X_train, pandas.Series.ravel(Y_train))\n",
    "print(clf.best_params_)"
   ]
  }
 ],
 "metadata": {
  "kernelspec": {
   "display_name": "Python 3",
   "language": "python",
   "name": "python3"
  },
  "language_info": {
   "codemirror_mode": {
    "name": "ipython",
    "version": 3
   },
   "file_extension": ".py",
   "mimetype": "text/x-python",
   "name": "python",
   "nbconvert_exporter": "python",
   "pygments_lexer": "ipython3",
   "version": "3.11.1"
  },
  "orig_nbformat": 4,
  "vscode": {
   "interpreter": {
    "hash": "a39d81b61f9ce6a24f8f526befdd921f4c6667ad35f1e729c3a4277aa5c26a6d"
   }
  }
 },
 "nbformat": 4,
 "nbformat_minor": 2
}