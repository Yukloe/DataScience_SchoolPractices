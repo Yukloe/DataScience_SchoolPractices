{
 "cells": [
  {
   "cell_type": "raw",
   "source": [
    "Exercice 1 : les notions basiques de python"
   ],
   "metadata": {
    "collapsed": false,
    "pycharm": {
     "name": "#%% raw\n"
    }
   }
  },
  {
   "cell_type": "markdown",
   "source": [
    "1- Ecrire une boucle qui compte et affiche les nombres jusqu’à 50 en utilisant (la boucle for\n",
    "ensuite la boucle while)"
   ],
   "metadata": {
    "collapsed": false,
    "pycharm": {
     "name": "#%% md\n"
    }
   }
  },
  {
   "cell_type": "code",
   "execution_count": 3,
   "outputs": [
    {
     "name": "stdout",
     "output_type": "stream",
     "text": [
      "0\n",
      "1\n",
      "2\n",
      "3\n",
      "4\n",
      "5\n",
      "6\n",
      "7\n",
      "8\n",
      "9\n",
      "10\n",
      "11\n",
      "12\n",
      "13\n",
      "14\n",
      "15\n",
      "16\n",
      "17\n",
      "18\n",
      "19\n",
      "20\n",
      "21\n",
      "22\n",
      "23\n",
      "24\n",
      "25\n",
      "26\n",
      "27\n",
      "28\n",
      "29\n",
      "30\n",
      "31\n",
      "32\n",
      "33\n",
      "34\n",
      "35\n",
      "36\n",
      "37\n",
      "38\n",
      "39\n",
      "40\n",
      "41\n",
      "42\n",
      "43\n",
      "44\n",
      "45\n",
      "46\n",
      "47\n",
      "48\n",
      "49\n",
      "50\n"
     ]
    }
   ],
   "source": [
    "variable = 0\n",
    "for i in range(51):\n",
    "    print(variable)\n",
    "    variable+=1"
   ],
   "metadata": {
    "collapsed": false,
    "pycharm": {
     "name": "#%%\n"
    }
   }
  },
  {
   "cell_type": "code",
   "execution_count": 6,
   "outputs": [
    {
     "name": "stdout",
     "output_type": "stream",
     "text": [
      "0\n",
      "1\n",
      "2\n",
      "3\n",
      "4\n",
      "5\n",
      "6\n",
      "7\n",
      "8\n",
      "9\n",
      "10\n",
      "11\n",
      "12\n",
      "13\n",
      "14\n",
      "15\n",
      "16\n",
      "17\n",
      "18\n",
      "19\n",
      "20\n",
      "21\n",
      "22\n",
      "23\n",
      "24\n",
      "25\n",
      "26\n",
      "27\n",
      "28\n",
      "29\n",
      "30\n",
      "31\n",
      "32\n",
      "33\n",
      "34\n",
      "35\n",
      "36\n",
      "37\n",
      "38\n",
      "39\n",
      "40\n",
      "41\n",
      "42\n",
      "43\n",
      "44\n",
      "45\n",
      "46\n",
      "47\n",
      "48\n",
      "49\n",
      "50\n"
     ]
    }
   ],
   "source": [
    "variable = 0\n",
    "while variable !=51:\n",
    "    print(variable)\n",
    "    variable +=1"
   ],
   "metadata": {
    "collapsed": false,
    "pycharm": {
     "name": "#%%\n"
    }
   }
  },
  {
   "cell_type": "markdown",
   "source": [
    "2- Ecrire un script python qui dessine un rectangle plein ensuite vide. Idem pour un triangle.\n",
    "********** **********\n",
    "********** *        *\n",
    "********** *        *\n",
    "********** *        *\n",
    "********** **********"
   ],
   "metadata": {
    "collapsed": false,
    "pycharm": {
     "name": "#%% md\n"
    }
   }
  },
  {
   "cell_type": "code",
   "execution_count": 16,
   "outputs": [
    {
     "name": "stdout",
     "output_type": "stream",
     "text": [
      "**********\n",
      "**********\n",
      "**********\n",
      "**********\n",
      "**********\n"
     ]
    }
   ],
   "source": [
    "for l in range(0, 5, 1):\n",
    "    for c in range(0, 10, 1):\n",
    "        print(\"*\", end=\"\")\n",
    "\n",
    "    print(\"\")"
   ],
   "metadata": {
    "collapsed": false,
    "pycharm": {
     "name": "#%%\n"
    }
   }
  },
  {
   "cell_type": "code",
   "execution_count": 57,
   "outputs": [
    {
     "name": "stdout",
     "output_type": "stream",
     "text": [
      "**********\n",
      "*        *\n",
      "*        *\n",
      "*        *\n",
      "**********\n",
      "\n"
     ]
    }
   ],
   "source": [
    "for c  in range(0, 5, 1):\n",
    "    for l in range(0, 10, 1):\n",
    "        if c > 0 and c < 4 and l > 0 and l < 9:\n",
    "            print(\" \", end=\"\")\n",
    "        else:\n",
    "            print(\"*\", end=\"\")\n",
    "    print(\"\")\n",
    "print(\"\")"
   ],
   "metadata": {
    "collapsed": false,
    "pycharm": {
     "name": "#%%\n"
    }
   }
  },
  {
   "cell_type": "code",
   "execution_count": 58,
   "outputs": [
    {
     "name": "stdout",
     "output_type": "stream",
     "text": [
      "*\n",
      "**\n",
      "***\n",
      "****\n",
      "*****\n",
      "\n"
     ]
    }
   ],
   "source": [
    "for c in range(0, 5, 1):\n",
    "    for l in range(0, c+1, 1):\n",
    "        print(\"*\", end=\"\")\n",
    "    print(\"\")\n",
    "print(\"\")"
   ],
   "metadata": {
    "collapsed": false,
    "pycharm": {
     "name": "#%%\n"
    }
   }
  },
  {
   "cell_type": "code",
   "execution_count": 61,
   "outputs": [
    {
     "name": "stdout",
     "output_type": "stream",
     "text": [
      "*\n",
      "**\n",
      "* *\n",
      "*  *\n",
      "*****\n",
      "\n"
     ]
    }
   ],
   "source": [
    "for c in range(0, 5, 1):\n",
    "    for l in range(0, c+1, 1):\n",
    "        if c > 0 and c < 4 and l > 0 and l < c:\n",
    "            print(\" \", end=\"\")\n",
    "        else:\n",
    "            print(\"*\", end=\"\")\n",
    "    print(\"\")\n",
    "print(\"\")"
   ],
   "metadata": {
    "collapsed": false,
    "pycharm": {
     "name": "#%%\n"
    }
   }
  },
  {
   "cell_type": "markdown",
   "source": [
    "3- Réaliser les opérations suivantes :\n",
    "    a. Créer une liste vide."
   ],
   "metadata": {
    "collapsed": false,
    "pycharm": {
     "name": "#%% md\n"
    }
   }
  },
  {
   "cell_type": "code",
   "execution_count": 22,
   "outputs": [],
   "source": [
    "liste = []"
   ],
   "metadata": {
    "collapsed": false,
    "pycharm": {
     "name": "#%%\n"
    }
   }
  },
  {
   "cell_type": "markdown",
   "source": [
    "    b. Ajouter des éléments à cette liste."
   ],
   "metadata": {
    "collapsed": false,
    "pycharm": {
     "name": "#%% md\n"
    }
   }
  },
  {
   "cell_type": "code",
   "execution_count": 24,
   "outputs": [],
   "source": [
    "liste.append(\"mangues\")"
   ],
   "metadata": {
    "collapsed": false,
    "pycharm": {
     "name": "#%%\n"
    }
   }
  },
  {
   "cell_type": "code",
   "execution_count": 25,
   "outputs": [
    {
     "name": "stdout",
     "output_type": "stream",
     "text": [
      "['mangues']\n"
     ]
    }
   ],
   "source": [
    "print(liste)"
   ],
   "metadata": {
    "collapsed": false,
    "pycharm": {
     "name": "#%%\n"
    }
   }
  },
  {
   "cell_type": "code",
   "execution_count": 26,
   "outputs": [],
   "source": [
    "liste.append(\"framboise\")\n",
    "liste.append(\"cerise\")"
   ],
   "metadata": {
    "collapsed": false,
    "pycharm": {
     "name": "#%%\n"
    }
   }
  },
  {
   "cell_type": "markdown",
   "source": [
    "    c. Afficher la longueur de la liste\n"
   ],
   "metadata": {
    "collapsed": false,
    "pycharm": {
     "name": "#%% md\n"
    }
   }
  },
  {
   "cell_type": "code",
   "execution_count": 27,
   "outputs": [
    {
     "name": "stdout",
     "output_type": "stream",
     "text": [
      "3\n"
     ]
    }
   ],
   "source": [
    "print(len(liste))"
   ],
   "metadata": {
    "collapsed": false,
    "pycharm": {
     "name": "#%%\n"
    }
   }
  },
  {
   "cell_type": "markdown",
   "source": [
    "    d. Modifier la liste en supprimant un élément et en ajoutant d’autres"
   ],
   "metadata": {
    "collapsed": false,
    "pycharm": {
     "name": "#%% md\n"
    }
   }
  },
  {
   "cell_type": "code",
   "execution_count": 28,
   "outputs": [],
   "source": [
    "liste.remove(\"framboise\")\n",
    "liste.append(\"poire\")"
   ],
   "metadata": {
    "collapsed": false,
    "pycharm": {
     "name": "#%%\n"
    }
   }
  },
  {
   "cell_type": "markdown",
   "source": [
    "    e. Afficher la liste en utilisant une boucle."
   ],
   "metadata": {
    "collapsed": false,
    "pycharm": {
     "name": "#%% md\n"
    }
   }
  },
  {
   "cell_type": "code",
   "execution_count": 29,
   "outputs": [
    {
     "name": "stdout",
     "output_type": "stream",
     "text": [
      "mangues\n",
      "cerise\n",
      "poire\n"
     ]
    }
   ],
   "source": [
    "for i in range (0, len(liste), 1):\n",
    "    print(liste[i])"
   ],
   "metadata": {
    "collapsed": false,
    "pycharm": {
     "name": "#%%\n"
    }
   }
  },
  {
   "cell_type": "raw",
   "source": [
    "Exercice 2"
   ],
   "metadata": {
    "collapsed": false,
    "pycharm": {
     "name": "#%% raw\n"
    }
   }
  },
  {
   "cell_type": "markdown",
   "source": [
    "1. Définissez une fonction indexMax(liste) qui renvoie l’index de l’élément ayant la valeur la\n",
    "plus élevée dans la liste transmise en argument."
   ],
   "metadata": {
    "collapsed": false,
    "pycharm": {
     "name": "#%% md\n"
    }
   }
  },
  {
   "cell_type": "code",
   "execution_count": 30,
   "outputs": [],
   "source": [
    "liste2 = []\n",
    "for i in range(0, 5679, 42):\n",
    "    liste2.append(i)"
   ],
   "metadata": {
    "collapsed": false,
    "pycharm": {
     "name": "#%%\n"
    }
   }
  },
  {
   "cell_type": "code",
   "execution_count": 31,
   "outputs": [
    {
     "name": "stdout",
     "output_type": "stream",
     "text": [
      "5670\n"
     ]
    }
   ],
   "source": [
    "maximum = print(max(liste2))"
   ],
   "metadata": {
    "collapsed": false,
    "pycharm": {
     "name": "#%%\n"
    }
   }
  },
  {
   "cell_type": "code",
   "execution_count": 34,
   "outputs": [],
   "source": [
    "def indexMax(list):\n",
    "    return list.index(max(list))"
   ],
   "metadata": {
    "collapsed": false,
    "pycharm": {
     "name": "#%%\n"
    }
   }
  },
  {
   "cell_type": "code",
   "execution_count": 35,
   "outputs": [
    {
     "name": "stdout",
     "output_type": "stream",
     "text": [
      "135\n"
     ]
    }
   ],
   "source": [
    "print(indexMax(liste2))"
   ],
   "metadata": {
    "collapsed": false,
    "pycharm": {
     "name": "#%%\n"
    }
   }
  },
  {
   "cell_type": "markdown",
   "source": [
    "    2. Définissez une fonction elementMax(liste,debut,fin) qui renvoie l’élément ayant la plus grande\n",
    "valeur dans la liste transmise. Les deux arguments debut et fin indiqueront les indices entre\n",
    "lesquels doit s’exercer la recherche."
   ],
   "metadata": {
    "collapsed": false,
    "pycharm": {
     "name": "#%% md\n"
    }
   }
  },
  {
   "cell_type": "code",
   "execution_count": 37,
   "outputs": [],
   "source": [
    "def elementMax(liste, debut, fin):\n",
    "    listToAnalyze = []\n",
    "    for  i in range(debut, fin, 1):\n",
    "        listToAnalyze.append(i)\n",
    "    return max(listToAnalyze)"
   ],
   "metadata": {
    "collapsed": false,
    "pycharm": {
     "name": "#%%\n"
    }
   }
  },
  {
   "cell_type": "code",
   "execution_count": 38,
   "outputs": [
    {
     "name": "stdout",
     "output_type": "stream",
     "text": [
      "485\n"
     ]
    }
   ],
   "source": [
    "print(elementMax(liste2, 32, 486))"
   ],
   "metadata": {
    "collapsed": false,
    "pycharm": {
     "name": "#%%\n"
    }
   }
  },
  {
   "cell_type": "raw",
   "source": [
    "Exercice 3"
   ],
   "metadata": {
    "collapsed": false,
    "pycharm": {
     "name": "#%% raw\n"
    }
   }
  },
  {
   "cell_type": "markdown",
   "source": [
    "1. Définissez une fonction compteMots(laphrase) qui renvoie le nombre de mots contenus dans\n",
    "la phrase laphrase. On considère comme mots les ensembles de caractères inclus entre des\n",
    "espaces."
   ],
   "metadata": {
    "collapsed": false,
    "pycharm": {
     "name": "#%% md\n"
    }
   }
  },
  {
   "cell_type": "code",
   "execution_count": 42,
   "outputs": [],
   "source": [
    "phrase = \"il fait pas si beau que ça aujourd'hui en vrai\""
   ],
   "metadata": {
    "collapsed": false,
    "pycharm": {
     "name": "#%%\n"
    }
   }
  },
  {
   "cell_type": "code",
   "execution_count": 44,
   "outputs": [],
   "source": [
    "def compteMots(laphrase):\n",
    "    return laphrase.count(\" \")+1"
   ],
   "metadata": {
    "collapsed": false,
    "pycharm": {
     "name": "#%%\n"
    }
   }
  },
  {
   "cell_type": "code",
   "execution_count": 45,
   "outputs": [
    {
     "name": "stdout",
     "output_type": "stream",
     "text": [
      "10\n"
     ]
    }
   ],
   "source": [
    "print(compteMots(phrase))"
   ],
   "metadata": {
    "collapsed": false,
    "pycharm": {
     "name": "#%%\n"
    }
   }
  },
  {
   "cell_type": "markdown",
   "source": [
    "2. Ecrire une fonction qui vérifie qu’une chaîne de caractères est symétrique (ex: kayak)"
   ],
   "metadata": {
    "collapsed": false,
    "pycharm": {
     "name": "#%% md\n"
    }
   }
  },
  {
   "cell_type": "code",
   "execution_count": 54,
   "outputs": [],
   "source": [
    "def symetriqueTest(phrase):\n",
    "    n = 1\n",
    "    isTrue = 1\n",
    "    for i in range(0, len(phrase), 1):\n",
    "        if phrase[i] != phrase[-n]:\n",
    "            isTrue = 0\n",
    "        n+=1\n",
    "    if isTrue == 0:\n",
    "        return False\n",
    "    else:\n",
    "        return True"
   ],
   "metadata": {
    "collapsed": false,
    "pycharm": {
     "name": "#%%\n"
    }
   }
  },
  {
   "cell_type": "code",
   "execution_count": 47,
   "outputs": [],
   "source": [
    "mot = \"kayak\""
   ],
   "metadata": {
    "collapsed": false,
    "pycharm": {
     "name": "#%%\n"
    }
   }
  },
  {
   "cell_type": "code",
   "execution_count": 55,
   "outputs": [
    {
     "data": {
      "text/plain": "True"
     },
     "execution_count": 55,
     "metadata": {},
     "output_type": "execute_result"
    }
   ],
   "source": [
    "symetriqueTest(mot)"
   ],
   "metadata": {
    "collapsed": false,
    "pycharm": {
     "name": "#%%\n"
    }
   }
  },
  {
   "cell_type": "code",
   "execution_count": 56,
   "outputs": [
    {
     "data": {
      "text/plain": "False"
     },
     "execution_count": 56,
     "metadata": {},
     "output_type": "execute_result"
    }
   ],
   "source": [
    "mot2 = \"trucmuche\"\n",
    "symetriqueTest(mot2)"
   ],
   "metadata": {
    "collapsed": false,
    "pycharm": {
     "name": "#%%\n"
    }
   }
  },
  {
   "cell_type": "markdown",
   "source": [
    "3. Ecrire une fonction qui prend une chaîne de caractères et qui lui enlève une lettre sur 2."
   ],
   "metadata": {
    "collapsed": false,
    "pycharm": {
     "name": "#%% md\n"
    }
   }
  },
  {
   "cell_type": "code",
   "execution_count": 81,
   "outputs": [],
   "source": [
    "def retireOneOnTwo(phrase):\n",
    "    phraseToReplaceWith = \"\"\n",
    "    for i in range(0, len(phrase), 2):\n",
    "        phraseToReplaceWith += phrase[i]\n",
    "    return phraseToReplaceWith"
   ],
   "metadata": {
    "collapsed": false,
    "pycharm": {
     "name": "#%%\n"
    }
   }
  },
  {
   "cell_type": "code",
   "execution_count": 84,
   "outputs": [
    {
     "name": "stdout",
     "output_type": "stream",
     "text": [
      "i atpss euqeç uor'u nva\n"
     ]
    }
   ],
   "source": [
    "print(retireOneOnTwo(phrase))"
   ],
   "metadata": {
    "collapsed": false,
    "pycharm": {
     "name": "#%%\n"
    }
   }
  },
  {
   "cell_type": "markdown",
   "source": [
    "4. Ecrire une fonction qui retourne la fréquence de chaque lettre d’un mot. Le résultat sera un\n",
    "dictionnaire dont les clés seront les lettres et les valeurs seront les fréquences. La fréquence\n",
    "désigne le nombre d’occurrence d’une lettre."
   ],
   "metadata": {
    "collapsed": false,
    "pycharm": {
     "name": "#%% md\n"
    }
   }
  },
  {
   "cell_type": "code",
   "execution_count": 90,
   "outputs": [],
   "source": [
    "def freqLettersPerWords(phrase):\n",
    "    dicolettres = {}\n",
    "    for i in range (len(phrase)):\n",
    "        if dicolettres.get(phrase[i]) is None:\n",
    "            dicolettres[phrase[i]] = 1\n",
    "        else:\n",
    "            dicolettres[phrase[i]] +=1\n",
    "    return dicolettres"
   ],
   "metadata": {
    "collapsed": false,
    "pycharm": {
     "name": "#%%\n"
    }
   }
  },
  {
   "cell_type": "code",
   "execution_count": 92,
   "outputs": [
    {
     "name": "stdout",
     "output_type": "stream",
     "text": [
      "{'i': 5, 'l': 1, ' ': 9, 'f': 1, 'a': 6, 't': 1, 'p': 1, 's': 2, 'b': 1, 'e': 3, 'u': 5, 'q': 1, 'ç': 1, 'j': 1, 'o': 1, 'r': 2, 'd': 1, \"'\": 1, 'h': 1, 'n': 1, 'v': 1}\n"
     ]
    }
   ],
   "source": [
    "print(freqLettersPerWords(phrase))"
   ],
   "metadata": {
    "collapsed": false,
    "pycharm": {
     "name": "#%%\n"
    }
   }
  },
  {
   "cell_type": "raw",
   "source": [
    "Exercice 4"
   ],
   "metadata": {
    "collapsed": false,
    "pycharm": {
     "name": "#%% raw\n"
    }
   }
  },
  {
   "cell_type": "markdown",
   "source": [
    "On considère deux listes d’entiers. La première est inférieure à la seconde si l’une des deux conditions\n",
    "suivantes est vérifiée :\n",
    "- Les n premiers nombres sont égaux mais la première liste ne contient que n éléments tandis\n",
    "que la seconde est plus longue\n",
    "- Les n premiers nombres sont égaux mais que le (n+1)ième de la première liste est inférieur au\n",
    "(n+ 1)ème de la seconde liste\n",
    "Par conséquent, si l est la longueur de la liste la plus courte, comparer ces deux listes d’entiers revient\n",
    "à parcourir tous les indices depuis 0 jusqu’à l exclu et à s’arrêter sur la première différence qui\n",
    "détermine le résultat. S’il n’y pas de différence, alors la liste la plus courte est la première. Il faut écrire\n",
    "une fonction compare_liste(p, q) qui implémente cet algorithme."
   ],
   "metadata": {
    "collapsed": false,
    "pycharm": {
     "name": "#%% md\n"
    }
   }
  },
  {
   "cell_type": "code",
   "execution_count": 22,
   "outputs": [],
   "source": [
    "def compare_liste(p, q):\n",
    "    sizep = len(p)\n",
    "    sizeq = len(q)\n",
    "    retour = 4\n",
    "    i = 0\n",
    "    while (i != min(sizeq, sizeq)) and (retour == 4):\n",
    "        if p[i]>q[i]:\n",
    "            retour = 1\n",
    "        elif q[i]>p[i]:\n",
    "            retour = 2\n",
    "        else:\n",
    "            if i == min(sizeq, sizeq):\n",
    "                if sizep<sizeq:\n",
    "                    retour = 2\n",
    "                elif sizep>sizeq:\n",
    "                    retour = 1\n",
    "                else:\n",
    "                    retour = 0\n",
    "            i+=1\n",
    "    return retour"
   ],
   "metadata": {
    "collapsed": false,
    "pycharm": {
     "name": "#%%\n"
    }
   }
  },
  {
   "cell_type": "code",
   "execution_count": 23,
   "outputs": [
    {
     "name": "stdout",
     "output_type": "stream",
     "text": [
      "2\n"
     ]
    }
   ],
   "source": [
    "print(compare_liste([1,2,3,5,6], [1,4]))"
   ],
   "metadata": {
    "collapsed": false,
    "pycharm": {
     "name": "#%%\n"
    }
   }
  },
  {
   "cell_type": "raw",
   "source": [
    "Exercice 5"
   ],
   "metadata": {
    "collapsed": false,
    "pycharm": {
     "name": "#%% raw\n"
    }
   }
  },
  {
   "cell_type": "markdown",
   "source": [
    "    1. Écrivez un dictionnaire qui traduit une abréviation pour chaque jour de la semaine en un\n",
    "numéro de jour correspondant. Par exemple\n",
    " Lun -> 1, Mar -> 2, Mer -> 3, Jeu -> 4, ...\n",
    " Comment réaliser un dictionnaire \"inversé\" les nombres de jours  noms de jour\n"
   ],
   "metadata": {
    "collapsed": false,
    "pycharm": {
     "name": "#%% md\n"
    }
   }
  },
  {
   "cell_type": "code",
   "execution_count": 24,
   "outputs": [],
   "source": [
    "dicoJour = {\"Lun\":1 , \"Mar\":2, \"Mer\":3, \"Jeu\":4, \"Ven\":5, \"Sam\":6, \"Dim\":7}\n",
    "dicoNumero = {v:k for k,v in dicoJour.items()}"
   ],
   "metadata": {
    "collapsed": false,
    "pycharm": {
     "name": "#%%\n"
    }
   }
  },
  {
   "cell_type": "code",
   "execution_count": 25,
   "outputs": [
    {
     "name": "stdout",
     "output_type": "stream",
     "text": [
      "{1: 'Lun', 2: 'Mar', 3: 'Mer', 4: 'Jeu', 5: 'Ven', 6: 'Sam', 7: 'Dim'}\n"
     ]
    }
   ],
   "source": [
    "print(dicoNumero)"
   ],
   "metadata": {
    "collapsed": false,
    "pycharm": {
     "name": "#%%\n"
    }
   }
  },
  {
   "cell_type": "markdown",
   "source": [
    "    2. Considérons la liste suivante :\n",
    "['dog','pencil','fence','dog','apple','dog','dog','dog','pear','pencil'\n",
    ",'pear', 'pear']\n",
    "Construire un dictionnaire qui donne le nombre de fois que chaque mot apparait dans la liste.\n"
   ],
   "metadata": {
    "collapsed": false,
    "pycharm": {
     "name": "#%% md\n"
    }
   }
  },
  {
   "cell_type": "code",
   "execution_count": 28,
   "outputs": [
    {
     "name": "stdout",
     "output_type": "stream",
     "text": [
      "{'dog': 5, 'pencil': 2, 'fence': 1, 'apple': 1, 'pear': 3}\n"
     ]
    }
   ],
   "source": [
    "dicomot = ['dog','pencil','fence','dog','apple','dog','dog','dog','pear','pencil','pear','pear']\n",
    "dicoLettreMot = {}\n",
    "for i in range (len(dicomot)):\n",
    "    if dicoLettreMot.get(dicomot[i]) is None:\n",
    "        dicoLettreMot[dicomot[i]] = 1\n",
    "    else:\n",
    "        dicoLettreMot[dicomot[i]] +=1\n",
    "print(dicoLettreMot)"
   ],
   "metadata": {
    "collapsed": false,
    "pycharm": {
     "name": "#%%\n"
    }
   }
  },
  {
   "cell_type": "raw",
   "source": [
    "Exercice 6"
   ],
   "metadata": {
    "collapsed": false,
    "pycharm": {
     "name": "#%% raw\n"
    }
   }
  },
  {
   "cell_type": "markdown",
   "source": [
    "Ecrire des fonctions faisant les opérations suivantes :\n",
    "    1. Prendre une liste et enlever les doublons, dans un premier temps on supposera la liste triée,\n",
    "puis on considèrera le cas général\n"
   ],
   "metadata": {
    "collapsed": false,
    "pycharm": {
     "name": "#%% md\n"
    }
   }
  },
  {
   "cell_type": "code",
   "execution_count": 30,
   "outputs": [],
   "source": [
    "listeDoublons = [2,2,3,5,6,7,7,7,8,9,9,9,9,9]"
   ],
   "metadata": {
    "collapsed": false,
    "pycharm": {
     "name": "#%%\n"
    }
   }
  },
  {
   "cell_type": "code",
   "execution_count": 31,
   "outputs": [],
   "source": [
    "def supprDoublons(liste):\n",
    "    listeToReplaceWith = []\n",
    "    for i in range(len(liste)):\n",
    "        if liste[i] not in listeToReplaceWith:\n",
    "            listeToReplaceWith.append(liste[i])\n",
    "    return listeToReplaceWith"
   ],
   "metadata": {
    "collapsed": false,
    "pycharm": {
     "name": "#%%\n"
    }
   }
  },
  {
   "cell_type": "code",
   "execution_count": 32,
   "outputs": [
    {
     "data": {
      "text/plain": "[2, 3, 5, 6, 7, 8, 9]"
     },
     "execution_count": 32,
     "metadata": {},
     "output_type": "execute_result"
    }
   ],
   "source": [
    "supprDoublons(listeDoublons)"
   ],
   "metadata": {
    "collapsed": false,
    "pycharm": {
     "name": "#%%\n"
    }
   }
  },
  {
   "cell_type": "markdown",
   "source": [
    "    2. Extraire d'une liste d'entiers les valeurs consécutives qui se suivent, par exemple\n",
    "[3,8,9,10,15,16] -> [(8,9),(9,10),(15,16)]\n"
   ],
   "metadata": {
    "collapsed": false,
    "pycharm": {
     "name": "#%% md\n"
    }
   }
  },
  {
   "cell_type": "code",
   "execution_count": 33,
   "outputs": [],
   "source": [
    "listeConsecutive = [3,8,9,10,15,16]"
   ],
   "metadata": {
    "collapsed": false,
    "pycharm": {
     "name": "#%%\n"
    }
   }
  },
  {
   "cell_type": "code",
   "execution_count": 41,
   "outputs": [],
   "source": [
    "def findConsecutive(liste):\n",
    "    listeConsecutiveOnly = []\n",
    "    for i in range(len(liste)-1):\n",
    "        if liste[i] == liste[i+1]-1:\n",
    "            listeConsecutiveOnly.append(liste[i])\n",
    "            listeConsecutiveOnly.append(liste[i+1])\n",
    "    return listeConsecutiveOnly"
   ],
   "metadata": {
    "collapsed": false,
    "pycharm": {
     "name": "#%%\n"
    }
   }
  },
  {
   "cell_type": "code",
   "execution_count": 42,
   "outputs": [
    {
     "name": "stdout",
     "output_type": "stream",
     "text": [
      "[8, 9, 9, 10, 15, 16]\n"
     ]
    }
   ],
   "source": [
    "print(findConsecutive(listeConsecutive))"
   ],
   "metadata": {
    "collapsed": false,
    "pycharm": {
     "name": "#%%\n"
    }
   }
  },
  {
   "cell_type": "markdown",
   "source": [
    "    3. Faire une fonction qui fait la moyenne d'une liste de nombres"
   ],
   "metadata": {
    "collapsed": false,
    "pycharm": {
     "name": "#%% md\n"
    }
   }
  },
  {
   "cell_type": "code",
   "execution_count": 43,
   "outputs": [],
   "source": [
    "def moyenne(liste):\n",
    "    somme = 0\n",
    "    for i in range(len(liste)):\n",
    "        somme+=liste[i]\n",
    "    return somme/len(liste)"
   ],
   "metadata": {
    "collapsed": false,
    "pycharm": {
     "name": "#%%\n"
    }
   }
  },
  {
   "cell_type": "code",
   "execution_count": 44,
   "outputs": [
    {
     "name": "stdout",
     "output_type": "stream",
     "text": [
      "10.166666666666666\n"
     ]
    }
   ],
   "source": [
    "print(moyenne(listeConsecutive))"
   ],
   "metadata": {
    "collapsed": false,
    "pycharm": {
     "name": "#%%\n"
    }
   }
  },
  {
   "cell_type": "markdown",
   "source": [
    "    4. Faire une fonction qui fait un lissage d'une liste de points en moyennant chaque point avec\n",
    "ses voisins immédiats :\n",
    " Avec l=[x1,x2,...,xn] on remplace chaque xi par (xi-1 + xi +xi+1 )/3"
   ],
   "metadata": {
    "collapsed": false,
    "pycharm": {
     "name": "#%% md\n"
    }
   }
  },
  {
   "cell_type": "code",
   "execution_count": 47,
   "outputs": [],
   "source": [
    "def lissage(liste):\n",
    "    listeLisse = []\n",
    "    for i in range(1, len(liste)-1, 1):\n",
    "        listeLisse.append((liste[i-1]+liste[i]+liste[i+1])/3)\n",
    "    return listeLisse"
   ],
   "metadata": {
    "collapsed": false,
    "pycharm": {
     "name": "#%%\n"
    }
   }
  },
  {
   "cell_type": "code",
   "execution_count": 48,
   "outputs": [
    {
     "name": "stdout",
     "output_type": "stream",
     "text": [
      "[6.666666666666667, 9.0, 11.333333333333334, 13.666666666666666]\n"
     ]
    }
   ],
   "source": [
    "print(lissage(listeConsecutive))"
   ],
   "metadata": {
    "collapsed": false,
    "pycharm": {
     "name": "#%%\n"
    }
   }
  },
  {
   "cell_type": "markdown",
   "source": [
    "    5. Comptez (dans un dictionnaire) le nombre d'occurrence d'entiers contenus dans une liste. Par\n",
    "exemple [2,1,2,3,3] -> {1:1, 2:2, 3:2}\n"
   ],
   "metadata": {
    "collapsed": false,
    "pycharm": {
     "name": "#%% md\n"
    }
   }
  },
  {
   "cell_type": "code",
   "execution_count": 49,
   "outputs": [],
   "source": [
    "def countDico(liste):\n",
    "    dicoCount = {}\n",
    "    for i in range(len(liste)):\n",
    "        if dicoCount.get(liste[i]) is not None:\n",
    "            dicoCount[liste[i]]+=1\n",
    "        else:\n",
    "            dicoCount[liste[i]]=1\n",
    "    return dicoCount"
   ],
   "metadata": {
    "collapsed": false,
    "pycharm": {
     "name": "#%%\n"
    }
   }
  },
  {
   "cell_type": "code",
   "execution_count": 50,
   "outputs": [
    {
     "name": "stdout",
     "output_type": "stream",
     "text": [
      "{2: 2, 3: 1, 5: 1, 6: 1, 7: 3, 8: 1, 9: 5}\n"
     ]
    }
   ],
   "source": [
    "print(countDico(listeDoublons))"
   ],
   "metadata": {
    "collapsed": false,
    "pycharm": {
     "name": "#%%\n"
    }
   }
  },
  {
   "cell_type": "markdown",
   "source": [
    "    6. Prendre une liste de quadruplets (nom,prenom,année,profession) et créer un dictionnaire\n",
    "indexé par un couple nom prénom et qui liste année et profession pour chaque entrée. On\n",
    "vérifiera qu'on ne rentre pas deux fois le même nom,prénom."
   ],
   "metadata": {
    "collapsed": false,
    "pycharm": {
     "name": "#%% md\n"
    }
   }
  },
  {
   "cell_type": "code",
   "execution_count": 52,
   "outputs": [],
   "source": [
    "def ajoutDico(dico, quadup):\n",
    "    if dico.get(quadup[0] + \" \" + quadup[1]) is not None:\n",
    "        print(\"Erreur Doublon\")\n",
    "    else:\n",
    "        dico[quadup[0] + \" \" + quadup[1]] = [quadup[2], quadup[3]]\n",
    "    return dico"
   ],
   "metadata": {
    "collapsed": false,
    "pycharm": {
     "name": "#%%\n"
    }
   }
  },
  {
   "cell_type": "code",
   "execution_count": 53,
   "outputs": [
    {
     "name": "stdout",
     "output_type": "stream",
     "text": [
      "Erreur Doublon\n",
      "{'Michel Polnareff': ['1966', 'chanteur'], 'Riv Enzi': ['1996', 'Politicien']}\n"
     ]
    }
   ],
   "source": [
    "dicoGens = {}\n",
    "dicoGens = ajoutDico(dicoGens, [\"Michel\", \"Polnareff\", \"1966\", \"chanteur\"])\n",
    "dicoGens = ajoutDico(dicoGens, [\"Riv\", \"Enzi\", \"1996\", \"Politicien\"])\n",
    "dicoGens = ajoutDico(dicoGens, [\"Michel\", \"Polnareff\", \"1967\", \"chanteur\"])\n",
    "print(dicoGens)"
   ],
   "metadata": {
    "collapsed": false,
    "pycharm": {
     "name": "#%%\n"
    }
   }
  },
  {
   "cell_type": "markdown",
   "source": [
    "    7. Faire une table qui enregistre les combinaisons de deux dés à six faces, avec comme clefs la\n",
    "valeur de la somme des deux dés et comme valeurs les combinaisons de deux dés."
   ],
   "metadata": {
    "collapsed": false,
    "pycharm": {
     "name": "#%% md\n"
    }
   }
  },
  {
   "cell_type": "code",
   "execution_count": 55,
   "outputs": [],
   "source": [
    "def dicode(tablede, de1, de2):\n",
    "    if tablede.get(de1+de2) is not None:\n",
    "        tablede[de1+de2].append([de1,de2])\n",
    "    else:\n",
    "        tablede[de1+de2]=[[de1,de2]]\n",
    "    return tablede"
   ],
   "metadata": {
    "collapsed": false,
    "pycharm": {
     "name": "#%%\n"
    }
   }
  },
  {
   "cell_type": "code",
   "execution_count": 56,
   "outputs": [
    {
     "name": "stdout",
     "output_type": "stream",
     "text": [
      "{8: [[2, 6], [6, 2]], 7: [[4, 3]], 6: [[4, 2], [5, 1], [3, 3]]}\n"
     ]
    }
   ],
   "source": [
    "dicodede = {}\n",
    "dicodede = dicode(dicodede, 2, 6)\n",
    "dicodede = dicode(dicodede, 4, 3)\n",
    "dicodede = dicode(dicodede, 6, 2)\n",
    "dicodede = dicode(dicodede, 4, 2)\n",
    "dicodede = dicode(dicodede, 5, 1)\n",
    "dicodede = dicode(dicodede, 3, 3)\n",
    "print(dicodede)"
   ],
   "metadata": {
    "collapsed": false,
    "pycharm": {
     "name": "#%%\n"
    }
   }
  },
  {
   "cell_type": "code",
   "execution_count": null,
   "outputs": [],
   "source": [],
   "metadata": {
    "collapsed": false,
    "pycharm": {
     "name": "#%%\n"
    }
   }
  }
 ],
 "metadata": {
  "kernelspec": {
   "display_name": "Python 3",
   "language": "python",
   "name": "python3"
  },
  "language_info": {
   "codemirror_mode": {
    "name": "ipython",
    "version": 2
   },
   "file_extension": ".py",
   "mimetype": "text/x-python",
   "name": "python",
   "nbconvert_exporter": "python",
   "pygments_lexer": "ipython2",
   "version": "2.7.6"
  }
 },
 "nbformat": 4,
 "nbformat_minor": 0
}