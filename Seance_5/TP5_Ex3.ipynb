{
 "cells": [
  {
   "cell_type": "code",
   "execution_count": 16,
   "metadata": {
    "collapsed": true,
    "pycharm": {
     "name": "#%%\n"
    }
   },
   "outputs": [],
   "source": [
    "import pandas as pd\n",
    "from sklearn.model_selection import train_test_split\n",
    "from sklearn.naive_bayes import GaussianNB\n",
    "from sklearn import preprocessing"
   ]
  },
  {
   "cell_type": "code",
   "execution_count": 17,
   "outputs": [
    {
     "data": {
      "text/plain": "   ind  sbp  tobacco   ldl  adiposity  famhist  typea  obesity  alcohol  age  \\\n0    1  160    12.00  5.73      23.11  Present     49    25.30    97.20   52   \n1    2  144     0.01  4.41      28.61   Absent     55    28.87     2.06   63   \n2    3  118     0.08  3.48      32.28  Present     52    29.14     3.81   46   \n3    4  170     7.50  6.41      38.03  Present     51    31.99    24.26   58   \n4    5  134    13.60  3.50      27.78  Present     60    25.99    57.34   49   \n\n   chd  \n0    1  \n1    1  \n2    0  \n3    1  \n4    1  ",
      "text/html": "<div>\n<style scoped>\n    .dataframe tbody tr th:only-of-type {\n        vertical-align: middle;\n    }\n\n    .dataframe tbody tr th {\n        vertical-align: top;\n    }\n\n    .dataframe thead th {\n        text-align: right;\n    }\n</style>\n<table border=\"1\" class=\"dataframe\">\n  <thead>\n    <tr style=\"text-align: right;\">\n      <th></th>\n      <th>ind</th>\n      <th>sbp</th>\n      <th>tobacco</th>\n      <th>ldl</th>\n      <th>adiposity</th>\n      <th>famhist</th>\n      <th>typea</th>\n      <th>obesity</th>\n      <th>alcohol</th>\n      <th>age</th>\n      <th>chd</th>\n    </tr>\n  </thead>\n  <tbody>\n    <tr>\n      <th>0</th>\n      <td>1</td>\n      <td>160</td>\n      <td>12.00</td>\n      <td>5.73</td>\n      <td>23.11</td>\n      <td>Present</td>\n      <td>49</td>\n      <td>25.30</td>\n      <td>97.20</td>\n      <td>52</td>\n      <td>1</td>\n    </tr>\n    <tr>\n      <th>1</th>\n      <td>2</td>\n      <td>144</td>\n      <td>0.01</td>\n      <td>4.41</td>\n      <td>28.61</td>\n      <td>Absent</td>\n      <td>55</td>\n      <td>28.87</td>\n      <td>2.06</td>\n      <td>63</td>\n      <td>1</td>\n    </tr>\n    <tr>\n      <th>2</th>\n      <td>3</td>\n      <td>118</td>\n      <td>0.08</td>\n      <td>3.48</td>\n      <td>32.28</td>\n      <td>Present</td>\n      <td>52</td>\n      <td>29.14</td>\n      <td>3.81</td>\n      <td>46</td>\n      <td>0</td>\n    </tr>\n    <tr>\n      <th>3</th>\n      <td>4</td>\n      <td>170</td>\n      <td>7.50</td>\n      <td>6.41</td>\n      <td>38.03</td>\n      <td>Present</td>\n      <td>51</td>\n      <td>31.99</td>\n      <td>24.26</td>\n      <td>58</td>\n      <td>1</td>\n    </tr>\n    <tr>\n      <th>4</th>\n      <td>5</td>\n      <td>134</td>\n      <td>13.60</td>\n      <td>3.50</td>\n      <td>27.78</td>\n      <td>Present</td>\n      <td>60</td>\n      <td>25.99</td>\n      <td>57.34</td>\n      <td>49</td>\n      <td>1</td>\n    </tr>\n  </tbody>\n</table>\n</div>"
     },
     "execution_count": 17,
     "metadata": {},
     "output_type": "execute_result"
    }
   ],
   "source": [
    "df = pd.read_csv('Dataset_Maladie_Cadiovasculaire.csv', delimiter=';')\n",
    "df.head()"
   ],
   "metadata": {
    "collapsed": false,
    "pycharm": {
     "name": "#%%\n"
    }
   }
  },
  {
   "cell_type": "code",
   "execution_count": 18,
   "outputs": [],
   "source": [
    "#df.drop(\"ind\", axis=1)"
   ],
   "metadata": {
    "collapsed": false,
    "pycharm": {
     "name": "#%%\n"
    }
   }
  },
  {
   "cell_type": "code",
   "execution_count": 19,
   "outputs": [],
   "source": [
    "labelEncoder = preprocessing.LabelEncoder()\n",
    "#Transformation AUTOMATIQUE des valeurs catégoriques\n",
    "df['famhist'] = labelEncoder.fit_transform(df['famhist'])"
   ],
   "metadata": {
    "collapsed": false,
    "pycharm": {
     "name": "#%%\n"
    }
   }
  },
  {
   "cell_type": "code",
   "execution_count": 28,
   "outputs": [
    {
     "data": {
      "text/plain": "   ind  sbp  tobacco   ldl  adiposity  famhist  typea  obesity  alcohol  age  \\\n0    1  160    12.00  5.73      23.11        1     49    25.30    97.20   52   \n1    2  144     0.01  4.41      28.61        0     55    28.87     2.06   63   \n2    3  118     0.08  3.48      32.28        1     52    29.14     3.81   46   \n3    4  170     7.50  6.41      38.03        1     51    31.99    24.26   58   \n4    5  134    13.60  3.50      27.78        1     60    25.99    57.34   49   \n\n   chd  \n0    1  \n1    1  \n2    0  \n3    1  \n4    1  ",
      "text/html": "<div>\n<style scoped>\n    .dataframe tbody tr th:only-of-type {\n        vertical-align: middle;\n    }\n\n    .dataframe tbody tr th {\n        vertical-align: top;\n    }\n\n    .dataframe thead th {\n        text-align: right;\n    }\n</style>\n<table border=\"1\" class=\"dataframe\">\n  <thead>\n    <tr style=\"text-align: right;\">\n      <th></th>\n      <th>ind</th>\n      <th>sbp</th>\n      <th>tobacco</th>\n      <th>ldl</th>\n      <th>adiposity</th>\n      <th>famhist</th>\n      <th>typea</th>\n      <th>obesity</th>\n      <th>alcohol</th>\n      <th>age</th>\n      <th>chd</th>\n    </tr>\n  </thead>\n  <tbody>\n    <tr>\n      <th>0</th>\n      <td>1</td>\n      <td>160</td>\n      <td>12.00</td>\n      <td>5.73</td>\n      <td>23.11</td>\n      <td>1</td>\n      <td>49</td>\n      <td>25.30</td>\n      <td>97.20</td>\n      <td>52</td>\n      <td>1</td>\n    </tr>\n    <tr>\n      <th>1</th>\n      <td>2</td>\n      <td>144</td>\n      <td>0.01</td>\n      <td>4.41</td>\n      <td>28.61</td>\n      <td>0</td>\n      <td>55</td>\n      <td>28.87</td>\n      <td>2.06</td>\n      <td>63</td>\n      <td>1</td>\n    </tr>\n    <tr>\n      <th>2</th>\n      <td>3</td>\n      <td>118</td>\n      <td>0.08</td>\n      <td>3.48</td>\n      <td>32.28</td>\n      <td>1</td>\n      <td>52</td>\n      <td>29.14</td>\n      <td>3.81</td>\n      <td>46</td>\n      <td>0</td>\n    </tr>\n    <tr>\n      <th>3</th>\n      <td>4</td>\n      <td>170</td>\n      <td>7.50</td>\n      <td>6.41</td>\n      <td>38.03</td>\n      <td>1</td>\n      <td>51</td>\n      <td>31.99</td>\n      <td>24.26</td>\n      <td>58</td>\n      <td>1</td>\n    </tr>\n    <tr>\n      <th>4</th>\n      <td>5</td>\n      <td>134</td>\n      <td>13.60</td>\n      <td>3.50</td>\n      <td>27.78</td>\n      <td>1</td>\n      <td>60</td>\n      <td>25.99</td>\n      <td>57.34</td>\n      <td>49</td>\n      <td>1</td>\n    </tr>\n  </tbody>\n</table>\n</div>"
     },
     "execution_count": 28,
     "metadata": {},
     "output_type": "execute_result"
    }
   ],
   "source": [
    "df.head()"
   ],
   "metadata": {
    "collapsed": false,
    "pycharm": {
     "name": "#%%\n"
    }
   }
  },
  {
   "cell_type": "code",
   "execution_count": 26,
   "outputs": [
    {
     "data": {
      "text/plain": "GaussianNB()"
     },
     "execution_count": 26,
     "metadata": {},
     "output_type": "execute_result"
    }
   ],
   "source": [
    "x = df.drop([\"chd\"], axis = 1)\n",
    "y = df[\"chd\"].values\n",
    "x_train, x_test, y_train, y_test = train_test_split(x, y, test_size = 0.11, random_state = 100)\n",
    "Gausse = GaussianNB()\n",
    "Gausse.fit(x_train, y_train)"
   ],
   "metadata": {
    "collapsed": false,
    "pycharm": {
     "name": "#%%\n"
    }
   }
  },
  {
   "cell_type": "code",
   "execution_count": 27,
   "outputs": [
    {
     "name": "stdout",
     "output_type": "stream",
     "text": [
      "Naive Bayes score:  0.7843137254901961\n"
     ]
    }
   ],
   "source": [
    "print(\"Naive Bayes score: \",Gausse.score(x_test, y_test))"
   ],
   "metadata": {
    "collapsed": false,
    "pycharm": {
     "name": "#%%\n"
    }
   }
  },
  {
   "cell_type": "code",
   "execution_count": 21,
   "outputs": [],
   "source": [],
   "metadata": {
    "collapsed": false,
    "pycharm": {
     "name": "#%%\n"
    }
   }
  }
 ],
 "metadata": {
  "kernelspec": {
   "display_name": "Python 3",
   "language": "python",
   "name": "python3"
  },
  "language_info": {
   "codemirror_mode": {
    "name": "ipython",
    "version": 2
   },
   "file_extension": ".py",
   "mimetype": "text/x-python",
   "name": "python",
   "nbconvert_exporter": "python",
   "pygments_lexer": "ipython2",
   "version": "2.7.6"
  }
 },
 "nbformat": 4,
 "nbformat_minor": 0
}