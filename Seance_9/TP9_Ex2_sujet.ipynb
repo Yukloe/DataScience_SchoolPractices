{
 "cells": [
  {
   "cell_type": "markdown",
   "metadata": {
    "pycharm": {
     "name": "#%% md\n"
    }
   },
   "source": [
    "# TP9 Exercice 2\n",
    "\n",
    "<br>\n",
    "\n",
    "Le but de cet exercice est de classifier les textes d'un corpus de textes sur différents sujets, de manière à regrouper les textes portant sur le même sujet. La méthode utilisée (statistiques sur un _sac de mots_) admet des variantes plus efficaces que ce que l'on utilise dans ce TP; ces variantes font toujours l'objet de recherches.\n",
    "\n",
    "Nous allons utiliser un jeu de données de `scikit-learn`: des textes provenant de newsgroups (les ancètres des forums) consacrés à un sujet.\n",
    "\n",
    "L'exercice est inspiré de [la documentation scikit-learn](https://scikit-learn.org/0.18/auto_examples/text/document_clustering.html)\n",
    "\n",
    "\n",
    "On commence par charger les bibliothèques utiles:"
   ]
  },
  {
   "cell_type": "code",
   "execution_count": 10,
   "metadata": {
    "pycharm": {
     "name": "#%%\n"
    }
   },
   "outputs": [],
   "source": [
    "# \"magic function\" Jupyter pour l'affichage des graphiques dans le carnet:\n",
    "%matplotlib inline\n",
    "\n",
    "import time\n",
    "\n",
    "from sklearn.datasets import fetch_20newsgroups\n",
    "from sklearn.cluster import KMeans, MiniBatchKMeans\n",
    "from sklearn.feature_extraction.text import TfidfVectorizer\n",
    "from sklearn import metrics\n",
    "from sklearn import cluster\n",
    "\n",
    "from sklearn.cluster import KMeans\n",
    "from sklearn.cluster import AgglomerativeClustering\n",
    "\n",
    "from scipy.cluster.hierarchy import linkage, fcluster\n",
    "\n",
    "import numpy as np\n",
    "import matplotlib.pyplot as plt"
   ]
  },
  {
   "cell_type": "markdown",
   "metadata": {
    "pycharm": {
     "name": "#%% md\n"
    }
   },
   "source": [
    "Ensuite on charge des textes venant de quatre groupes de discussion (`categories`) provenant du dataset _20 newsgroups_:"
   ]
  },
  {
   "cell_type": "code",
   "execution_count": 2,
   "metadata": {
    "pycharm": {
     "name": "#%%\n"
    }
   },
   "outputs": [
    {
     "name": "stdout",
     "output_type": "stream",
     "text": [
      "Loading 20newsgroups dataset for categories:\n",
      "['misc.forsale', 'rec.sport.baseball', 'comp.graphics', 'sci.space']\n",
      "3929 documents\n",
      "4 categories\n",
      "\n"
     ]
    }
   ],
   "source": [
    "categories = [\n",
    "    'misc.forsale',\n",
    "    'rec.sport.baseball',\n",
    "    'comp.graphics',\n",
    "    'sci.space',\n",
    "]\n",
    "\n",
    "print(\"Loading 20newsgroups dataset for categories:\")\n",
    "print(categories)\n",
    "\n",
    "dataset = fetch_20newsgroups(subset='all', categories=categories)\n",
    "\n",
    "print(\"%d documents\" % len(dataset.data))\n",
    "print(\"%d categories\" % len(dataset.target_names))\n",
    "print()"
   ]
  },
  {
   "cell_type": "markdown",
   "metadata": {
    "pycharm": {
     "name": "#%% md\n"
    }
   },
   "source": [
    "On voit à l'aide des cellules suivantes que l'objet `dataset` a en particulier des attributs `target` (un entier représentant la catégorie du texte, ici entre 0 et 3 car on a extrait 4 catégories), `target_names` (les noms des catégories en anglais, dans l'ordre des entiers de `target`), et `data` (le texte des messages):"
   ]
  },
  {
   "cell_type": "code",
   "execution_count": 3,
   "metadata": {
    "scrolled": false,
    "pycharm": {
     "name": "#%%\n"
    }
   },
   "outputs": [
    {
     "name": "stdout",
     "output_type": "stream",
     "text": [
      "['DESCR', 'data', 'filenames', 'target', 'target_names']\n",
      "contenu de l'attribut target: array([2, 1, 2, ..., 2, 2, 0], dtype=int64)\n",
      "contenu de l'attribut target_names: ['comp.graphics', 'misc.forsale', 'rec.sport.baseball', 'sci.space']\n",
      "\n",
      "\n",
      "Document no: 10\n",
      "numéro de catégorie: 3\n",
      "ce qui correspond au sujet: sci.space\n",
      "\n",
      "Le texte est:\n",
      "\n",
      "From: nsmca@aurora.alaska.edu\n",
      "Subject: Re: Why not give $1 billion to first year-long moon residents?\n",
      "Article-I.D.: aurora.1993Apr20.141137.1\n",
      "Organization: University of Alaska Fairbanks\n",
      "Lines: 33\n",
      "Nntp-Posting-Host: acad3.alaska.edu\n",
      "\n",
      "In article <1993Apr20.101044.2291@iti.org>, aws@iti.org (Allen W. Sherzer) writes:\n",
      "> In article <1qve4kINNpas@sal-sun121.usc.edu> schaefer@sal-sun121.usc.edu (Peter Schaefer) writes:\n",
      "> \n",
      ">>|> > Announce that a reward of $1 billion would go to the first corporation \n",
      ">>|> > who successfully keeps at least 1 person alive on the moon for a year. \n",
      "> \n",
      ">>Oh gee, a billion dollars!  That'd be just about enough to cover the cost of the\n",
      ">>feasability study!  Happy, Happy, JOY! JOY!\n",
      "> \n",
      "> Depends. If you assume the existance of a working SSTO like DC, on billion\n",
      "> $$ would be enough to put about a quarter million pounds of stuff on the\n",
      "> moon. If some of that mass went to send equipment to make LOX for the\n",
      "> transfer vehicle, you could send a lot more. Either way, its a lot\n",
      "> more than needed.\n",
      "> \n",
      "> This prize isn't big enough to warrent developing a SSTO, but it is\n",
      "> enough to do it if the vehicle exists.\n",
      "> \n",
      ">   Allen\n",
      "> \n",
      "> -- \n",
      "> +---------------------------------------------------------------------------+\n",
      "> | Lady Astor:   \"Sir, if you were my husband I would poison your coffee!\"   |\n",
      "> | W. Churchill: \"Madam, if you were my wife, I would drink it.\"             |\n",
      "> +----------------------57 DAYS TO FIRST FLIGHT OF DCX-----------------------+\n",
      "\n",
      "Or have different classes of competetors.. and made the total purse $6billion\n",
      "or $7billion (depending on how many different classes there are, as in auto\n",
      "racing/motocycle racing and such)..\n",
      "\n",
      "We shall see how things go..\n",
      "==\n",
      "Michael Adams, nsmca@acad3.alaska.edu -- I'm not high, just jacked\n",
      "\n"
     ]
    }
   ],
   "source": [
    "print(dir(dataset))   #  dir permet de lister les attributs et méthodes d'un objet\n",
    "print(\"contenu de l'attribut target: %a\" % dataset.target)\n",
    "print(\"contenu de l'attribut target_names: %a\" % dataset.target_names)\n",
    "\n",
    "print()\n",
    "print()\n",
    "no_doc=10   # essayez avec d'autres textes parmi les 3929 chargés\n",
    "print(\"Document no: %d\" % no_doc)\n",
    "print(\"numéro de catégorie: %d\" % dataset.target[no_doc]) \n",
    "print(\"ce qui correspond au sujet: %s\" % dataset.target_names[dataset.target[no_doc]])\n",
    "print()\n",
    "print(\"Le texte est:\")\n",
    "print()\n",
    "print(dataset.data[no_doc])   # vérifiez que le texte a l'air cohérent avec le sujet"
   ]
  },
  {
   "cell_type": "markdown",
   "metadata": {
    "pycharm": {
     "name": "#%% md\n"
    }
   },
   "source": [
    "L'objectif est de parvenir à classifier les textes du corpus par sujet, en supposant bien entendu que l'on ne connaisse pas le newsgroup d'appartenance. On va donc chercher une classification non-supervisée sur les textes stockés dans `dataset.data`, l'information dans `dataset.target` nous servira uniquement pour vérifier à la fin le résultat de notre classification.\n",
    "\n",
    "Les algorithmes de clustering traitent des points dans un espace (vectoriel) muni d'une distance. La première étape est donc de transformer chaque texte en un vecteur.\n",
    "\n",
    "Une approche standard dans le domaine de la fouille de textes est la transformation TF-IDF, décrite [sur wikipedia](https://en.wikipedia.org/wiki/TF-IDF) (lisez le début de la page).\n",
    "\n",
    "Il y a deux étapes: \n",
    "* on considère un sous-ensemble des mots présents dans tous les textes à classifier (un \"sac de mots\", défini ci-dessous), et on calcule pour chaque texte la fréquence d'occurrences de chacun des mots du vocabulaire: à ce stade chaque texte est représenté par un vecteur de fréquences (étape TF: _term frequency_)\n",
    "* les vecteurs sont normalisés de manière à ce que les mots présents dans beaucoup de textes du corpus (donc peu discriminants) aient un poids plus faible dans le vecteur représentant un texte (étape IDF: _inverse document frequency_). Intuitivement, si un mot apparaît fréquemment dans un document, son importance pour le sujet à identifier n'est pas la même s'il est de toute façon présent dans tous les documents (indépendamment de leur sujet) ou non. \n",
    "\n",
    "Scikit-learn propose une fonction permettant de calculer la représentation TF-IDF des textes du corpus (plus de détails [ici](https://scikit-learn.org/0.18/modules/feature_extraction.html#text-feature-extraction), complément d'information). Dans la cellule suivante, on associe à chaque texte du corpus un vecteur TF-IDF. Pour former le \"sac de mots\" (_bag of words_) au préalable, on ne tient pas compte des mots trop courants (`max_df`: les mots présents dans plus de 50% des documents sont éliminés) ou trop rares (`min_df`: les mots présents dans moins de deux documents dans le corpus sont éliminés), ainsi que des mots trop courants en anglais (`stop_words`, contenus dans une liste pré-définie). De manière à limiter les temps de calcul (et éviter la malédiction de la dimensionalité, comme on le verra plus tard), on construit des vecteurs de dimension $N$ en ne gardant comme vocabulaire que les $N$ mots les plus fréquents du corpus (on n'utilise pas `min_df`)."
   ]
  },
  {
   "cell_type": "code",
   "execution_count": 4,
   "metadata": {
    "pycharm": {
     "name": "#%%\n"
    }
   },
   "outputs": [
    {
     "name": "stdout",
     "output_type": "stream",
     "text": [
      "nombre de documents représentés 3929\n",
      "nombre de mots dans le vocabulaire 1000\n"
     ]
    }
   ],
   "source": [
    "N=1000\n",
    "vectorizer = TfidfVectorizer(max_features=N,max_df=0.5,stop_words='english')\n",
    "vectors = vectorizer.fit_transform(dataset.data)\n",
    "\n",
    "print(\"nombre de documents représentés %d\" %vectors.shape[0])\n",
    "print(\"nombre de mots dans le vocabulaire %d\" %vectors.shape[1])"
   ]
  },
  {
   "cell_type": "markdown",
   "metadata": {
    "pycharm": {
     "name": "#%% md\n"
    }
   },
   "source": [
    "A ce stade, `vectors[no_doc]` est un vecteur TF_IDF de dimension $N$ représentant le document d'indice $no_{doc}$. \n",
    "\n",
    "Le vocabulaire extrait est le suivant (essayez aussi sans `stop_words='english'` dans la cellule précédente, et différentes valeurs de $N$):"
   ]
  },
  {
   "cell_type": "code",
   "execution_count": 5,
   "metadata": {
    "scrolled": false,
    "pycharm": {
     "name": "#%%\n"
    }
   },
   "outputs": [
    {
     "name": "stdout",
     "output_type": "stream",
     "text": [
      "{'scott': 792, 'fly': 359, 'rule': 769, 'college': 216, 'ny': 618, '16': 18, 'question': 722, 'believe': 156, 'does': 300, 'deal': 275, 'situation': 820, 'ball': 145, 'advance': 91, 'point': 682, 'leave': 508, 'base': 147, 'early': 312, 'hits': 425, 'ground': 401, 'appreciated': 121, 'com': 221, 'mark': 555, 'robert': 762, 'just': 486, 'love': 537, 'video': 948, 'red': 741, '100': 9, 'order': 635, 'don': 303, 'mike': 572, 'cc': 196, 'columbia': 220, 'michael': 571, 'jack': 470, 'morris': 589, 'nntp': 611, 'posting': 689, 'host': 431, 'reply': 747, 'university': 921, '44': 62, 'article': 128, 'ca': 184, 'writes': 985, 'cs': 259, 'cornell': 248, 'ted': 875, 'greg': 400, 'lost': 534, 'bit': 163, 'edge': 317, 'start': 850, 'years': 993, 'ago': 94, 'average': 141, 'year': 992, 'goes': 390, 'better': 160, 'good': 392, 'bad': 144, 'yes': 994, 'run': 770, 'gives': 388, 'said': 774, 'boston': 174, 'world': 981, 'series': 803, 'probably': 702, 'hall': 409, 'future': 373, 'say': 782, 'toronto': 903, 'best': 159, 'tell': 877, 'win': 971, 'won': 975, 'division': 299, 'like': 516, 'title': 897, 'think': 887, 'talk': 867, 'fans': 342, 'case': 195, 'left': 510, 'let': 511, 'phillies': 660, 'information': 456, 'systems': 865, '33': 47, 'adobe': 90, 'stanford': 848, 'thanks': 883, 'time': 893, 'baseball': 148, 'rest': 754, 'agree': 95, 'group': 402, 'try': 907, 'newsgroup': 606, 'local': 524, 'use': 927, 'files': 353, 'read': 733, 'throw': 890, 'people': 653, 'include': 449, 'word': 977, 'really': 736, 'nice': 608, 'wrong': 988, 'know': 493, 've': 942, 'wouldn': 983, 'able': 82, 'doesn': 301, 'place': 671, 'public': 719, 'language': 499, 'sorry': 831, 'mind': 577, 'young': 996, 'interested': 462, 'reading': 734, 'prb': 693, 'access': 84, 'digex': 291, 'net': 601, 'pat': 649, 'space': 838, 'hst': 436, 'express': 336, 'online': 628, 'communications': 229, 'usa': 925, '29': 41, 'given': 387, 'mass': 558, 'mission': 579, 'extra': 338, 'quick': 724, 'test': 879, 'faster': 346, 'build': 179, 'real': 735, 'fast': 345, 'using': 934, 'nasa': 594, '13': 13, 'months': 587, 'make': 549, 'need': 598, 'package': 641, 'bus': 181, 'gov': 395, 'david': 270, 'blue': 167, 'news': 605, 'software': 826, 'vax': 941, 'vms': 953, '41': 59, 'research': 752, 'center': 198, 'cleveland': 211, 'ohio': 625, 'following': 361, 'press': 694, 'april': 123, 'station': 854, 'dr': 307, 'recently': 739, 'head': 415, 'government': 396, 'developed': 284, 'lead': 506, 'important': 448, 'america': 104, 'science': 788, 'technology': 874, 'care': 193, 'various': 940, 'team': 871, 'program': 711, 'international': 465, 'asked': 130, 'later': 502, 'date': 268, 'june': 484, 'today': 898, 'mit': 581, 'paul': 650, 'texas': 880, 'houston': 433, 'ed': 316, 'john': 480, 'astro': 132, 'james': 471, 'staff': 846, 'north': 613, 'command': 227, 'state': 853, 'technical': 873, 'sciences': 789, 'national': 595, 'board': 168, 'lee': 509, 'california': 185, 'institute': 460, 'uxa': 938, 'cso': 260, 'uiuc': 913, 'hopkins': 430, 'solar': 827, 'data': 266, 'keywords': 490, 'illinois': 443, '25': 35, 'ac': 83, 'uk': 914, 'andrew': 109, 'eng': 323, 'looking': 530, 'interesting': 463, 'work': 978, 'dept': 280, 'small': 823, 'scale': 785, 'project': 714, 'guy': 406, 'll': 523, 'stuff': 859, 'design': 281, 'working': 979, 'got': 394, 'right': 759, 'way': 962, 'tiff': 892, '42': 60, '30': 43, 'newsreader': 607, 'tin': 895, 'version': 945, 'wrote': 989, 'number': 616, 'finally': 355, 'makes': 550, 'week': 963, 'guide': 405, 'second': 796, 'computer': 235, 'answer': 114, 'life': 514, 'universe': 920, 'actually': 86, 'came': 188, 'took': 900, 'pretty': 695, 'sure': 863, 'launched': 505, 'thing': 885, 'earth': 313, 'ii': 442, 'canada': 189, '18': 20, 'convert': 245, 'file': 352, 'sound': 833, 'currently': 263, 'windows': 972, 'gif': 386, 'original': 637, 'save': 780, 'requires': 751, 'help': 417, 'internet': 466, 'uucp': 937, 'mail': 545, 'box': 175, 'drive': 308, 'graphics': 397, 'ftp': 371, 'site': 818, 'hi': 419, 'getting': 384, 'latest': 503, 'cards': 192, '11': 10, 'cd': 197, 'pub': 718, 'email': 320, 'nsmca': 615, 'aurora': 137, 'alaska': 99, 'billion': 162, 'long': 526, 'moon': 588, '1993apr20': 27, 'org': 636, 'allen': 101, 'usc': 926, 'peter': 657, 'corporation': 250, 'person': 656, 'oh': 624, 'cover': 256, 'cost': 252, 'dc': 274, 'million': 576, 'went': 964, 'send': 801, 'equipment': 326, 'vehicle': 943, 'lot': 535, 'needed': 599, 'isn': 467, 'big': 161, 'days': 273, 'flight': 357, 'different': 290, 'total': 904, 'things': 886, 'high': 421, 'dos': 304, '386': 53, 'jpl': 482, 'joe': 479, 'sale': 775, 'offer': 621, 'jet': 474, 'propulsion': 715, 'laboratory': 497, 'distribution': 298, '24': 34, 'complete': 233, 'new': 604, 'power': 692, 'disk': 295, 'manual': 554, 'color': 217, 'monitor': 586, 'printer': 700, 'interface': 464, 'books': 173, 'programming': 712, 'reasonable': 738, '300': 44, 'disks': 296, 'disclaimer': 294, 'jeff': 473, 'sky': 822, 'oz': 640, 'au': 136, 'message': 569, '20': 29, 'apr': 122, '93': 76, '22': 32, '36': 50, 'gmt': 389, 'colorado': 218, 'low': 538, 'orbit': 633, 'provide': 716, 'launch': 504, 'services': 806, 'bases': 150, '26': 38, 'look': 528, 'environment': 325, 'costs': 253, 'certainly': 199, 'sounds': 834, 'idea': 440, 'didn': 287, 'night': 609, 'great': 398, 'light': 515, 'day': 272, 'effect': 318, 'venus': 944, 'short': 811, 'groups': 403, 'imagine': 446, 'looks': 531, 'viewer': 950, 'output': 639, 'kind': 491, 'postscript': 690, 'thank': 882, 'voice': 954, 'fax': 347, 'yankees': 991, 'home': 428, '14': 15, 'says': 784, 'ask': 129, 'bob': 169, 'paper': 645, 'single': 817, 'comes': 223, 'format': 364, 'summary': 860, 'exactly': 331, '03': 4, 'department': 279, 'electronic': 319, 'engineering': 324, 'australia': 138, 'american': 105, 'development': 285, 'corp': 249, 'west': 965, 'seen': 798, 'similar': 814, 'chicago': 206, 'tv': 909, 'maybe': 562, 'business': 182, 'game': 375, 'times': 894, 'money': 585, 'rate': 730, 'going': 391, 'product': 709, 'ibm': 439, 'problems': 706, 'major': 548, 'league': 507, 'far': 344, 'trying': 908, 'play': 675, 'card': 191, 'soon': 830, 'mets': 570, 'mailing': 546, 'list': 520, 'request': 749, '40': 56, 'chris': 207, '19': 21, '1993': 26, '43': 61, 'doing': 302, 'code': 215, 'hardware': 412, 'making': 551, 'result': 755, 'having': 414, 'feel': 349, 'hand': 410, 'support': 862, 'brian': 178, 'comp': 230, 'reason': 737, 'possible': 686, 'takes': 866, 'understand': 917, 'want': 957, 'ideas': 441, 'higher': 422, 'man': 552, 'free': 370, 'ryan': 773, 'scientific': 790, 'computing': 236, 'heard': 416, 'radio': 727, 'runs': 772, '__': 78, '___': 79, 'los': 532, 'angeles': 110, 'difference': 289, 'surface': 864, 'info': 455, 'dec': 276, 'digital': 292, '23': 33, 'ms': 591, 'hp': 434, '400': 57, 'running': 771, 'true': 906, 'machine': 542, 'display': 297, '256': 37, 'colors': 219, 'screen': 793, 'set': 807, 'image': 444, 'ray': 731, 'images': 445, 'pitt': 669, 'rose': 768, 'thought': 889, 'hitting': 427, 'mean': 565, 'hit': 424, '50': 66, 'player': 677, '35': 49, 'career': 194, '15': 16, 'talking': 868, 'batting': 154, 'amiga': 107, 'md': 564, '02': 3, 'unix': 922, 'compatible': 232, 'meg': 567, 'hard': 411, 'ram': 728, 'asking': 131, 'price': 696, 'selling': 800, 'used': 928, 'brand': 176, 'floppy': 358, 'old': 627, 'worth': 982, '250': 36, 'faq': 343, 'network': 603, 'unc': 916, 'questions': 723, 'archive': 124, '04': 5, '01': 2, '39': 54, 'material': 559, 'general': 381, 'usenet': 930, 'bitnet': 164, 'sent': 802, 'available': 140, 'special': 840, 'astronomy': 133, 'called': 186, 'users': 932, 'based': 149, 'sci': 787, 'shuttle': 812, 'post': 687, 'machines': 543, 'posted': 688, 'sites': 819, 'range': 729, 'usually': 935, 'main': 547, 'change': 202, 'body': 170, 'note': 614, 'copies': 246, 'anonymous': 113, 'details': 283, 'line': 519, 'jsc': 483, 'sources': 836, 'satellite': 777, 'related': 744, 'cmu': 214, 'included': 450, 'orbital': 634, '128': 12, '90': 73, 'exploration': 335, 'saying': 783, 'items': 469, 'ron': 766, 'baalke': 143, 'kelvin': 487, 'address': 89, 'example': 332, 'unless': 923, 'remember': 745, 'service': 805, 'fi': 350, 'henry': 418, 'spencer': 843, 'zoo': 998, 'society': 825, 'non': 612, 'large': 500, 'telescope': 876, 'considered': 240, 'works': 980, 'ames': 106, 'including': 452, 'appears': 117, 'missions': 580, 'mil': 573, 'richard': 758, 'satellites': 778, 'useful': 929, 'ken': 488, 'includes': 451, 'report': 748, '10': 8, 'misc': 578, 'current': 262, 'commercial': 228, 'open': 629, 'operations': 630, 'inside': 458, 'type': 910, 'expect': 334, 'fine': 356, 'section': 797, 'fact': 340, 'contact': 241, 'hours': 432, '800': 72, 'write': 984, 'washington': 959, 'programs': 713, 'view': 949, 'basic': 151, 'jpeg': 481, 'msdos': 592, 'zip': 997, 'formats': 365, 'bell': 157, 'did': 286, 'jays': 472, 'players': 678, 'score': 791, 'guys': 407, 'stats': 855, 'pitcher': 666, '21': 31, 'games': 376, 'saw': 781, 'pitch': 665, 'clutch': 213, 'opinions': 632, 'library': 513, 'braves': 177, 'update': 924, 'na': 593, 'duke': 311, 'eric': 328, 'pitchers': 667, 'key': 489, 'away': 142, 'gant': 378, 'bat': 153, 'coming': 226, 'field': 351, 'control': 243, 'frank': 368, 'known': 494, 'alomar': 103, 'class': 210, 'numbers': 617, 'thomas': 888, 'gets': 383, 'era': 327, 'face': 339, 'school': 786, 'standard': 847, 'al': 98, 'performance': 655, 'products': 710, '000': 1, '75': 70, 'miles': 574, 'allow': 102, 'area': 125, '200': 30, 'plus': 680, 'atmosphere': 135, 'rocket': 764, 'starting': 852, 'analysis': 108, 'consider': 239, 'air': 96, 'value': 939, 'company': 231, 'location': 525, '37': 51, 'xv': 990, 'ch': 200, 'late': 501, 'virginia': 951, 'check': 205, '34': 48, 'wanted': 958, 'external': 337, 'mac': 541, 'paid': 643, 'phone': 661, 'hope': 429, 'lab': 496, 'purdue': 720, 'car': 190, 'lots': 536, 'couple': 254, 'remote': 746, 'memory': 568, 'sell': 799, 'black': 166, 'needs': 600, 'conversion': 244, '60': 68, 'forsale': 366, 'sold': 828, 'dave': 269, '91': 74, '1991': 24, '28': 40, 'speed': 842, 'stereo': 856, 'sun': 861, 'condition': 237, 'udel': 911, 'comics': 225, 'ok': 626, 'instead': 459, 'prices': 697, 'simply': 816, 'issue': 468, 'come': 222, 'near': 597, 'hulk': 437, 'vs': 956, 'double': 305, 'size': 821, 'copy': 247, '1st': 28, 'print': 699, 'green': 399, 'dark': 265, '2nd': 42, '70': 69, '1990': 23, 'wolverine': 974, '12': 11, 'annual': 112, '80': 71, 'comet': 224, 'movie': 590, '17': 19, 'force': 362, '48': 64, '49': 65, '32': 46, 'white': 967, '31': 45, 'book': 172, 'rochester': 763, 'dseg': 310, 'ti': 891, 'mccall': 563, 'fred': 369, 'fuel': 372, 'little': 521, 'st': 845, 'pov': 691, 'shareware': 809, 'course': 255, 'server': 804, 'looked': 529, 'knows': 495, 'vga': 947, 'physics': 662, '00': 0, '95': 77, 'spacecraft': 839, 'frame': 367, 'cheap': 204, 'market': 556, 'unit': 918, 'atlanta': 134, 'specific': 841, 'buy': 183, 'problem': 705, '500': 67, 'haven': 413, 'anybody': 116, 'required': 750, 'create': 258, 'netcom': 602, '408': 58, 'pc': 652, 'pitching': 668, 'math': 560, 'cis': 208, '45': 63, 'level': 512, 'rbi': 732, 'individual': 454, 'position': 685, 'half': 408, 'indiana': 453, 'mode': 582, 'quality': 721, 'utexas': 936, 'algorithm': 100, 'titan': 896, 'gamma': 377, 'energy': 322, 'form': 363, 'instruments': 461, 'ufl': 912, 'jhu': 476, 'steve': 857, 'smith': 824, 'chance': 201, 'season': 795, 'hitter': 426, 'defense': 277, 'wasn': 960, 'close': 212, 'solid': 829, 'longer': 527, 'playing': 679, 'stop': 858, 'park': 646, 'tom': 899, 'likely': 517, 'winning': 973, 'teams': 872, 'quite': 726, 'record': 740, 'aren': 126, 'end': 321, 'started': 851, 'baltimore': 146, 'roger': 765, 'york': 995, 'city': 209, 'george': 382, 'cubs': 261, 'past': 648, 'san': 776, 'diego': 288, 'bonds': 171, 'univ': 919, 'jim': 477, 'job': 478, 'siggraph': 813, 'author': 139, 'road': 760, 'originator': 638, 'office': 623, 'manager': 553, 'loss': 533, 'user': 931, 'means': 566, 'watch': 961, 'sox': 837, 'history': 423, 'mars': 557, 'model': 583, 'features': 348, 'caltech': 187, 'visualization': 952, 'animation': 111, 'jupiter': 485, 'particular': 647, 'planetary': 673, 'return': 757, '_____': 80, 'written': 987, 'correct': 251, 'results': 756, 'matter': 561, 'star': 849, 'uses': 933, '1992': 25, '92': 75, '27': 39, 'guess': 404, 'added': 88, 'built': 180, 'land': 498, 'tar': 870, 'east': 314, 'palmer': 644, 'gary': 379, 'nl': 610, 'age': 93, 'king': 492, 'spot': 844, 'giants': 385, 'williams': 969, 'simple': 815, 'davis': 271, 'zoology': 999, 'aix': 97, 'ab': 81, 'error': 329, 'easy': 315, 'excellent': 333, 'princeton': 698, 'wondering': 976, 'process': 707, 'perfect': 654, 'live': 522, 'fnal': 360, 'room': 767, 'willing': 970, 'pictures': 664, 'objects': 620, 'western': 966, 'hr': 435, 'sort': 832, 'reds': 742, 'degrees': 278, '150': 17, '38': 52, 'played': 676, 'rob': 761, 'add': 87, 'object': 619, 'source': 835, 'reference': 743, 'answers': 115, 'fan': 341, 'craig': 257, 'offers': 622, 'umd': 915, 'text': 881, 'basically': 152, 'volume': 955, 'opinion': 631, 'input': 457, 'shipping': 810, 'higgins': 420, 'modem': 584, 'tool': 901, 'bbs': 155, 'trade': 905, 'limited': 518, 'pixel': 670, 'writing': 986, 'navy': 596, 'especially': 330, 'pay': 651, '3d': 55, 'picture': 663, 'wide': 968, 'provides': 717, 'final': 354, 'packages': 642, 'human': 438, 'points': 683, 'changes': 203, 'cut': 264, 'theory': 884, 'designed': 282, 'application': 119, 'applications': 120, 'resolution': 753, 'doug': 306, 'tape': 869, 'bits': 165, '130': 14, 'art': 127, 'database': 267, 'advanced': 92, 'directory': 293, 'contains': 242, 'vesa': 946, 'military': 575, 'phigs': 658, 'processing': 708, '1988': 22, 'polygon': 684, 'ma': 540, 'macintosh': 544, 'apple': 118, '06': 7, 'imaging': 447, 'sgi': 808, 'tools': 902, 'compression': 234, 'berkeley': 158, 'probe': 703, 'saturn': 779, 'conference': 238, 'acs': 85, 'jewish': 475, 'gatech': 380, 'search': 794, 'philadelphia': 659, 'term': 878, 'driver': 309, 'planets': 674, 'probes': 704, 'planet': 672, '05': 6, 'lunar': 539, 'pluto': 681, 'prism': 701, 'galileo': 374, 'quicktime': 725, 'gopher': 393}\n"
     ]
    }
   ],
   "source": [
    "print(vectorizer.vocabulary_)"
   ]
  },
  {
   "cell_type": "markdown",
   "metadata": {
    "pycharm": {
     "name": "#%% md\n"
    }
   },
   "source": [
    "A titre illustratif, le code suivant représente le vecteur associé à quatre documents: en ordonnée on voit la statistique TF-IDF, en abscisse le numéro du mot dans le \"sac de mots\". (pas besoin de comprendre la syntaxe)"
   ]
  },
  {
   "cell_type": "code",
   "execution_count": 6,
   "metadata": {
    "pycharm": {
     "name": "#%%\n"
    }
   },
   "outputs": [
    {
     "data": {
      "text/plain": "<Figure size 432x288 with 1 Axes>",
      "image/png": "[encoded data removed]"
     },
     "metadata": {
      "needs_background": "light"
     },
     "output_type": "display_data"
    },
    {
     "data": {
      "text/plain": "<Figure size 432x288 with 1 Axes>",
      "image/png": "[encoded data removed]"
     },
     "metadata": {
      "needs_background": "light"
     },
     "output_type": "display_data"
    },
    {
     "data": {
      "text/plain": "<Figure size 432x288 with 1 Axes>",
      "image/png": "[encoded data removed]"
     },
     "metadata": {
      "needs_background": "light"
     },
     "output_type": "display_data"
    },
    {
     "data": {
      "text/plain": "<Figure size 432x288 with 1 Axes>",
      "image/png": "[encoded data removed]"
     },
     "metadata": {
      "needs_background": "light"
     },
     "output_type": "display_data"
    }
   ],
   "source": [
    "# l'affichage peut prendre un peu de temps\n",
    "\n",
    "plt.figure();\n",
    "no_doc=10\n",
    "plt.bar(np.arange(N),np.asarray(vectors[no_doc].todense())[0],width=10);\n",
    "plt.title(\"sujet:\"+dataset.target_names[dataset.target[no_doc]]);\n",
    "\n",
    "plt.figure();\n",
    "no_doc=100\n",
    "plt.bar(np.arange(N),np.asarray(vectors[no_doc].todense())[0],width=10);\n",
    "plt.title(\"sujet:\"+dataset.target_names[dataset.target[no_doc]]);\n",
    "\n",
    "plt.figure();\n",
    "no_doc=50\n",
    "plt.bar(np.arange(N),np.asarray(vectors[no_doc].todense())[0],width=10);\n",
    "plt.title(\"sujet:\"+dataset.target_names[dataset.target[no_doc]]);\n",
    "\n",
    "plt.figure();\n",
    "no_doc=1000\n",
    "plt.bar(np.arange(N),np.asarray(vectors[no_doc].todense())[0],width=10);\n",
    "plt.title(\"sujet:\"+dataset.target_names[dataset.target[no_doc]]);"
   ]
  },
  {
   "cell_type": "markdown",
   "metadata": {
    "pycharm": {
     "name": "#%% md\n"
    }
   },
   "source": [
    "<br>\n",
    "\n",
    "__Travail à faire__: utilisez les algorithmes de classification hiérarchique (single-linkage, Ward) et k-means pour classifier les vecteurs TF-IDF (donc les textes) en quatre classes. Les `labels` (valeurs entre 0 et 3) calculés pour chaque vecteur TF-IDF correspondent au numéro de la classe identifiée.\n",
    "\n",
    "On utilisera `AgglomerativeClustering` avec les options `linkage='single'` et `linkage='ward'` (cf __[documentation](https://scikit-learn.org/stable/modules/generated/sklearn.cluster.AgglomerativeClustering.html)__ et MiniBatchKmeans (cf __[documentation](https://scikit-learn.org/stable/modules/generated/sklearn.cluster.MiniBatchKMeans.html)__)."
   ]
  },
  {
   "cell_type": "code",
   "execution_count": 7,
   "metadata": {
    "pycharm": {
     "name": "#%%\n"
    }
   },
   "outputs": [],
   "source": [
    "# votre code:\n",
    "# Labels single :\n",
    "clusterSingle = AgglomerativeClustering(n_clusters=)\n"
   ]
  },
  {
   "cell_type": "markdown",
   "metadata": {
    "pycharm": {
     "name": "#%% md\n"
    }
   },
   "source": [
    "Observez les différences de temps de calcul (obtenus en faisant la différence entre les valeurs retournées par `time.time()`).\n",
    "\n",
    "<br>\n",
    "\n",
    "Nous cherchons à présent à valider les classifications obtenues. La difficulté dans une classification non-supervisée est que les labels calculés sont arbitraires: le label 0 d'une classification n'a pas de raison de correspondre au \"vrai\" label 0. Commencez par afficher les labels attribués par chaque méthode aux 30 premiers textes:"
   ]
  },
  {
   "cell_type": "code",
   "execution_count": 8,
   "metadata": {
    "pycharm": {
     "name": "#%%\n"
    }
   },
   "outputs": [],
   "source": [
    "# votre code:\n"
   ]
  },
  {
   "cell_type": "markdown",
   "metadata": {
    "pycharm": {
     "name": "#%% md\n"
    }
   },
   "source": [
    "On dispose des [matrices de confusion](https://scikit-learn.org/0.17/modules/generated/sklearn.metrics.confusion_matrix.html) (à lire)\n",
    "\n",
    "Que peut-on dire des résultats suivants?"
   ]
  },
  {
   "cell_type": "code",
   "execution_count": 9,
   "metadata": {
    "pycharm": {
     "name": "#%%\n"
    }
   },
   "outputs": [
    {
     "name": "stdout",
     "output_type": "stream",
     "text": [
      "matrice de confusion pour 'single-linkage':\n"
     ]
    },
    {
     "ename": "NameError",
     "evalue": "name 'labels_single' is not defined",
     "output_type": "error",
     "traceback": [
      "\u001B[1;31m---------------------------------------------------------------------------\u001B[0m",
      "\u001B[1;31mNameError\u001B[0m                                 Traceback (most recent call last)",
      "Input \u001B[1;32mIn [9]\u001B[0m, in \u001B[0;36m<cell line: 3>\u001B[1;34m()\u001B[0m\n\u001B[0;32m      1\u001B[0m \u001B[38;5;28;01mfrom\u001B[39;00m \u001B[38;5;21;01msklearn\u001B[39;00m\u001B[38;5;21;01m.\u001B[39;00m\u001B[38;5;21;01mmetrics\u001B[39;00m \u001B[38;5;28;01mimport\u001B[39;00m confusion_matrix\n\u001B[0;32m      2\u001B[0m \u001B[38;5;28mprint\u001B[39m(\u001B[38;5;124m\"\u001B[39m\u001B[38;5;124mmatrice de confusion pour \u001B[39m\u001B[38;5;124m'\u001B[39m\u001B[38;5;124msingle-linkage\u001B[39m\u001B[38;5;124m'\u001B[39m\u001B[38;5;124m:\u001B[39m\u001B[38;5;124m\"\u001B[39m)\n\u001B[1;32m----> 3\u001B[0m \u001B[38;5;28mprint\u001B[39m(confusion_matrix(dataset\u001B[38;5;241m.\u001B[39mtarget,\u001B[43mlabels_single\u001B[49m))\n\u001B[0;32m      4\u001B[0m plt\u001B[38;5;241m.\u001B[39mfigure()\n\u001B[0;32m      5\u001B[0m plt\u001B[38;5;241m.\u001B[39mimshow(confusion_matrix(dataset\u001B[38;5;241m.\u001B[39mtarget,labels_single))  \u001B[38;5;66;03m# représentation visuelle\u001B[39;00m\n",
      "\u001B[1;31mNameError\u001B[0m: name 'labels_single' is not defined"
     ]
    }
   ],
   "source": [
    "from sklearn.metrics import confusion_matrix\n",
    "print(\"matrice de confusion pour 'single-linkage':\")\n",
    "print(confusion_matrix(dataset.target,labels_single))\n",
    "plt.figure()\n",
    "plt.imshow(confusion_matrix(dataset.target,labels_single))  # représentation visuelle\n",
    "plt.colorbar();\n",
    "print()\n",
    "print(\"matrice de confusion pour 'Ward':\")\n",
    "print(confusion_matrix(dataset.target,labels_ward))\n",
    "plt.figure()\n",
    "plt.imshow(confusion_matrix(dataset.target,labels_ward))  # représentation visuelle\n",
    "plt.colorbar();\n",
    "print()\n",
    "print(\"matrice de confusion pour 'KMeans':\")\n",
    "print(confusion_matrix(dataset.target,labels_KM))\n",
    "plt.figure()\n",
    "plt.imshow(confusion_matrix(dataset.target,labels_KM))  # représentation visuelle\n",
    "plt.colorbar();"
   ]
  },
  {
   "cell_type": "markdown",
   "metadata": {
    "pycharm": {
     "name": "#%% md\n"
    }
   },
   "source": [
    "### Pour les plus rapides\n",
    "\n",
    "Testez l'algorithme avec une valeur grande de $N$ (taille du sac de mots, et aussi dimensionnalité de la représentation TF-IDF de chaque texte), et avec une valeur faible. Qu'en conclure? \n",
    "\n",
    "Essayez également d'identifier plus de quatre sujets. Représentez le _elbow plot_ pour les K-means.\n",
    "\n",
    "Etendez vos résultats à l'ensemble du jeu de données `20newsgroups`.\n"
   ]
  },
  {
   "cell_type": "code",
   "execution_count": null,
   "metadata": {
    "pycharm": {
     "name": "#%%\n"
    }
   },
   "outputs": [],
   "source": []
  }
 ],
 "metadata": {
  "kernelspec": {
   "display_name": "Python 3",
   "language": "python",
   "name": "python3"
  },
  "language_info": {
   "codemirror_mode": {
    "name": "ipython",
    "version": 3
   },
   "file_extension": ".py",
   "mimetype": "text/x-python",
   "name": "python",
   "nbconvert_exporter": "python",
   "pygments_lexer": "ipython3",
   "version": "3.7.4"
  }
 },
 "nbformat": 4,
 "nbformat_minor": 2
}