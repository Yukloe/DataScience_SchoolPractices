{
 "cells": [
  {
   "cell_type": "code",
   "execution_count": 1,
   "metadata": {
    "pycharm": {
     "name": "#%%\n"
    }
   },
   "outputs": [],
   "source": [
    "import pandas as pd\n",
    "import numpy as np\n",
    "import matplotlib.pyplot as plt\n",
    "from sklearn import preprocessing\n",
    "from sklearn.preprocessing import MinMaxScaler\n",
    "from sklearn.cluster import KMeans"
   ]
  },
  {
   "cell_type": "code",
   "execution_count": 2,
   "metadata": {
    "pycharm": {
     "name": "#%%\n"
    }
   },
   "outputs": [],
   "source": [
    "DF = pd.read_csv('Mall_Customers.csv', encoding = 'utf-8')"
   ]
  },
  {
   "cell_type": "code",
   "execution_count": 3,
   "metadata": {
    "pycharm": {
     "name": "#%%\n"
    }
   },
   "outputs": [
    {
     "data": {
      "text/html": [
       "<div>\n",
       "<style scoped>\n",
       "    .dataframe tbody tr th:only-of-type {\n",
       "        vertical-align: middle;\n",
       "    }\n",
       "\n",
       "    .dataframe tbody tr th {\n",
       "        vertical-align: top;\n",
       "    }\n",
       "\n",
       "    .dataframe thead th {\n",
       "        text-align: right;\n",
       "    }\n",
       "</style>\n",
       "<table border=\"1\" class=\"dataframe\">\n",
       "  <thead>\n",
       "    <tr style=\"text-align: right;\">\n",
       "      <th></th>\n",
       "      <th>CustomerID</th>\n",
       "      <th>Genre</th>\n",
       "      <th>Age</th>\n",
       "      <th>Annual Income (k$)</th>\n",
       "      <th>Spending Score (1-100)</th>\n",
       "    </tr>\n",
       "  </thead>\n",
       "  <tbody>\n",
       "    <tr>\n",
       "      <th>0</th>\n",
       "      <td>1</td>\n",
       "      <td>Male</td>\n",
       "      <td>19</td>\n",
       "      <td>15</td>\n",
       "      <td>39</td>\n",
       "    </tr>\n",
       "    <tr>\n",
       "      <th>1</th>\n",
       "      <td>2</td>\n",
       "      <td>Male</td>\n",
       "      <td>21</td>\n",
       "      <td>15</td>\n",
       "      <td>81</td>\n",
       "    </tr>\n",
       "    <tr>\n",
       "      <th>2</th>\n",
       "      <td>3</td>\n",
       "      <td>Female</td>\n",
       "      <td>20</td>\n",
       "      <td>16</td>\n",
       "      <td>6</td>\n",
       "    </tr>\n",
       "    <tr>\n",
       "      <th>3</th>\n",
       "      <td>4</td>\n",
       "      <td>Female</td>\n",
       "      <td>23</td>\n",
       "      <td>16</td>\n",
       "      <td>77</td>\n",
       "    </tr>\n",
       "    <tr>\n",
       "      <th>4</th>\n",
       "      <td>5</td>\n",
       "      <td>Female</td>\n",
       "      <td>31</td>\n",
       "      <td>17</td>\n",
       "      <td>40</td>\n",
       "    </tr>\n",
       "    <tr>\n",
       "      <th>...</th>\n",
       "      <td>...</td>\n",
       "      <td>...</td>\n",
       "      <td>...</td>\n",
       "      <td>...</td>\n",
       "      <td>...</td>\n",
       "    </tr>\n",
       "    <tr>\n",
       "      <th>195</th>\n",
       "      <td>196</td>\n",
       "      <td>Female</td>\n",
       "      <td>35</td>\n",
       "      <td>120</td>\n",
       "      <td>79</td>\n",
       "    </tr>\n",
       "    <tr>\n",
       "      <th>196</th>\n",
       "      <td>197</td>\n",
       "      <td>Female</td>\n",
       "      <td>45</td>\n",
       "      <td>126</td>\n",
       "      <td>28</td>\n",
       "    </tr>\n",
       "    <tr>\n",
       "      <th>197</th>\n",
       "      <td>198</td>\n",
       "      <td>Male</td>\n",
       "      <td>32</td>\n",
       "      <td>126</td>\n",
       "      <td>74</td>\n",
       "    </tr>\n",
       "    <tr>\n",
       "      <th>198</th>\n",
       "      <td>199</td>\n",
       "      <td>Male</td>\n",
       "      <td>32</td>\n",
       "      <td>137</td>\n",
       "      <td>18</td>\n",
       "    </tr>\n",
       "    <tr>\n",
       "      <th>199</th>\n",
       "      <td>200</td>\n",
       "      <td>Male</td>\n",
       "      <td>30</td>\n",
       "      <td>137</td>\n",
       "      <td>83</td>\n",
       "    </tr>\n",
       "  </tbody>\n",
       "</table>\n",
       "<p>200 rows × 5 columns</p>\n",
       "</div>"
      ],
      "text/plain": [
       "     CustomerID   Genre  Age  Annual Income (k$)  Spending Score (1-100)\n",
       "0             1    Male   19                  15                      39\n",
       "1             2    Male   21                  15                      81\n",
       "2             3  Female   20                  16                       6\n",
       "3             4  Female   23                  16                      77\n",
       "4             5  Female   31                  17                      40\n",
       "..          ...     ...  ...                 ...                     ...\n",
       "195         196  Female   35                 120                      79\n",
       "196         197  Female   45                 126                      28\n",
       "197         198    Male   32                 126                      74\n",
       "198         199    Male   32                 137                      18\n",
       "199         200    Male   30                 137                      83\n",
       "\n",
       "[200 rows x 5 columns]"
      ]
     },
     "execution_count": 3,
     "metadata": {},
     "output_type": "execute_result"
    }
   ],
   "source": [
    "DF"
   ]
  },
  {
   "cell_type": "code",
   "execution_count": 4,
   "metadata": {
    "pycharm": {
     "name": "#%%\n"
    }
   },
   "outputs": [
    {
     "data": {
      "text/html": [
       "<div>\n",
       "<style scoped>\n",
       "    .dataframe tbody tr th:only-of-type {\n",
       "        vertical-align: middle;\n",
       "    }\n",
       "\n",
       "    .dataframe tbody tr th {\n",
       "        vertical-align: top;\n",
       "    }\n",
       "\n",
       "    .dataframe thead th {\n",
       "        text-align: right;\n",
       "    }\n",
       "</style>\n",
       "<table border=\"1\" class=\"dataframe\">\n",
       "  <thead>\n",
       "    <tr style=\"text-align: right;\">\n",
       "      <th></th>\n",
       "      <th>CustomerID</th>\n",
       "      <th>Age</th>\n",
       "      <th>Annual Income (k$)</th>\n",
       "      <th>Spending Score (1-100)</th>\n",
       "    </tr>\n",
       "  </thead>\n",
       "  <tbody>\n",
       "    <tr>\n",
       "      <th>count</th>\n",
       "      <td>200.000000</td>\n",
       "      <td>200.000000</td>\n",
       "      <td>200.000000</td>\n",
       "      <td>200.000000</td>\n",
       "    </tr>\n",
       "    <tr>\n",
       "      <th>mean</th>\n",
       "      <td>100.500000</td>\n",
       "      <td>38.850000</td>\n",
       "      <td>60.560000</td>\n",
       "      <td>50.200000</td>\n",
       "    </tr>\n",
       "    <tr>\n",
       "      <th>std</th>\n",
       "      <td>57.879185</td>\n",
       "      <td>13.969007</td>\n",
       "      <td>26.264721</td>\n",
       "      <td>25.823522</td>\n",
       "    </tr>\n",
       "    <tr>\n",
       "      <th>min</th>\n",
       "      <td>1.000000</td>\n",
       "      <td>18.000000</td>\n",
       "      <td>15.000000</td>\n",
       "      <td>1.000000</td>\n",
       "    </tr>\n",
       "    <tr>\n",
       "      <th>25%</th>\n",
       "      <td>50.750000</td>\n",
       "      <td>28.750000</td>\n",
       "      <td>41.500000</td>\n",
       "      <td>34.750000</td>\n",
       "    </tr>\n",
       "    <tr>\n",
       "      <th>50%</th>\n",
       "      <td>100.500000</td>\n",
       "      <td>36.000000</td>\n",
       "      <td>61.500000</td>\n",
       "      <td>50.000000</td>\n",
       "    </tr>\n",
       "    <tr>\n",
       "      <th>75%</th>\n",
       "      <td>150.250000</td>\n",
       "      <td>49.000000</td>\n",
       "      <td>78.000000</td>\n",
       "      <td>73.000000</td>\n",
       "    </tr>\n",
       "    <tr>\n",
       "      <th>max</th>\n",
       "      <td>200.000000</td>\n",
       "      <td>70.000000</td>\n",
       "      <td>137.000000</td>\n",
       "      <td>99.000000</td>\n",
       "    </tr>\n",
       "  </tbody>\n",
       "</table>\n",
       "</div>"
      ],
      "text/plain": [
       "       CustomerID         Age  Annual Income (k$)  Spending Score (1-100)\n",
       "count  200.000000  200.000000          200.000000              200.000000\n",
       "mean   100.500000   38.850000           60.560000               50.200000\n",
       "std     57.879185   13.969007           26.264721               25.823522\n",
       "min      1.000000   18.000000           15.000000                1.000000\n",
       "25%     50.750000   28.750000           41.500000               34.750000\n",
       "50%    100.500000   36.000000           61.500000               50.000000\n",
       "75%    150.250000   49.000000           78.000000               73.000000\n",
       "max    200.000000   70.000000          137.000000               99.000000"
      ]
     },
     "execution_count": 4,
     "metadata": {},
     "output_type": "execute_result"
    }
   ],
   "source": [
    "DF.describe()"
   ]
  },
  {
   "cell_type": "code",
   "execution_count": 5,
   "metadata": {
    "pycharm": {
     "name": "#%%\n"
    }
   },
   "outputs": [],
   "source": [
    "# Getting only the numeric features from the dataset\n",
    "DF_ARRAY = np.array(DF.iloc[:,2:5]) "
   ]
  },
  {
   "cell_type": "code",
   "execution_count": 6,
   "metadata": {
    "pycharm": {
     "name": "#%%\n"
    }
   },
   "outputs": [
    {
     "data": {
      "text/plain": [
       "array([[ 19,  15,  39],\n",
       "       [ 21,  15,  81],\n",
       "       [ 20,  16,   6],\n",
       "       [ 23,  16,  77],\n",
       "       [ 31,  17,  40],\n",
       "       [ 22,  17,  76],\n",
       "       [ 35,  18,   6],\n",
       "       [ 23,  18,  94],\n",
       "       [ 64,  19,   3],\n",
       "       [ 30,  19,  72],\n",
       "       [ 67,  19,  14],\n",
       "       [ 35,  19,  99],\n",
       "       [ 58,  20,  15],\n",
       "       [ 24,  20,  77],\n",
       "       [ 37,  20,  13],\n",
       "       [ 22,  20,  79],\n",
       "       [ 35,  21,  35],\n",
       "       [ 20,  21,  66],\n",
       "       [ 52,  23,  29],\n",
       "       [ 35,  23,  98],\n",
       "       [ 35,  24,  35],\n",
       "       [ 25,  24,  73],\n",
       "       [ 46,  25,   5],\n",
       "       [ 31,  25,  73],\n",
       "       [ 54,  28,  14],\n",
       "       [ 29,  28,  82],\n",
       "       [ 45,  28,  32],\n",
       "       [ 35,  28,  61],\n",
       "       [ 40,  29,  31],\n",
       "       [ 23,  29,  87],\n",
       "       [ 60,  30,   4],\n",
       "       [ 21,  30,  73],\n",
       "       [ 53,  33,   4],\n",
       "       [ 18,  33,  92],\n",
       "       [ 49,  33,  14],\n",
       "       [ 21,  33,  81],\n",
       "       [ 42,  34,  17],\n",
       "       [ 30,  34,  73],\n",
       "       [ 36,  37,  26],\n",
       "       [ 20,  37,  75],\n",
       "       [ 65,  38,  35],\n",
       "       [ 24,  38,  92],\n",
       "       [ 48,  39,  36],\n",
       "       [ 31,  39,  61],\n",
       "       [ 49,  39,  28],\n",
       "       [ 24,  39,  65],\n",
       "       [ 50,  40,  55],\n",
       "       [ 27,  40,  47],\n",
       "       [ 29,  40,  42],\n",
       "       [ 31,  40,  42],\n",
       "       [ 49,  42,  52],\n",
       "       [ 33,  42,  60],\n",
       "       [ 31,  43,  54],\n",
       "       [ 59,  43,  60],\n",
       "       [ 50,  43,  45],\n",
       "       [ 47,  43,  41],\n",
       "       [ 51,  44,  50],\n",
       "       [ 69,  44,  46],\n",
       "       [ 27,  46,  51],\n",
       "       [ 53,  46,  46],\n",
       "       [ 70,  46,  56],\n",
       "       [ 19,  46,  55],\n",
       "       [ 67,  47,  52],\n",
       "       [ 54,  47,  59],\n",
       "       [ 63,  48,  51],\n",
       "       [ 18,  48,  59],\n",
       "       [ 43,  48,  50],\n",
       "       [ 68,  48,  48],\n",
       "       [ 19,  48,  59],\n",
       "       [ 32,  48,  47],\n",
       "       [ 70,  49,  55],\n",
       "       [ 47,  49,  42],\n",
       "       [ 60,  50,  49],\n",
       "       [ 60,  50,  56],\n",
       "       [ 59,  54,  47],\n",
       "       [ 26,  54,  54],\n",
       "       [ 45,  54,  53],\n",
       "       [ 40,  54,  48],\n",
       "       [ 23,  54,  52],\n",
       "       [ 49,  54,  42],\n",
       "       [ 57,  54,  51],\n",
       "       [ 38,  54,  55],\n",
       "       [ 67,  54,  41],\n",
       "       [ 46,  54,  44],\n",
       "       [ 21,  54,  57],\n",
       "       [ 48,  54,  46],\n",
       "       [ 55,  57,  58],\n",
       "       [ 22,  57,  55],\n",
       "       [ 34,  58,  60],\n",
       "       [ 50,  58,  46],\n",
       "       [ 68,  59,  55],\n",
       "       [ 18,  59,  41],\n",
       "       [ 48,  60,  49],\n",
       "       [ 40,  60,  40],\n",
       "       [ 32,  60,  42],\n",
       "       [ 24,  60,  52],\n",
       "       [ 47,  60,  47],\n",
       "       [ 27,  60,  50],\n",
       "       [ 48,  61,  42],\n",
       "       [ 20,  61,  49],\n",
       "       [ 23,  62,  41],\n",
       "       [ 49,  62,  48],\n",
       "       [ 67,  62,  59],\n",
       "       [ 26,  62,  55],\n",
       "       [ 49,  62,  56],\n",
       "       [ 21,  62,  42],\n",
       "       [ 66,  63,  50],\n",
       "       [ 54,  63,  46],\n",
       "       [ 68,  63,  43],\n",
       "       [ 66,  63,  48],\n",
       "       [ 65,  63,  52],\n",
       "       [ 19,  63,  54],\n",
       "       [ 38,  64,  42],\n",
       "       [ 19,  64,  46],\n",
       "       [ 18,  65,  48],\n",
       "       [ 19,  65,  50],\n",
       "       [ 63,  65,  43],\n",
       "       [ 49,  65,  59],\n",
       "       [ 51,  67,  43],\n",
       "       [ 50,  67,  57],\n",
       "       [ 27,  67,  56],\n",
       "       [ 38,  67,  40],\n",
       "       [ 40,  69,  58],\n",
       "       [ 39,  69,  91],\n",
       "       [ 23,  70,  29],\n",
       "       [ 31,  70,  77],\n",
       "       [ 43,  71,  35],\n",
       "       [ 40,  71,  95],\n",
       "       [ 59,  71,  11],\n",
       "       [ 38,  71,  75],\n",
       "       [ 47,  71,   9],\n",
       "       [ 39,  71,  75],\n",
       "       [ 25,  72,  34],\n",
       "       [ 31,  72,  71],\n",
       "       [ 20,  73,   5],\n",
       "       [ 29,  73,  88],\n",
       "       [ 44,  73,   7],\n",
       "       [ 32,  73,  73],\n",
       "       [ 19,  74,  10],\n",
       "       [ 35,  74,  72],\n",
       "       [ 57,  75,   5],\n",
       "       [ 32,  75,  93],\n",
       "       [ 28,  76,  40],\n",
       "       [ 32,  76,  87],\n",
       "       [ 25,  77,  12],\n",
       "       [ 28,  77,  97],\n",
       "       [ 48,  77,  36],\n",
       "       [ 32,  77,  74],\n",
       "       [ 34,  78,  22],\n",
       "       [ 34,  78,  90],\n",
       "       [ 43,  78,  17],\n",
       "       [ 39,  78,  88],\n",
       "       [ 44,  78,  20],\n",
       "       [ 38,  78,  76],\n",
       "       [ 47,  78,  16],\n",
       "       [ 27,  78,  89],\n",
       "       [ 37,  78,   1],\n",
       "       [ 30,  78,  78],\n",
       "       [ 34,  78,   1],\n",
       "       [ 30,  78,  73],\n",
       "       [ 56,  79,  35],\n",
       "       [ 29,  79,  83],\n",
       "       [ 19,  81,   5],\n",
       "       [ 31,  81,  93],\n",
       "       [ 50,  85,  26],\n",
       "       [ 36,  85,  75],\n",
       "       [ 42,  86,  20],\n",
       "       [ 33,  86,  95],\n",
       "       [ 36,  87,  27],\n",
       "       [ 32,  87,  63],\n",
       "       [ 40,  87,  13],\n",
       "       [ 28,  87,  75],\n",
       "       [ 36,  87,  10],\n",
       "       [ 36,  87,  92],\n",
       "       [ 52,  88,  13],\n",
       "       [ 30,  88,  86],\n",
       "       [ 58,  88,  15],\n",
       "       [ 27,  88,  69],\n",
       "       [ 59,  93,  14],\n",
       "       [ 35,  93,  90],\n",
       "       [ 37,  97,  32],\n",
       "       [ 32,  97,  86],\n",
       "       [ 46,  98,  15],\n",
       "       [ 29,  98,  88],\n",
       "       [ 41,  99,  39],\n",
       "       [ 30,  99,  97],\n",
       "       [ 54, 101,  24],\n",
       "       [ 28, 101,  68],\n",
       "       [ 41, 103,  17],\n",
       "       [ 36, 103,  85],\n",
       "       [ 34, 103,  23],\n",
       "       [ 32, 103,  69],\n",
       "       [ 33, 113,   8],\n",
       "       [ 38, 113,  91],\n",
       "       [ 47, 120,  16],\n",
       "       [ 35, 120,  79],\n",
       "       [ 45, 126,  28],\n",
       "       [ 32, 126,  74],\n",
       "       [ 32, 137,  18],\n",
       "       [ 30, 137,  83]], dtype=int64)"
      ]
     },
     "execution_count": 6,
     "metadata": {},
     "output_type": "execute_result"
    }
   ],
   "source": [
    "DF_ARRAY"
   ]
  },
  {
   "cell_type": "code",
   "execution_count": 7,
   "metadata": {
    "pycharm": {
     "name": "#%%\n"
    }
   },
   "outputs": [],
   "source": [
    "# Normalizing the data within MinMaxScalar\n",
    "scaler = preprocessing.MinMaxScaler(feature_range=(0, 1))\n",
    "DF_NORM = scaler.fit_transform(DF_ARRAY)"
   ]
  },
  {
   "cell_type": "code",
   "execution_count": 8,
   "metadata": {
    "pycharm": {
     "name": "#%%\n"
    }
   },
   "outputs": [
    {
     "data": {
      "text/plain": [
       "array([[0.01923077, 0.        , 0.3877551 ],\n",
       "       [0.05769231, 0.        , 0.81632653],\n",
       "       [0.03846154, 0.00819672, 0.05102041],\n",
       "       [0.09615385, 0.00819672, 0.7755102 ],\n",
       "       [0.25      , 0.01639344, 0.39795918],\n",
       "       [0.07692308, 0.01639344, 0.76530612],\n",
       "       [0.32692308, 0.02459016, 0.05102041],\n",
       "       [0.09615385, 0.02459016, 0.94897959],\n",
       "       [0.88461538, 0.03278689, 0.02040816],\n",
       "       [0.23076923, 0.03278689, 0.7244898 ],\n",
       "       [0.94230769, 0.03278689, 0.13265306],\n",
       "       [0.32692308, 0.03278689, 1.        ],\n",
       "       [0.76923077, 0.04098361, 0.14285714],\n",
       "       [0.11538462, 0.04098361, 0.7755102 ],\n",
       "       [0.36538462, 0.04098361, 0.12244898],\n",
       "       [0.07692308, 0.04098361, 0.79591837],\n",
       "       [0.32692308, 0.04918033, 0.34693878],\n",
       "       [0.03846154, 0.04918033, 0.66326531],\n",
       "       [0.65384615, 0.06557377, 0.28571429],\n",
       "       [0.32692308, 0.06557377, 0.98979592],\n",
       "       [0.32692308, 0.07377049, 0.34693878],\n",
       "       [0.13461538, 0.07377049, 0.73469388],\n",
       "       [0.53846154, 0.08196721, 0.04081633],\n",
       "       [0.25      , 0.08196721, 0.73469388],\n",
       "       [0.69230769, 0.10655738, 0.13265306],\n",
       "       [0.21153846, 0.10655738, 0.82653061],\n",
       "       [0.51923077, 0.10655738, 0.31632653],\n",
       "       [0.32692308, 0.10655738, 0.6122449 ],\n",
       "       [0.42307692, 0.1147541 , 0.30612245],\n",
       "       [0.09615385, 0.1147541 , 0.87755102],\n",
       "       [0.80769231, 0.12295082, 0.03061224],\n",
       "       [0.05769231, 0.12295082, 0.73469388],\n",
       "       [0.67307692, 0.14754098, 0.03061224],\n",
       "       [0.        , 0.14754098, 0.92857143],\n",
       "       [0.59615385, 0.14754098, 0.13265306],\n",
       "       [0.05769231, 0.14754098, 0.81632653],\n",
       "       [0.46153846, 0.1557377 , 0.16326531],\n",
       "       [0.23076923, 0.1557377 , 0.73469388],\n",
       "       [0.34615385, 0.18032787, 0.25510204],\n",
       "       [0.03846154, 0.18032787, 0.75510204],\n",
       "       [0.90384615, 0.18852459, 0.34693878],\n",
       "       [0.11538462, 0.18852459, 0.92857143],\n",
       "       [0.57692308, 0.19672131, 0.35714286],\n",
       "       [0.25      , 0.19672131, 0.6122449 ],\n",
       "       [0.59615385, 0.19672131, 0.2755102 ],\n",
       "       [0.11538462, 0.19672131, 0.65306122],\n",
       "       [0.61538462, 0.20491803, 0.55102041],\n",
       "       [0.17307692, 0.20491803, 0.46938776],\n",
       "       [0.21153846, 0.20491803, 0.41836735],\n",
       "       [0.25      , 0.20491803, 0.41836735],\n",
       "       [0.59615385, 0.22131148, 0.52040816],\n",
       "       [0.28846154, 0.22131148, 0.60204082],\n",
       "       [0.25      , 0.2295082 , 0.54081633],\n",
       "       [0.78846154, 0.2295082 , 0.60204082],\n",
       "       [0.61538462, 0.2295082 , 0.44897959],\n",
       "       [0.55769231, 0.2295082 , 0.40816327],\n",
       "       [0.63461538, 0.23770492, 0.5       ],\n",
       "       [0.98076923, 0.23770492, 0.45918367],\n",
       "       [0.17307692, 0.25409836, 0.51020408],\n",
       "       [0.67307692, 0.25409836, 0.45918367],\n",
       "       [1.        , 0.25409836, 0.56122449],\n",
       "       [0.01923077, 0.25409836, 0.55102041],\n",
       "       [0.94230769, 0.26229508, 0.52040816],\n",
       "       [0.69230769, 0.26229508, 0.59183673],\n",
       "       [0.86538462, 0.2704918 , 0.51020408],\n",
       "       [0.        , 0.2704918 , 0.59183673],\n",
       "       [0.48076923, 0.2704918 , 0.5       ],\n",
       "       [0.96153846, 0.2704918 , 0.47959184],\n",
       "       [0.01923077, 0.2704918 , 0.59183673],\n",
       "       [0.26923077, 0.2704918 , 0.46938776],\n",
       "       [1.        , 0.27868852, 0.55102041],\n",
       "       [0.55769231, 0.27868852, 0.41836735],\n",
       "       [0.80769231, 0.28688525, 0.48979592],\n",
       "       [0.80769231, 0.28688525, 0.56122449],\n",
       "       [0.78846154, 0.31967213, 0.46938776],\n",
       "       [0.15384615, 0.31967213, 0.54081633],\n",
       "       [0.51923077, 0.31967213, 0.53061224],\n",
       "       [0.42307692, 0.31967213, 0.47959184],\n",
       "       [0.09615385, 0.31967213, 0.52040816],\n",
       "       [0.59615385, 0.31967213, 0.41836735],\n",
       "       [0.75      , 0.31967213, 0.51020408],\n",
       "       [0.38461538, 0.31967213, 0.55102041],\n",
       "       [0.94230769, 0.31967213, 0.40816327],\n",
       "       [0.53846154, 0.31967213, 0.43877551],\n",
       "       [0.05769231, 0.31967213, 0.57142857],\n",
       "       [0.57692308, 0.31967213, 0.45918367],\n",
       "       [0.71153846, 0.3442623 , 0.58163265],\n",
       "       [0.07692308, 0.3442623 , 0.55102041],\n",
       "       [0.30769231, 0.35245902, 0.60204082],\n",
       "       [0.61538462, 0.35245902, 0.45918367],\n",
       "       [0.96153846, 0.36065574, 0.55102041],\n",
       "       [0.        , 0.36065574, 0.40816327],\n",
       "       [0.57692308, 0.36885246, 0.48979592],\n",
       "       [0.42307692, 0.36885246, 0.39795918],\n",
       "       [0.26923077, 0.36885246, 0.41836735],\n",
       "       [0.11538462, 0.36885246, 0.52040816],\n",
       "       [0.55769231, 0.36885246, 0.46938776],\n",
       "       [0.17307692, 0.36885246, 0.5       ],\n",
       "       [0.57692308, 0.37704918, 0.41836735],\n",
       "       [0.03846154, 0.37704918, 0.48979592],\n",
       "       [0.09615385, 0.3852459 , 0.40816327],\n",
       "       [0.59615385, 0.3852459 , 0.47959184],\n",
       "       [0.94230769, 0.3852459 , 0.59183673],\n",
       "       [0.15384615, 0.3852459 , 0.55102041],\n",
       "       [0.59615385, 0.3852459 , 0.56122449],\n",
       "       [0.05769231, 0.3852459 , 0.41836735],\n",
       "       [0.92307692, 0.39344262, 0.5       ],\n",
       "       [0.69230769, 0.39344262, 0.45918367],\n",
       "       [0.96153846, 0.39344262, 0.42857143],\n",
       "       [0.92307692, 0.39344262, 0.47959184],\n",
       "       [0.90384615, 0.39344262, 0.52040816],\n",
       "       [0.01923077, 0.39344262, 0.54081633],\n",
       "       [0.38461538, 0.40163934, 0.41836735],\n",
       "       [0.01923077, 0.40163934, 0.45918367],\n",
       "       [0.        , 0.40983607, 0.47959184],\n",
       "       [0.01923077, 0.40983607, 0.5       ],\n",
       "       [0.86538462, 0.40983607, 0.42857143],\n",
       "       [0.59615385, 0.40983607, 0.59183673],\n",
       "       [0.63461538, 0.42622951, 0.42857143],\n",
       "       [0.61538462, 0.42622951, 0.57142857],\n",
       "       [0.17307692, 0.42622951, 0.56122449],\n",
       "       [0.38461538, 0.42622951, 0.39795918],\n",
       "       [0.42307692, 0.44262295, 0.58163265],\n",
       "       [0.40384615, 0.44262295, 0.91836735],\n",
       "       [0.09615385, 0.45081967, 0.28571429],\n",
       "       [0.25      , 0.45081967, 0.7755102 ],\n",
       "       [0.48076923, 0.45901639, 0.34693878],\n",
       "       [0.42307692, 0.45901639, 0.95918367],\n",
       "       [0.78846154, 0.45901639, 0.10204082],\n",
       "       [0.38461538, 0.45901639, 0.75510204],\n",
       "       [0.55769231, 0.45901639, 0.08163265],\n",
       "       [0.40384615, 0.45901639, 0.75510204],\n",
       "       [0.13461538, 0.46721311, 0.33673469],\n",
       "       [0.25      , 0.46721311, 0.71428571],\n",
       "       [0.03846154, 0.47540984, 0.04081633],\n",
       "       [0.21153846, 0.47540984, 0.8877551 ],\n",
       "       [0.5       , 0.47540984, 0.06122449],\n",
       "       [0.26923077, 0.47540984, 0.73469388],\n",
       "       [0.01923077, 0.48360656, 0.09183673],\n",
       "       [0.32692308, 0.48360656, 0.7244898 ],\n",
       "       [0.75      , 0.49180328, 0.04081633],\n",
       "       [0.26923077, 0.49180328, 0.93877551],\n",
       "       [0.19230769, 0.5       , 0.39795918],\n",
       "       [0.26923077, 0.5       , 0.87755102],\n",
       "       [0.13461538, 0.50819672, 0.1122449 ],\n",
       "       [0.19230769, 0.50819672, 0.97959184],\n",
       "       [0.57692308, 0.50819672, 0.35714286],\n",
       "       [0.26923077, 0.50819672, 0.74489796],\n",
       "       [0.30769231, 0.51639344, 0.21428571],\n",
       "       [0.30769231, 0.51639344, 0.90816327],\n",
       "       [0.48076923, 0.51639344, 0.16326531],\n",
       "       [0.40384615, 0.51639344, 0.8877551 ],\n",
       "       [0.5       , 0.51639344, 0.19387755],\n",
       "       [0.38461538, 0.51639344, 0.76530612],\n",
       "       [0.55769231, 0.51639344, 0.15306122],\n",
       "       [0.17307692, 0.51639344, 0.89795918],\n",
       "       [0.36538462, 0.51639344, 0.        ],\n",
       "       [0.23076923, 0.51639344, 0.78571429],\n",
       "       [0.30769231, 0.51639344, 0.        ],\n",
       "       [0.23076923, 0.51639344, 0.73469388],\n",
       "       [0.73076923, 0.52459016, 0.34693878],\n",
       "       [0.21153846, 0.52459016, 0.83673469],\n",
       "       [0.01923077, 0.54098361, 0.04081633],\n",
       "       [0.25      , 0.54098361, 0.93877551],\n",
       "       [0.61538462, 0.57377049, 0.25510204],\n",
       "       [0.34615385, 0.57377049, 0.75510204],\n",
       "       [0.46153846, 0.58196721, 0.19387755],\n",
       "       [0.28846154, 0.58196721, 0.95918367],\n",
       "       [0.34615385, 0.59016393, 0.26530612],\n",
       "       [0.26923077, 0.59016393, 0.63265306],\n",
       "       [0.42307692, 0.59016393, 0.12244898],\n",
       "       [0.19230769, 0.59016393, 0.75510204],\n",
       "       [0.34615385, 0.59016393, 0.09183673],\n",
       "       [0.34615385, 0.59016393, 0.92857143],\n",
       "       [0.65384615, 0.59836066, 0.12244898],\n",
       "       [0.23076923, 0.59836066, 0.86734694],\n",
       "       [0.76923077, 0.59836066, 0.14285714],\n",
       "       [0.17307692, 0.59836066, 0.69387755],\n",
       "       [0.78846154, 0.63934426, 0.13265306],\n",
       "       [0.32692308, 0.63934426, 0.90816327],\n",
       "       [0.36538462, 0.67213115, 0.31632653],\n",
       "       [0.26923077, 0.67213115, 0.86734694],\n",
       "       [0.53846154, 0.68032787, 0.14285714],\n",
       "       [0.21153846, 0.68032787, 0.8877551 ],\n",
       "       [0.44230769, 0.68852459, 0.3877551 ],\n",
       "       [0.23076923, 0.68852459, 0.97959184],\n",
       "       [0.69230769, 0.70491803, 0.23469388],\n",
       "       [0.19230769, 0.70491803, 0.68367347],\n",
       "       [0.44230769, 0.72131148, 0.16326531],\n",
       "       [0.34615385, 0.72131148, 0.85714286],\n",
       "       [0.30769231, 0.72131148, 0.2244898 ],\n",
       "       [0.26923077, 0.72131148, 0.69387755],\n",
       "       [0.28846154, 0.80327869, 0.07142857],\n",
       "       [0.38461538, 0.80327869, 0.91836735],\n",
       "       [0.55769231, 0.86065574, 0.15306122],\n",
       "       [0.32692308, 0.86065574, 0.79591837],\n",
       "       [0.51923077, 0.90983607, 0.2755102 ],\n",
       "       [0.26923077, 0.90983607, 0.74489796],\n",
       "       [0.26923077, 1.        , 0.17346939],\n",
       "       [0.23076923, 1.        , 0.83673469]])"
      ]
     },
     "execution_count": 8,
     "metadata": {},
     "output_type": "execute_result"
    }
   ],
   "source": [
    "DF_NORM"
   ]
  },
  {
   "cell_type": "code",
   "execution_count": 9,
   "metadata": {
    "pycharm": {
     "name": "#%%\n"
    }
   },
   "outputs": [],
   "source": [
    "# Creating our Model\n",
    "kmeans = KMeans(n_clusters = 3)"
   ]
  },
  {
   "cell_type": "markdown",
   "metadata": {
    "pycharm": {
     "name": "#%% md\n"
    }
   },
   "source": [
    "# Training our model"
   ]
  },
  {
   "cell_type": "code",
   "execution_count": 10,
   "metadata": {
    "pycharm": {
     "name": "#%%\n"
    }
   },
   "outputs": [
    {
     "data": {
      "text/plain": [
       "KMeans(n_clusters=3)"
      ]
     },
     "execution_count": 10,
     "metadata": {},
     "output_type": "execute_result"
    }
   ],
   "source": [
    "kmeans.fit(DF_NORM)"
   ]
  },
  {
   "cell_type": "code",
   "execution_count": 11,
   "metadata": {
    "pycharm": {
     "name": "#%%\n"
    }
   },
   "outputs": [
    {
     "name": "stdout",
     "output_type": "stream",
     "text": [
      "17.370109472896694\n"
     ]
    }
   ],
   "source": [
    "print(kmeans.inertia_)"
   ]
  },
  {
   "cell_type": "code",
   "execution_count": 12,
   "metadata": {
    "pycharm": {
     "name": "#%%\n"
    }
   },
   "outputs": [
    {
     "data": {
      "image/png": "[encoded data removed]",
      "text/plain": [
       "<Figure size 432x288 with 1 Axes>"
      ]
     },
     "metadata": {
      "needs_background": "light"
     },
     "output_type": "display_data"
    }
   ],
   "source": [
    "# Amount of values to be tested for K\n",
    "Ks = range(2, 10)\n",
    "\n",
    "# List to hold on the metrics for each value of K\n",
    "results = []\n",
    "\n",
    "# Executing the loop\n",
    "for K in Ks:\n",
    "    model = KMeans(n_clusters = K)\n",
    "    model.fit(DF_NORM)\n",
    "    results.append(model.inertia_)\n",
    "\n",
    "# Plotting the final result\n",
    "plt.plot(Ks, results, 'o-')\n",
    "plt.xlabel(\"Values of K\")\n",
    "plt.ylabel(\"SSE\")\n",
    "plt.show()"
   ]
  },
  {
   "cell_type": "code",
   "execution_count": 13,
   "metadata": {
    "pycharm": {
     "name": "#%%\n"
    }
   },
   "outputs": [
    {
     "data": {
      "text/plain": [
       "[22.56077488260976,\n",
       " 17.370109472896694,\n",
       " 12.65028767622993,\n",
       " 10.303964892534129,\n",
       " 8.385099035848988,\n",
       " 7.162229912891606,\n",
       " 6.257658128186161,\n",
       " 5.619134794414599]"
      ]
     },
     "execution_count": 13,
     "metadata": {},
     "output_type": "execute_result"
    }
   ],
   "source": [
    "results"
   ]
  }
 ],
 "metadata": {
  "kernelspec": {
   "display_name": "Python 3",
   "language": "python",
   "name": "python3"
  },
  "language_info": {
   "codemirror_mode": {
    "name": "ipython",
    "version": 3
   },
   "file_extension": ".py",
   "mimetype": "text/x-python",
   "name": "python",
   "nbconvert_exporter": "python",
   "pygments_lexer": "ipython3",
   "version": "3.8.5"
  }
 },
 "nbformat": 4,
 "nbformat_minor": 4
}